{
 "cells": [
  {
   "cell_type": "code",
   "execution_count": 1,
   "metadata": {},
   "outputs": [],
   "source": [
    "from konlpy.tag import Mecab\n",
    "import pandas as pd\n",
    "import numpy as np\n",
    "import time\n",
    "import re\n",
    "\n",
    "from sklearn.feature_extraction.text import CountVectorizer"
   ]
  },
  {
   "cell_type": "markdown",
   "metadata": {},
   "source": [
    "### 파일 불러오기"
   ]
  },
  {
   "cell_type": "code",
   "execution_count": 2,
   "metadata": {},
   "outputs": [
    {
     "data": {
      "text/html": [
       "<div>\n",
       "<style scoped>\n",
       "    .dataframe tbody tr th:only-of-type {\n",
       "        vertical-align: middle;\n",
       "    }\n",
       "\n",
       "    .dataframe tbody tr th {\n",
       "        vertical-align: top;\n",
       "    }\n",
       "\n",
       "    .dataframe thead th {\n",
       "        text-align: right;\n",
       "    }\n",
       "</style>\n",
       "<table border=\"1\" class=\"dataframe\">\n",
       "  <thead>\n",
       "    <tr style=\"text-align: right;\">\n",
       "      <th></th>\n",
       "      <th>storeid</th>\n",
       "      <th>Content</th>\n",
       "    </tr>\n",
       "  </thead>\n",
       "  <tbody>\n",
       "    <tr>\n",
       "      <th>0</th>\n",
       "      <td>200000</td>\n",
       "      <td>가야가야서울특별시 서대문구 이화여대5길 7-3전화상세보기&amp;lt;a onclick=\"...</td>\n",
       "    </tr>\n",
       "    <tr>\n",
       "      <th>1</th>\n",
       "      <td>200000</td>\n",
       "      <td>위치가야가야오랜만에 이대에 갈 일이 있어 (이대다니던 여자는 아니구염 ㅋㅋㅋ)제가 ...</td>\n",
       "    </tr>\n",
       "  </tbody>\n",
       "</table>\n",
       "</div>"
      ],
      "text/plain": [
       "   storeid                                            Content\n",
       "0   200000  가야가야서울특별시 서대문구 이화여대5길 7-3전화상세보기&lt;a onclick=\"...\n",
       "1   200000  위치가야가야오랜만에 이대에 갈 일이 있어 (이대다니던 여자는 아니구염 ㅋㅋㅋ)제가 ..."
      ]
     },
     "execution_count": 2,
     "metadata": {},
     "output_type": "execute_result"
    }
   ],
   "source": [
    "reviews = pd.read_csv('./골목식당_reviews.csv', encoding='utf-8')\n",
    "reviews.drop('Unnamed: 0', axis=1, inplace=True)\n",
    "reviews.head(2)"
   ]
  },
  {
   "cell_type": "code",
   "execution_count": 3,
   "metadata": {},
   "outputs": [],
   "source": [
    "def names_review(reviews_df, column_name):\n",
    "    \n",
    "    stop_words = set(['은','는','이','가','하','아','것','들','의','있','그','되','수','보','주','등','한'\n",
    "                      ,'나','같','우리','때','년','지','오','말','일','그렇','위하','때문','그것'\n",
    "                      ,'두','말하','알','그러나','받','일','또','그런','문제','그리고','크','중','나오','가지'\n",
    "                      ,'시키','지금','생각하','그러','속','하나','집','살','적','월','데','자신','안','어떤'\n",
    "                      ,'내','경우','명','생각','시간','그녀','다시','이런','앞','보이','번','나','다른','어떻','전','들'\n",
    "                      ,'사실','이렇','점','싶','말','정도','좀','원','통하','소리','놓'\n",
    "                      ,'error','으로','잇님','잇님들'])\n",
    "    \n",
    "    mecab = Mecab()\n",
    "    vect = CountVectorizer(\n",
    "                            tokenizer=mecab.morphs\n",
    "                            , stop_words=stop_words\n",
    "                          ) \n",
    "    \n",
    "    hangeul = re.compile('[^ ㄱ-ㅣ가-힣]+')\n",
    "    \n",
    "    bow_names_list = []\n",
    "    for i in range(len(reviews_df)):\n",
    "        reviews_df.reset_index(drop=True,inplace=True )\n",
    "        try:                \n",
    "            tmp = [hangeul.sub('',reviews_df.loc[i, column_name])]\n",
    "            vect.fit(tmp)\n",
    "            bow_names = vect.get_feature_names()\n",
    "            bow_names_list.append(bow_names)\n",
    "        \n",
    "        except:\n",
    "            bow_names_list.append('error')\n",
    "        \n",
    "    return bow_names_list"
   ]
  },
  {
   "cell_type": "markdown",
   "metadata": {},
   "source": [
    "### 형태소 분석 실행"
   ]
  },
  {
   "cell_type": "code",
   "execution_count": 4,
   "metadata": {},
   "outputs": [
    {
     "name": "stderr",
     "output_type": "stream",
     "text": [
      "/anaconda3/envs/text_anal/lib/python3.6/site-packages/sklearn/feature_extraction/text.py:300: UserWarning: Your stop_words may be inconsistent with your preprocessing. Tokenizing the stop words generated tokens ['님', '잇'] not in stop_words.\n",
      "  'stop_words.' % sorted(inconsistent))\n"
     ]
    },
    {
     "name": "stdout",
     "output_type": "stream",
     "text": [
      "CPU times: user 3.25 s, sys: 117 ms, total: 3.37 s\n",
      "Wall time: 3.61 s\n"
     ]
    }
   ],
   "source": [
    "%%time\n",
    "\n",
    "names = names_review(reviews, \"Content\")\n",
    "reviews['mecab'] = names"
   ]
  },
  {
   "cell_type": "code",
   "execution_count": 6,
   "metadata": {},
   "outputs": [
    {
     "data": {
      "text/html": [
       "<div>\n",
       "<style scoped>\n",
       "    .dataframe tbody tr th:only-of-type {\n",
       "        vertical-align: middle;\n",
       "    }\n",
       "\n",
       "    .dataframe tbody tr th {\n",
       "        vertical-align: top;\n",
       "    }\n",
       "\n",
       "    .dataframe thead th {\n",
       "        text-align: right;\n",
       "    }\n",
       "</style>\n",
       "<table border=\"1\" class=\"dataframe\">\n",
       "  <thead>\n",
       "    <tr style=\"text-align: right;\">\n",
       "      <th></th>\n",
       "      <th>storeid</th>\n",
       "      <th>Content</th>\n",
       "      <th>mecab</th>\n",
       "    </tr>\n",
       "  </thead>\n",
       "  <tbody>\n",
       "    <tr>\n",
       "      <th>0</th>\n",
       "      <td>200000</td>\n",
       "      <td>가야가야서울특별시 서대문구 이화여대5길 7-3전화상세보기&amp;lt;a onclick=\"...</td>\n",
       "      <td>[ㅠ시원한, 고, 기, 길, 냉, 너무, 던, 도, 뜨끈, 라멘, 맛있, 매콤, 배...</td>\n",
       "    </tr>\n",
       "    <tr>\n",
       "      <th>1</th>\n",
       "      <td>200000</td>\n",
       "      <td>위치가야가야오랜만에 이대에 갈 일이 있어 (이대다니던 여자는 아니구염 ㅋㅋㅋ)제가 ...</td>\n",
       "      <td>[ㄷ, ㅋ, ㅋㅋ, ㅋㅋㅋ, ㅍㅎㅎㅎㅎ가야가야서울특별시, ㅗ갑, ㅠ, 갈, 감성, ...</td>\n",
       "    </tr>\n",
       "  </tbody>\n",
       "</table>\n",
       "</div>"
      ],
      "text/plain": [
       "   storeid                                            Content  \\\n",
       "0   200000  가야가야서울특별시 서대문구 이화여대5길 7-3전화상세보기&lt;a onclick=\"...   \n",
       "1   200000  위치가야가야오랜만에 이대에 갈 일이 있어 (이대다니던 여자는 아니구염 ㅋㅋㅋ)제가 ...   \n",
       "\n",
       "                                               mecab  \n",
       "0  [ㅠ시원한, 고, 기, 길, 냉, 너무, 던, 도, 뜨끈, 라멘, 맛있, 매콤, 배...  \n",
       "1  [ㄷ, ㅋ, ㅋㅋ, ㅋㅋㅋ, ㅍㅎㅎㅎㅎ가야가야서울특별시, ㅗ갑, ㅠ, 갈, 감성, ...  "
      ]
     },
     "execution_count": 6,
     "metadata": {},
     "output_type": "execute_result"
    }
   ],
   "source": [
    "reviews.head(2)"
   ]
  },
  {
   "cell_type": "code",
   "execution_count": null,
   "metadata": {},
   "outputs": [],
   "source": [
    "reviews.to_csv('reviews_mecab_골목식당.csv', encoding='utf-8')"
   ]
  }
 ],
 "metadata": {
  "kernelspec": {
   "display_name": "text_anal",
   "language": "python",
   "name": "text_anal"
  },
  "language_info": {
   "codemirror_mode": {
    "name": "ipython",
    "version": 3
   },
   "file_extension": ".py",
   "mimetype": "text/x-python",
   "name": "python",
   "nbconvert_exporter": "python",
   "pygments_lexer": "ipython3",
   "version": "3.6.9"
  }
 },
 "nbformat": 4,
 "nbformat_minor": 2
}
