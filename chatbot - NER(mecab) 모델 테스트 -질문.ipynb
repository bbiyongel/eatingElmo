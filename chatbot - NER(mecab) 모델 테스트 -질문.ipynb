{
 "cells": [
  {
   "cell_type": "code",
   "execution_count": 1,
   "metadata": {},
   "outputs": [
    {
     "name": "stderr",
     "output_type": "stream",
     "text": [
      "Using TensorFlow backend.\n"
     ]
    }
   ],
   "source": [
    "import keras\n",
    "import anago"
   ]
  },
  {
   "cell_type": "code",
   "execution_count": 2,
   "metadata": {},
   "outputs": [
    {
     "name": "stdout",
     "output_type": "stream",
     "text": [
      "WARNING:tensorflow:From /home/aperio1987a/anaconda3/envs/data-anal/lib/python3.6/site-packages/keras/backend/tensorflow_backend.py:517: The name tf.placeholder is deprecated. Please use tf.compat.v1.placeholder instead.\n",
      "\n",
      "WARNING:tensorflow:From /home/aperio1987a/anaconda3/envs/data-anal/lib/python3.6/site-packages/keras/backend/tensorflow_backend.py:74: The name tf.get_default_graph is deprecated. Please use tf.compat.v1.get_default_graph instead.\n",
      "\n",
      "WARNING:tensorflow:From /home/aperio1987a/anaconda3/envs/data-anal/lib/python3.6/site-packages/keras/backend/tensorflow_backend.py:4138: The name tf.random_uniform is deprecated. Please use tf.random.uniform instead.\n",
      "\n",
      "WARNING:tensorflow:From /home/aperio1987a/anaconda3/envs/data-anal/lib/python3.6/site-packages/keras/backend/tensorflow_backend.py:2974: where (from tensorflow.python.ops.array_ops) is deprecated and will be removed in a future version.\n",
      "Instructions for updating:\n",
      "Use tf.where in 2.0, which has the same broadcast rule as np.where\n",
      "WARNING:tensorflow:From /home/aperio1987a/anaconda3/envs/data-anal/lib/python3.6/site-packages/keras/backend/tensorflow_backend.py:133: The name tf.placeholder_with_default is deprecated. Please use tf.compat.v1.placeholder_with_default instead.\n",
      "\n",
      "WARNING:tensorflow:From /home/aperio1987a/anaconda3/envs/data-anal/lib/python3.6/site-packages/keras/backend/tensorflow_backend.py:3445: calling dropout (from tensorflow.python.ops.nn_ops) with keep_prob is deprecated and will be removed in a future version.\n",
      "Instructions for updating:\n",
      "Please use `rate` instead of `keep_prob`. Rate should be set to `rate = 1 - keep_prob`.\n",
      "WARNING:tensorflow:From /home/aperio1987a/anaconda3/envs/data-anal/lib/python3.6/site-packages/keras/backend/tensorflow_backend.py:174: The name tf.get_default_session is deprecated. Please use tf.compat.v1.get_default_session instead.\n",
      "\n",
      "WARNING:tensorflow:From /home/aperio1987a/anaconda3/envs/data-anal/lib/python3.6/site-packages/keras/backend/tensorflow_backend.py:181: The name tf.ConfigProto is deprecated. Please use tf.compat.v1.ConfigProto instead.\n",
      "\n",
      "WARNING:tensorflow:From /home/aperio1987a/anaconda3/envs/data-anal/lib/python3.6/site-packages/keras/backend/tensorflow_backend.py:186: The name tf.Session is deprecated. Please use tf.compat.v1.Session instead.\n",
      "\n",
      "WARNING:tensorflow:From /home/aperio1987a/anaconda3/envs/data-anal/lib/python3.6/site-packages/keras/backend/tensorflow_backend.py:190: The name tf.global_variables is deprecated. Please use tf.compat.v1.global_variables instead.\n",
      "\n",
      "WARNING:tensorflow:From /home/aperio1987a/anaconda3/envs/data-anal/lib/python3.6/site-packages/keras/backend/tensorflow_backend.py:199: The name tf.is_variable_initialized is deprecated. Please use tf.compat.v1.is_variable_initialized instead.\n",
      "\n",
      "WARNING:tensorflow:From /home/aperio1987a/anaconda3/envs/data-anal/lib/python3.6/site-packages/keras/backend/tensorflow_backend.py:206: The name tf.variables_initializer is deprecated. Please use tf.compat.v1.variables_initializer instead.\n",
      "\n"
     ]
    }
   ],
   "source": [
    "# 챗봇 4단계 모델 불러오기\n",
    "weights = './ner_model_test/mecab_model_weights'\n",
    "params = './ner_model_test/mecab_model_params'\n",
    "preprocessor = './ner_model_test/mecab_model_preprocessor'\n",
    "model = anago.Sequence.load(weights, params, preprocessor)"
   ]
  },
  {
   "cell_type": "code",
   "execution_count": 3,
   "metadata": {},
   "outputs": [],
   "source": [
    "# 형태소 분석기 불러오기\n",
    "from konlpy.tag import Okt\n",
    "#okt = Okt()\n",
    "from konlpy.tag import Mecab\n",
    "mecab = Mecab()"
   ]
  },
  {
   "cell_type": "code",
   "execution_count": 4,
   "metadata": {
    "scrolled": true
   },
   "outputs": [
    {
     "name": "stderr",
     "output_type": "stream",
     "text": [
      "/home/aperio1987a/anaconda3/envs/data-anal/lib/python3.6/site-packages/sklearn/base.py:253: UserWarning: Trying to unpickle estimator LogisticRegression from version 0.21.3 when using version 0.20.3. This might lead to breaking code or invalid results. Use at your own risk.\n",
      "  UserWarning)\n",
      "/home/aperio1987a/anaconda3/envs/data-anal/lib/python3.6/site-packages/sklearn/base.py:253: UserWarning: Trying to unpickle estimator LabelBinarizer from version 0.21.3 when using version 0.20.3. This might lead to breaking code or invalid results. Use at your own risk.\n",
      "  UserWarning)\n",
      "/home/aperio1987a/anaconda3/envs/data-anal/lib/python3.6/site-packages/sklearn/base.py:253: UserWarning: Trying to unpickle estimator OneVsRestClassifier from version 0.21.3 when using version 0.20.3. This might lead to breaking code or invalid results. Use at your own risk.\n",
      "  UserWarning)\n",
      "/home/aperio1987a/anaconda3/envs/data-anal/lib/python3.6/site-packages/sklearn/base.py:253: UserWarning: Trying to unpickle estimator MultiLabelBinarizer from version 0.21.3 when using version 0.20.3. This might lead to breaking code or invalid results. Use at your own risk.\n",
      "  UserWarning)\n",
      "/home/aperio1987a/anaconda3/envs/data-anal/lib/python3.6/site-packages/sklearn/base.py:253: UserWarning: Trying to unpickle estimator TfidfTransformer from version 0.21.3 when using version 0.20.3. This might lead to breaking code or invalid results. Use at your own risk.\n",
      "  UserWarning)\n",
      "/home/aperio1987a/anaconda3/envs/data-anal/lib/python3.6/site-packages/sklearn/base.py:253: UserWarning: Trying to unpickle estimator TfidfVectorizer from version 0.21.3 when using version 0.20.3. This might lead to breaking code or invalid results. Use at your own risk.\n",
      "  UserWarning)\n"
     ]
    }
   ],
   "source": [
    "# 챗봇 3단계 모델 불러오기\n",
    "import pickle\n",
    "with open('./ner_model_test/classifier_tfidf_3.pickle', \"rb\") as f:\n",
    "    classifier_tfidf = pickle.load(f)\n",
    "with open(\"./ner_model_test/mlb_3.pickle\", \"rb\") as f:\n",
    "    mlb = pickle.load(f)\n",
    "with open(\"./ner_model_test/tfidf_vectorizer_3.pickle\", \"rb\") as f:\n",
    "    tfidf_vectorizer = pickle.load(f)"
   ]
  },
  {
   "cell_type": "code",
   "execution_count": 5,
   "metadata": {},
   "outputs": [],
   "source": [
    "import re"
   ]
  },
  {
   "cell_type": "code",
   "execution_count": 6,
   "metadata": {},
   "outputs": [],
   "source": [
    "# 챗봇 3단계 모델 실행에 필요한 함수 정의\n",
    "QUESTION_RE = re.compile('[^ ㄱ-ㅣ가-힣a-zA-Z]+')\n",
    "\n",
    "STOPWORDS = set(['은','는','이','가','하','아','것','들','의','그','수','한','나','같','그렇'\n",
    "                ,'문제','그리고','크','중','나오','지금','생각하','집','어떤','명','생각','이런'\n",
    "                ,'인','지','을','를','에','스러운','스러워','주','할','만','게','도','져','된','로','고','던','로운','면서'\n",
    "                ,'사실','이렇','점','싶','말','좀','식당','가게','집','음식점'\n",
    "                ,'는지','나요','해요','해','는가요','삼','게요','예','는가','습니까','죠','려고요','는지요','서요','였어요','겠'\n",
    "                ,'인가요','요' '라는','데','해서','세요','어요','을까요','건가요','겠죠','실래요','네요','으세요','지요','인데요'\n",
    "                ,'드려요','려구요','합니다'])\n",
    "\n",
    "def text_prepare(text):\n",
    "    \n",
    "    # 한글과 스페이스바를 제외한 다른 문자들은 모두 지운다.\n",
    "    text = QUESTION_RE.sub('', text) \n",
    "    \n",
    "    # mecab 토크나이저\n",
    "    mecab = Mecab()\n",
    "    \n",
    "    # mecab으로 text를 형태소 단위로 나누고 불용어를 지운다.\n",
    "    text = ' '.join(token for token in mecab.morphs(text) if token not in STOPWORDS)\n",
    "\n",
    "    return text"
   ]
  },
  {
   "cell_type": "markdown",
   "metadata": {},
   "source": [
    "#### 테스트용 질문 제작 (분석 잘된거/안된거, 각각 3개씩, 총 102개(=51*2))\n",
    "\n",
    "***추천 요청 질문 말뭉치*** \n",
    "- `음식메뉴` : train 메뉴리스트에 있는 것/없는 것 둘 다 사용해볼 것\n",
    "- `형용사`,`장소`,`어미` : 실제로 사용자들이 챗봇에게 물어볼만한 말투\n",
    "\n",
    "- 1) 음식메뉴 + 추천요청어미\n",
    "- 2) 음식메뉴 + 형용사 + 추천요청어미\n",
    "- 3) 음식메뉴 + 형용사 + 장소 + 추천요청어미\n",
    "- 4) 음식메뉴 + 장소 + 형용사 + 추천요청어미\n",
    "- 5) 형용사 + 추천요청어미\n",
    "- 6) 형용사 + 음식메뉴 + 추천요청어미\n",
    "- 7) 형용사 + 형용사 + 추천요청어미\n",
    "- 8) 형용사 + 음식메뉴 + 장소 + 추천요청어미\n",
    "- 9) 장소 + 추천요청어미\n",
    "- 10) 장소 + 음식메뉴 + 추천요청어미\n",
    "- 11) 장소 + 형용사 + 추천요청어미\n",
    "- 12) 장소 + 형용사 + 음식메뉴 + 추천요청어미\n",
    "\n",
    "***문의(장소,리뷰) 질문 말뭉치***\n",
    "- `가게명` : 골목식당 가게리스트 사용\n",
    "- `형용사`,`장소`,`어미` : 실제로 사용자들이 챗봇에게 물어볼만한 말투\n",
    "\n",
    "- 1) 가게명 + 장소문의어미\n",
    "- 2) 가게명 + 리뷰문의어미\n",
    "- 3) 가게명 + 형용사 + 리뷰문의어미\n",
    "- 4) 장소 + 가게명 + 리뷰문의어미\n",
    "- 5) 장소 + 가게명 + 형용사 + 리뷰문의어미"
   ]
  },
  {
   "cell_type": "markdown",
   "metadata": {},
   "source": [
    "1. 먼저 아래 셀에서 `text`를 바꿔가며 여러 질문을 테스트한다.\n",
    "2. 형용사/음식메뉴/장소/가게명의 분석이 잘 된 것은 `X_good`, 뭔가 하나라도 실패한 것은 `X_bad` list에 저장한다.\n",
    "    - 형용사 : `ADJ`, 음식메뉴 :  `FOD`, 장소 : `LOC`, 가게명 : `ORG`\n",
    "    \n",
    "    - `X_good`,`X_bad` list 안의 질문의 개수는 각각 51개씩, (더 많아도 상관 없음)\n",
    "3. `y_good`,`y_bad` list 안에 각각의 tag를 단다. \n",
    "    - (1) : recommendation/questionLOC/questionREV\n",
    "    - (2) : taste/sanitation/price/atmosphere/prefer\n",
    "    - (3) : korean/chinese/western/japanese/chicken/asian/etc\n",
    "    - 태그를 달 때 (1)은 반드시 포함해야 한다. (2),(3)은 포함할 수도 있고 포함하지 않을 수도 있다.\n",
    "    - (1),(2),(3) 각 태그 종류에서 1개 태그만 선택해야 한다. (korean,chinese를 동시에 달 수 없음)\n",
    "4. `X_good`, `X_bad` 각각에서 챗봇 4단계, 챗봇 3단계 모델을 실행하고 결과를 저장한다.\n",
    "5. `okt`/`mecab` 비교"
   ]
  },
  {
   "cell_type": "code",
   "execution_count": 30,
   "metadata": {
    "scrolled": true
   },
   "outputs": [
    {
     "data": {
      "text/plain": [
       "{'words': ['거제', '에', '풍년', '비빔밥', '재료', '가', '신선', '한지', '말', '해', '주', '세요'],\n",
       " 'entities': [{'text': '거제',\n",
       "   'type': 'LOC',\n",
       "   'score': 1.0,\n",
       "   'beginOffset': 0,\n",
       "   'endOffset': 1},\n",
       "  {'text': '풍년 비빔밥',\n",
       "   'type': 'FOD',\n",
       "   'score': 1.0,\n",
       "   'beginOffset': 2,\n",
       "   'endOffset': 4},\n",
       "  {'text': '재료 가 신선 한지',\n",
       "   'type': 'ADJ',\n",
       "   'score': 1.0,\n",
       "   'beginOffset': 4,\n",
       "   'endOffset': 8}]}"
      ]
     },
     "execution_count": 30,
     "metadata": {},
     "output_type": "execute_result"
    }
   ],
   "source": [
    "# 1. text를 바꿔가며 테스트\n",
    "text ='거제에 풍년비빔밥 재료가 신선한지 말해주세요'\n",
    "text_prepared = ' '.join(word for word in mecab.morphs(text))\n",
    "model.analyze(text_prepared)"
   ]
  },
  {
   "cell_type": "code",
   "execution_count": 67,
   "metadata": {
    "scrolled": true
   },
   "outputs": [],
   "source": [
    "# 2. 1번에서 형용사/음식메뉴/장소/가게명의 분석이 잘 되는 질문은 X_good, 잘 안되면 X_bad에 담는다.\n",
    "X_good = [\n",
    "    '연돈 위치 알려줘'\n",
    "    ,'타코얔 어디에 있어?'\n",
    "    ,'홍백떡볶이 주소 말해줘'\n",
    "    ,'온센텐동 맛 어때?'\n",
    "    ,'그린몬스터 후기 알려줘'\n",
    "    ,'필동멸치국수 괜찮아?'\n",
    "    ,'코너스테이크 분위기 어땠어?'\n",
    "    ,'부라더쭈꾸미 많이 매워?'\n",
    "    ,'생선보감 생선 비린 맛 어때?'\n",
    "    ,'용산에 코스모스 어때?' \n",
    "    ,'부천에 있는 피자앤펍 후기 알려줘'\n",
    "    ,'원주에서 부리또만나 리뷰 보여줘'\n",
    "    ,'원주에 부리또만나 리뷰 보여줘'\n",
    "    ,'전라도 여수 꼬치는맛 많이 매운지 말해줘'\n",
    "    ,'서울에 있는 준까스 파삭파삭한지 알려줘'\n",
    "     '똠양꿍 추천해줘'\n",
    "    ,'국밥 알려줘'\n",
    "    ,'크림파스타 알려줘' \n",
    "    ,'샌드위치가게 추천'\n",
    "    ,'파스타 종류 뭐뭐 있어?'\n",
    "    ,'해물탕 재료가 좋은 곳 추천'\n",
    "    ,'국밥집 국물이 시원한 곳 알려줘'\n",
    "    ,'초밥집 재료가 신선한 곳 어디야?'\n",
    "    ,'치킨 포장할 수 있는 곳 알려줘'\n",
    "    ,'순살치킨 배달해주는 곳 알려줘'\n",
    "    ,'김치찌개 국물이 시원한 곳 경기도 안양 추천'\n",
    "    ,'닭갈비 제일 유명한 곳 춘천에 있는 곳으로 찾아줘'\n",
    "    ,'마카롱 맛있는 곳 부산에 있는 곳으로 추천해줘'\n",
    "    ,'막국수 춘천에 안 매운 곳 말해줘'\n",
    "    ,'피자 인천에 있고 주차할 수 있는 곳으로 알려줘'   \n",
    "    \n",
    "#     ,'한정식 분위기 좋고 깔끔한 곳 대전 기준'\n",
    "#     ,'맛있는 거 추천해줘'\n",
    "#     ,'조용한 곳 추천해줘'\n",
    "#     ,'소개팅을 하기 좋은 맛집 알려줘'\n",
    "#     ,'조미료 안 쓰는 죽집 찾아줘'    \n",
    "#     ,'가격이 저렴한 반찬가게 찾아줘'\n",
    "#     ,'맛있는 제육덮밥 맛집 알려줘'\n",
    "#     ,'싱싱한 장어집 알려줘'\n",
    "#     ,'싱싱한 회 파는 곳 안내해줘'\n",
    "#     ,'양 푸짐한 찜닭집 추천ㄱㄱ'\n",
    "#     ,'정갈한 한식집 추천해줘'\n",
    "#     ,'단체석 있는 고기집 추천'\n",
    "#     ,'비린맛 안 나는 생선구이집 알려줘'\n",
    "#     ,'누린내없는 족발집 알려줘'\n",
    "#     ,'분위기 좋은 파스타집 알려줘'\n",
    "#     ,'육즙 많이 흐르는 고기집 추천해줘'\n",
    "#     ,'줄 서서 기다리는 마라탕 집 있을까요'\n",
    "#     ,'깔끔한 인도 레스토랑 알려줘'\n",
    "#     ,'분위기 좋고 조명이 은은한 포토존 맛집 추천'\n",
    "#     ,'향이 좋고 맛이 특이한 곳 알려줘'\n",
    "#     ,'공기 좋고 자리 넓은 데 추천'\n",
    "#     ,'몸보신하기 좋은 백숙집 인천에서 추천'\n",
    "#     ,'고기를 많이 주는 국밥집 부산에 있는 곳으로 찾아줘' \n",
    "#     ,'가성비 좋은 짬뽕집 부산에서 찾아줘'\n",
    "#     ,'인천에는 뭐가 맛있나'\n",
    "#     ,'울산에서 뭐먹지'\n",
    "#     ,'안동 맛집'\n",
    "#     ,'영덕에 대게 맛집'\n",
    "#     ,'회식 장소로 인기있는 족발집 알려줘'\n",
    "#     ,'강릉 맛있는 횟집 추천'\n",
    "#     ,'여수에서 주차무료인 밥집 추천'\n",
    "#     ,'종각에서 고기가 가장 두툼한 돈까스집은?'\n",
    "#     ,'종로에 분위기 좋은 순대국밥집 있나요?'\n",
    "#     ,'전주에 맛있는 비빔밥집 있나요?'\n",
    "#     ,'조용한 이탈리안 레스토랑 알려줘'\n",
    "#     ,'밥 많이 주는 한식집 알려주셈'\n",
    "#     ,'마르게리따 피자가 맛있는 이탈리안레스토랑 추천'\n",
    "#     ,'마라탕 맵지 않게 만들어주는 중국 음식점 찾아줘'\n",
    "]\n",
    "\n",
    "X_bad = [\n",
    "    '소개팅 하기 좋은 맛집 알려줘'\n",
    "    ,'맛있는 김밥 찾아줘'\n",
    "    ,'매운 갈비찜 찾아줘'\n",
    "    ,'제일 매운 갈비찜이 뭐예요?'\n",
    "    ,'주차 되고 넓은 곳 찾아줘'\n",
    "    ,'정갈하고 상견례하기 좋은 곳 있을까?' \n",
    "    ,'맛 좋고 맛이 특이한 곳 알려줘'\n",
    "    ,'인테리어 멋지고 사진 잘 나오는 맛집' \n",
    "    ,'공기 좋고 넓은 데 추천' \n",
    "    ,'몸보신하기 좋은 백숙집 인천에서 추천'\n",
    "    ,'고기 많이 들어간 국밥집 부산에 있는 걸로 찾아줘' \n",
    "    ,'원조 인도 카레 맛집 이태원에서 추천' \n",
    "    ,'향긋한 차 마실 수 있는 곳 용인으로 알려줘' \n",
    "    ,'광주 카페 추천'\n",
    "    ,'서울은 뭐가 맛있어?'\n",
    "    ,'대전에서 뭘 먹어야 할까?'\n",
    "    ,'제주도 흙돼지구이 추천' \n",
    "    ,'전라도 보쌈 맛집 추천' \n",
    "    ,'제주도 흙돼지구이 추천'\n",
    "    ,'광주에서 부모님과 가기 좋은 레스토랑 추천' \n",
    "    ,'야경 예쁘고 사진 잘 나오는 카페 알려줘' \n",
    "    ,'정갈하면서 깔끔한 한정식 집 알려줘'\n",
    "    ,'부라더쭈꾸미 많이 매워?'\n",
    "    ,'용산 코스모스 어때?' \n",
    "    ,'부천 피자앤펍 후기 알려줘'\n",
    "    ,'원주에서 부리또만나 리뷰 보여줘'\n",
    "    ,'서울 준까스 파삭파삭한지 알려줘'\n",
    "    ,'서대문 홍탁집 대기줄 길어?'\n",
    "    ,'강동구 더짬뽕 양 많이 주나요?'\n",
    "    ,'거제에 풍년비빔밥 재료가 신선한지 말해주세요'\n",
    "]"
   ]
  },
  {
   "cell_type": "code",
   "execution_count": 68,
   "metadata": {},
   "outputs": [],
   "source": [
    "# 3. X_good과 X_bad 각각에 태그 y_good, y_bad를 단다.\n",
    "y_good = [\n",
    "     ['questionLOC']\n",
    "    ,['questionLOC']\n",
    "    ,['questionLOC']\n",
    "    ,['questionREV']\n",
    "    ,['questionREV']\n",
    "    ,['questionREV']\n",
    "    ,['questionREV']\n",
    "    ,['questionREV']\n",
    "    ,['questionREV']\n",
    "    ,['questionREV']\n",
    "    ,['questionREV']\n",
    "    ,['questionREV']\n",
    "    ,['questionREV']\n",
    "    ,['questionREV']\n",
    "    ,['questionREV']\n",
    "    ,['recommendation', 'prefer']\n",
    "    ,['recommendation']\n",
    "    ,['recommendation']\n",
    "    ,['recommendation']\n",
    "    ,['recommendation']\n",
    "    ,['recommendation','taste']\n",
    "    ,['recommendation','taste']\n",
    "    ,['recommendation','taste']\n",
    "    ,['recommendation']\n",
    "    ,['recommendation']\n",
    "    ,['recommendation','taste','korean']\n",
    "    ,['recommendation','prefer','korean']\n",
    "    ,['recommendation','taste','etc']\n",
    "    ,['recommendation','taste','korean']\n",
    "#     ,['recommendation','western']\n",
    "#     ,['recommendation','sanitation','korean']\n",
    "#     ,['recommendation','taste']\n",
    "#     ,['recommendation','atmosphere']\n",
    "#     ,['recommendation','atmosphere']\n",
    "#     ,['recommendation','taste','korean']  \n",
    "#     ,['recommendation','price','etc'] \n",
    "#     ,['recommendation','taste','korean']  \n",
    "#     ,['recommendation','taste','korean'] \n",
    "#     ,['recommendation','taste','japanese']  \n",
    "#     ,['recommendation','taste','korean'] \n",
    "#     ,['recommendation','atmosphere','korean']  \n",
    "#     ,['recommendation','korean']  \n",
    "#     ,['recommendation','taste','korean']  \n",
    "#     ,['recommendation','taste','korean']  \n",
    "#     ,['recommendation','atmosphere','western']  \n",
    "#     ,['recommendation','taste','korean']  \n",
    "#     ,['recommendation','prefer','chinese']  \n",
    "#     ,['recommendation','sanitation','asian']  \n",
    "#     ,['recommendation','atmosphere']  \n",
    "#     ,['recommendation','taste']  \n",
    "#     ,['recommendation','atmosphere']  \n",
    "#     ,['recommendation','taste','korean']  \n",
    "#     ,['recommendation','taste','korean']  \n",
    "#     ,['recommendation','price','chinese']  \n",
    "#     ,['recommendation']  \n",
    "#     ,['recommendation']\n",
    "#     ,['recommendation']\n",
    "#     ,['recommendation','korean']  \n",
    "#     ,['recommendation','prefer','korean']  \n",
    "#     ,['recommendation','taste','japanese']  \n",
    "#     ,['recommendation','korean']  \n",
    "#     ,['recommendation','taste','japanses']  \n",
    "#     ,['recommendation','atmosphere','korean']  \n",
    "#     ,['recommendation','taste','korean']  \n",
    "#     ,['recommendation','atmosphere','western']  \n",
    "#     ,['recommendation','taste','korean']  \n",
    "#     ,['recommendation','taste','wsetern']  \n",
    "#     ,['recommendation','taste','chinese']   \n",
    "]\n",
    "y_bad = [\n",
    "     ['recommendation','atmospher']\n",
    "    ,['recommendation','taste','korean']\n",
    "    ,['recommendation','taste','korean']\n",
    "    ,['recommendation','taste','korean']\n",
    "    ,['recommendation','atmosphere']\n",
    "    ,['recommendation','atmosphere']\n",
    "    ,['recommendation','taste']\n",
    "    ,['recommendation','atmosphere']\n",
    "    ,['recommendation','atmosphere']\n",
    "    ,['recommendation','taste']\n",
    "    ,['recommendation','taste','korean']\n",
    "    ,['recommendation','taste','asian']\n",
    "    ,['recommendation','taste','etc']\n",
    "    ,['recommendation','etc']\n",
    "    ,['recommendation','taste']\n",
    "    ,['recommendation']\n",
    "    ,['recommendation']\n",
    "    ,['recommendation','prefer']\n",
    "    ,['recommendation','prefer']\n",
    "    ,['recommendation','atmosphere','western']\n",
    "    ,['recommendation','atmosphere','etc']\n",
    "    ,['recommendation','atmosphere','korean']\n",
    "    ,['recommendation','taste','korean']\n",
    "    ,['questionREV']\n",
    "    ,['questionREV']\n",
    "    ,['questionREV']\n",
    "    ,['questionREV']\n",
    "    ,['questionREV']\n",
    "    ,['questionREV']\n",
    "    ,['questionREV']\n",
    "]"
   ]
  },
  {
   "cell_type": "code",
   "execution_count": 69,
   "metadata": {},
   "outputs": [],
   "source": [
    "# 3. 예시\n",
    "X_chatbot = [\n",
    "     '맛있는 파스타집 추천해주세요'\n",
    "    , '종로에 분위기 좋은 순대국밥집 있나요?'\n",
    "    , '청결한 한식집 있어요?'\n",
    "    , '가성비 좋은 짬뽕 집 알려주세요'\n",
    "    , '줄 서서 기다리는 마라탕 집 있을까요'\n",
    "    , '보쌈집 위치 알려주십시오'\n",
    "    , '언니네횟집 주소좀요'\n",
    "    , '언니네횟집 후기 좀 알려주세요'\n",
    "    , '언니네횟집 사람들 반응점'\n",
    "]\n",
    "y_chatbot = [\n",
    "    ['recommendation','taste','western']\n",
    "    ,['recommendation','atmosphere','korean']\n",
    "    ,['recommendation','sanitation','korean']\n",
    "    ,['recommendation','price','chinese']\n",
    "    ,['recommendation','prefer','chinese']\n",
    "    ,['questionLOC']\n",
    "    ,['questionLOC']\n",
    "    ,['questionREV']\n",
    "    ,['questionREV']\n",
    "]"
   ]
  },
  {
   "cell_type": "code",
   "execution_count": 70,
   "metadata": {},
   "outputs": [],
   "source": [
    "# 챗봇 3단계 모델 실행결과\n",
    "\n",
    "# SENTENCE 데이터 전처리\n",
    "X_good_prepared = [text_prepare(x) for x in X_good]\n",
    "X_bad_prepared = [text_prepare(x) for x in X_bad]"
   ]
  },
  {
   "cell_type": "code",
   "execution_count": 71,
   "metadata": {},
   "outputs": [],
   "source": [
    "# tf-idf 벡터화\n",
    "X_good_tfidf = tfidf_vectorizer.transform(X_good)\n",
    "X_bad_tfidf = tfidf_vectorizer.transform(X_bad)"
   ]
  },
  {
   "cell_type": "code",
   "execution_count": 72,
   "metadata": {},
   "outputs": [],
   "source": [
    "# tag 데이터 전처리\n",
    "y_good = mlb.transform(y_good)\n",
    "y_bad = mlb.transform(y_bad)"
   ]
  },
  {
   "cell_type": "code",
   "execution_count": 73,
   "metadata": {},
   "outputs": [],
   "source": [
    "# tag 예측\n",
    "y_good_predicted_labels_tfidf = classifier_tfidf.predict(X_good_tfidf)\n",
    "y_good_predicted_scores_tfidf = classifier_tfidf.decision_function(X_good_tfidf)\n",
    "y_bad_predicted_labels_tfidf = classifier_tfidf.predict(X_bad_tfidf)\n",
    "y_bad_predicted_scores_tfidf = classifier_tfidf.decision_function(X_bad_tfidf)"
   ]
  },
  {
   "cell_type": "code",
   "execution_count": 74,
   "metadata": {},
   "outputs": [],
   "source": [
    "# 예측된 tag를 텍스트로 변환\n",
    "y_good_pred_inversed = mlb.inverse_transform(y_good_predicted_labels_tfidf)\n",
    "y_good_inversed = mlb.inverse_transform(y_good)\n",
    "y_bad_pred_inversed = mlb.inverse_transform(y_bad_predicted_labels_tfidf)\n",
    "y_bad_inversed = mlb.inverse_transform(y_bad)"
   ]
  },
  {
   "cell_type": "code",
   "execution_count": 75,
   "metadata": {},
   "outputs": [
    {
     "name": "stdout",
     "output_type": "stream",
     "text": [
      "SENTENCE:\t연돈 위치 알려줘\n",
      "정답:\t('questionLOC',)\n",
      "예측:\t('questionLOC',)\n",
      "\n",
      "\n",
      "SENTENCE:\t타코얔 어디에 있어?\n",
      "정답:\t('questionLOC',)\n",
      "예측:\t('questionLOC',)\n",
      "\n",
      "\n",
      "SENTENCE:\t홍백떡볶이 주소 말해줘\n",
      "정답:\t('questionLOC',)\n",
      "예측:\t('questionLOC',)\n",
      "\n",
      "\n",
      "SENTENCE:\t온센텐동 맛 어때?\n",
      "정답:\t('questionREV',)\n",
      "예측:\t('recommendation', 'taste')\n",
      "\n",
      "\n",
      "SENTENCE:\t그린몬스터 후기 알려줘\n",
      "정답:\t('questionREV',)\n",
      "예측:\t('questionREV',)\n",
      "\n",
      "\n",
      "SENTENCE:\t필동멸치국수 괜찮아?\n",
      "정답:\t('questionREV',)\n",
      "예측:\t('questionLOC',)\n",
      "\n",
      "\n",
      "SENTENCE:\t코너스테이크 분위기 어땠어?\n",
      "정답:\t('questionREV',)\n",
      "예측:\t('atmosphere', 'recommendation')\n",
      "\n",
      "\n",
      "SENTENCE:\t부라더쭈꾸미 많이 매워?\n",
      "정답:\t('questionREV',)\n",
      "예측:\t('recommendation', 'taste')\n",
      "\n",
      "\n",
      "SENTENCE:\t생선보감 생선 비린 맛 어때?\n",
      "정답:\t('questionREV',)\n",
      "예측:\t('korean', 'recommendation', 'taste')\n",
      "\n",
      "\n",
      "SENTENCE:\t용산에 코스모스 어때?\n",
      "정답:\t('questionREV',)\n",
      "예측:\t('questionLOC',)\n",
      "\n",
      "\n",
      "SENTENCE:\t부천에 있는 피자앤펍 후기 알려줘\n",
      "정답:\t('questionREV',)\n",
      "예측:\t('questionREV',)\n",
      "\n",
      "\n",
      "SENTENCE:\t원주에서 부리또만나 리뷰 보여줘\n",
      "정답:\t('questionREV',)\n",
      "예측:\t('questionREV',)\n",
      "\n",
      "\n",
      "SENTENCE:\t원주에 부리또만나 리뷰 보여줘\n",
      "정답:\t('questionREV',)\n",
      "예측:\t('questionREV',)\n",
      "\n",
      "\n",
      "SENTENCE:\t전라도 여수 꼬치는맛 많이 매운지 말해줘\n",
      "정답:\t('questionREV',)\n",
      "예측:\t('questionLOC',)\n",
      "\n",
      "\n",
      "SENTENCE:\t서울에 있는 준까스 파삭파삭한지 알려줘똠양꿍 추천해줘\n",
      "정답:\t('questionREV',)\n",
      "예측:\t('questionLOC',)\n",
      "\n",
      "\n",
      "SENTENCE:\t국밥 알려줘\n",
      "정답:\t('prefer', 'recommendation')\n",
      "예측:\t('korean', 'recommendation')\n",
      "\n",
      "\n",
      "SENTENCE:\t크림파스타 알려줘\n",
      "정답:\t('recommendation',)\n",
      "예측:\t('questionLOC',)\n",
      "\n",
      "\n",
      "SENTENCE:\t샌드위치가게 추천\n",
      "정답:\t('recommendation',)\n",
      "예측:\t('korean', 'prefer', 'recommendation')\n",
      "\n",
      "\n",
      "SENTENCE:\t파스타 종류 뭐뭐 있어?\n",
      "정답:\t('recommendation',)\n",
      "예측:\t('recommendation', 'taste', 'western')\n",
      "\n",
      "\n",
      "SENTENCE:\t해물탕 재료가 좋은 곳 추천\n",
      "정답:\t('recommendation',)\n",
      "예측:\t('recommendation',)\n",
      "\n",
      "\n",
      "SENTENCE:\t국밥집 국물이 시원한 곳 알려줘\n",
      "정답:\t('recommendation', 'taste')\n",
      "예측:\t('korean', 'recommendation', 'taste')\n",
      "\n",
      "\n",
      "SENTENCE:\t초밥집 재료가 신선한 곳 어디야?\n",
      "정답:\t('recommendation', 'taste')\n",
      "예측:\t('korean', 'recommendation', 'taste')\n",
      "\n",
      "\n",
      "SENTENCE:\t치킨 포장할 수 있는 곳 알려줘\n",
      "정답:\t('recommendation', 'taste')\n",
      "예측:\t('chicken', 'recommendation')\n",
      "\n",
      "\n",
      "SENTENCE:\t순살치킨 배달해주는 곳 알려줘\n",
      "정답:\t('recommendation',)\n",
      "예측:\t('korean', 'recommendation', 'taste')\n",
      "\n",
      "\n",
      "SENTENCE:\t김치찌개 국물이 시원한 곳 경기도 안양 추천\n",
      "정답:\t('recommendation',)\n",
      "예측:\t('korean', 'recommendation')\n",
      "\n",
      "\n",
      "SENTENCE:\t닭갈비 제일 유명한 곳 춘천에 있는 곳으로 찾아줘\n",
      "정답:\t('korean', 'recommendation', 'taste')\n",
      "예측:\t('korean', 'recommendation')\n",
      "\n",
      "\n",
      "SENTENCE:\t마카롱 맛있는 곳 부산에 있는 곳으로 추천해줘\n",
      "정답:\t('korean', 'prefer', 'recommendation')\n",
      "예측:\t('recommendation',)\n",
      "\n",
      "\n",
      "SENTENCE:\t막국수 춘천에 안 매운 곳 말해줘\n",
      "정답:\t('etc', 'recommendation', 'taste')\n",
      "예측:\t('recommendation', 'taste')\n",
      "\n",
      "\n",
      "SENTENCE:\t피자 인천에 있고 주차할 수 있는 곳으로 알려줘\n",
      "정답:\t('korean', 'recommendation', 'taste')\n",
      "예측:\t('western',)\n",
      "\n",
      "\n",
      "SENTENCE:\t소개팅 하기 좋은 맛집 알려줘\n",
      "정답:\t('recommendation',)\n",
      "예측:\t('korean', 'recommendation', 'taste')\n",
      "\n",
      "\n",
      "SENTENCE:\t맛있는 김밥 찾아줘\n",
      "정답:\t('korean', 'recommendation', 'taste')\n",
      "예측:\t('questionLOC',)\n",
      "\n",
      "\n",
      "SENTENCE:\t매운 갈비찜 찾아줘\n",
      "정답:\t('korean', 'recommendation', 'taste')\n",
      "예측:\t('taste',)\n",
      "\n",
      "\n",
      "SENTENCE:\t제일 매운 갈비찜이 뭐예요?\n",
      "정답:\t('korean', 'recommendation', 'taste')\n",
      "예측:\t('recommendation', 'taste')\n",
      "\n",
      "\n",
      "SENTENCE:\t주차 되고 넓은 곳 찾아줘\n",
      "정답:\t('atmosphere', 'recommendation')\n",
      "예측:\t('korean', 'recommendation', 'taste')\n",
      "\n",
      "\n",
      "SENTENCE:\t정갈하고 상견례하기 좋은 곳 있을까?\n",
      "정답:\t('atmosphere', 'recommendation')\n",
      "예측:\t('korean', 'recommendation', 'taste')\n",
      "\n",
      "\n",
      "SENTENCE:\t맛 좋고 맛이 특이한 곳 알려줘\n",
      "정답:\t('recommendation', 'taste')\n",
      "예측:\t('korean', 'recommendation', 'taste')\n",
      "\n",
      "\n",
      "SENTENCE:\t인테리어 멋지고 사진 잘 나오는 맛집\n",
      "정답:\t('atmosphere', 'recommendation')\n",
      "예측:\t('atmosphere', 'korean', 'recommendation', 'taste')\n",
      "\n",
      "\n",
      "SENTENCE:\t공기 좋고 넓은 데 추천\n",
      "정답:\t('atmosphere', 'recommendation')\n",
      "예측:\t('atmosphere', 'korean', 'recommendation')\n",
      "\n",
      "\n",
      "SENTENCE:\t몸보신하기 좋은 백숙집 인천에서 추천\n",
      "정답:\t('recommendation', 'taste')\n",
      "예측:\t('korean', 'prefer', 'recommendation')\n",
      "\n",
      "\n",
      "SENTENCE:\t고기 많이 들어간 국밥집 부산에 있는 걸로 찾아줘\n",
      "정답:\t('korean', 'recommendation', 'taste')\n",
      "예측:\t('korean', 'recommendation')\n",
      "\n",
      "\n",
      "SENTENCE:\t원조 인도 카레 맛집 이태원에서 추천\n",
      "정답:\t('asian', 'recommendation', 'taste')\n",
      "예측:\t('asian', 'recommendation', 'taste')\n",
      "\n",
      "\n",
      "SENTENCE:\t향긋한 차 마실 수 있는 곳 용인으로 알려줘\n",
      "정답:\t('etc', 'recommendation', 'taste')\n",
      "예측:\t()\n",
      "\n",
      "\n",
      "SENTENCE:\t광주 카페 추천\n",
      "정답:\t('etc', 'recommendation')\n",
      "예측:\t('etc', 'recommendation')\n",
      "\n",
      "\n",
      "SENTENCE:\t서울은 뭐가 맛있어?\n",
      "정답:\t('recommendation', 'taste')\n",
      "예측:\t('questionLOC',)\n",
      "\n",
      "\n",
      "SENTENCE:\t대전에서 뭘 먹어야 할까?\n",
      "정답:\t('recommendation',)\n",
      "예측:\t('questionLOC',)\n",
      "\n",
      "\n",
      "SENTENCE:\t제주도 흙돼지구이 추천\n",
      "정답:\t('recommendation',)\n",
      "예측:\t('recommendation',)\n",
      "\n",
      "\n",
      "SENTENCE:\t전라도 보쌈 맛집 추천\n",
      "정답:\t('prefer', 'recommendation')\n",
      "예측:\t('korean', 'recommendation')\n",
      "\n",
      "\n",
      "SENTENCE:\t제주도 흙돼지구이 추천\n",
      "정답:\t('prefer', 'recommendation')\n",
      "예측:\t('recommendation',)\n",
      "\n",
      "\n",
      "SENTENCE:\t광주에서 부모님과 가기 좋은 레스토랑 추천\n",
      "정답:\t('atmosphere', 'recommendation', 'western')\n",
      "예측:\t('prefer', 'recommendation')\n",
      "\n",
      "\n",
      "SENTENCE:\t야경 예쁘고 사진 잘 나오는 카페 알려줘\n",
      "정답:\t('atmosphere', 'etc', 'recommendation')\n",
      "예측:\t('atmosphere', 'etc', 'recommendation', 'taste')\n",
      "\n",
      "\n",
      "SENTENCE:\t정갈하면서 깔끔한 한정식 집 알려줘\n",
      "정답:\t('atmosphere', 'korean', 'recommendation')\n",
      "예측:\t('korean', 'recommendation')\n",
      "\n",
      "\n",
      "SENTENCE:\t부라더쭈꾸미 많이 매워?\n",
      "정답:\t('korean', 'recommendation', 'taste')\n",
      "예측:\t('recommendation', 'taste')\n",
      "\n",
      "\n",
      "SENTENCE:\t용산 코스모스 어때?\n",
      "정답:\t('questionREV',)\n",
      "예측:\t('questionLOC',)\n",
      "\n",
      "\n",
      "SENTENCE:\t부천 피자앤펍 후기 알려줘\n",
      "정답:\t('questionREV',)\n",
      "예측:\t('questionREV',)\n",
      "\n",
      "\n",
      "SENTENCE:\t원주에서 부리또만나 리뷰 보여줘\n",
      "정답:\t('questionREV',)\n",
      "예측:\t('questionREV',)\n",
      "\n",
      "\n",
      "SENTENCE:\t서울 준까스 파삭파삭한지 알려줘\n",
      "정답:\t('questionREV',)\n",
      "예측:\t('questionLOC',)\n",
      "\n",
      "\n",
      "SENTENCE:\t서대문 홍탁집 대기줄 길어?\n",
      "정답:\t('questionREV',)\n",
      "예측:\t('questionLOC',)\n",
      "\n",
      "\n",
      "SENTENCE:\t강동구 더짬뽕 양 많이 주나요?\n",
      "정답:\t('questionREV',)\n",
      "예측:\t('price', 'recommendation', 'taste')\n",
      "\n",
      "\n",
      "SENTENCE:\t거제에 풍년비빔밥 재료가 신선한지 말해주세요\n",
      "정답:\t('questionREV',)\n",
      "예측:\t('questionLOC',)\n",
      "\n",
      "\n"
     ]
    }
   ],
   "source": [
    "for i in range(0,len(y_good)):\n",
    "    print('SENTENCE:\\t{}\\n정답:\\t{}\\n예측:\\t{}\\n\\n'.format(\n",
    "        X_good[i],\n",
    "        y_good_inversed[i],\n",
    "        y_good_pred_inversed[i]\n",
    "    ))\n",
    "for i in range(0,len(y_bad)):\n",
    "    print('SENTENCE:\\t{}\\n정답:\\t{}\\n예측:\\t{}\\n\\n'.format(\n",
    "        X_bad[i],\n",
    "        y_bad_inversed[i],\n",
    "        y_bad_pred_inversed[i]\n",
    "    ))"
   ]
  },
  {
   "cell_type": "code",
   "execution_count": 76,
   "metadata": {},
   "outputs": [
    {
     "data": {
      "text/plain": [
       "{'words': ['연', '돈', '위치', '알려줘'],\n",
       " 'entities': [{'text': '연 돈',\n",
       "   'type': 'ORG',\n",
       "   'score': 1.0,\n",
       "   'beginOffset': 0,\n",
       "   'endOffset': 2}]}"
      ]
     },
     "metadata": {},
     "output_type": "display_data"
    },
    {
     "data": {
      "text/plain": [
       "{'words': ['타코', '얔', '어디', '에', '있', '어', '?'],\n",
       " 'entities': [{'text': '타코 얔',\n",
       "   'type': 'ORG',\n",
       "   'score': 1.0,\n",
       "   'beginOffset': 0,\n",
       "   'endOffset': 2}]}"
      ]
     },
     "metadata": {},
     "output_type": "display_data"
    },
    {
     "data": {
      "text/plain": [
       "{'words': ['홍백', '떡볶이', '주소', '말', '해', '줘'],\n",
       " 'entities': [{'text': '홍백 떡볶이',\n",
       "   'type': 'ORG',\n",
       "   'score': 1.0,\n",
       "   'beginOffset': 0,\n",
       "   'endOffset': 2}]}"
      ]
     },
     "metadata": {},
     "output_type": "display_data"
    },
    {
     "data": {
      "text/plain": [
       "{'words': ['온', '센', '텐동', '맛', '어때', '?'],\n",
       " 'entities': [{'text': '온 센 텐동 맛 어때 ?',\n",
       "   'type': 'ORG',\n",
       "   'score': 1.0,\n",
       "   'beginOffset': 0,\n",
       "   'endOffset': 6}]}"
      ]
     },
     "metadata": {},
     "output_type": "display_data"
    },
    {
     "data": {
      "text/plain": [
       "{'words': ['그린', '몬스터', '후기', '알려줘'],\n",
       " 'entities': [{'text': '그린 몬스터',\n",
       "   'type': 'ORG',\n",
       "   'score': 1.0,\n",
       "   'beginOffset': 0,\n",
       "   'endOffset': 2}]}"
      ]
     },
     "metadata": {},
     "output_type": "display_data"
    },
    {
     "data": {
      "text/plain": [
       "{'words': ['필동', '멸치', '국수', '괜찮', '아', '?'],\n",
       " 'entities': [{'text': '필동 멸치 국수 괜찮 아 ?',\n",
       "   'type': 'ORG',\n",
       "   'score': 1.0,\n",
       "   'beginOffset': 0,\n",
       "   'endOffset': 6}]}"
      ]
     },
     "metadata": {},
     "output_type": "display_data"
    },
    {
     "data": {
      "text/plain": [
       "{'words': ['코너스', '테이크', '분위기', '어땠어', '?'],\n",
       " 'entities': [{'text': '코너스 테이크',\n",
       "   'type': 'ORG',\n",
       "   'score': 1.0,\n",
       "   'beginOffset': 0,\n",
       "   'endOffset': 2},\n",
       "  {'text': '분위기 어땠어 ?',\n",
       "   'type': 'ADJ',\n",
       "   'score': 1.0,\n",
       "   'beginOffset': 2,\n",
       "   'endOffset': 5}]}"
      ]
     },
     "metadata": {},
     "output_type": "display_data"
    },
    {
     "data": {
      "text/plain": [
       "{'words': ['부', '라', '더', '쭈꾸미', '많이', '매워', '?'],\n",
       " 'entities': [{'text': '부 라 더 쭈꾸미 많이 매워 ?',\n",
       "   'type': 'ORG',\n",
       "   'score': 1.0,\n",
       "   'beginOffset': 0,\n",
       "   'endOffset': 7}]}"
      ]
     },
     "metadata": {},
     "output_type": "display_data"
    },
    {
     "data": {
      "text/plain": [
       "{'words': ['생선', '보감', '생선', '비린', '맛', '어때', '?'],\n",
       " 'entities': [{'text': '생선 보감 생선',\n",
       "   'type': 'ORG',\n",
       "   'score': 1.0,\n",
       "   'beginOffset': 0,\n",
       "   'endOffset': 3},\n",
       "  {'text': '비린 맛',\n",
       "   'type': 'ADJ',\n",
       "   'score': 1.0,\n",
       "   'beginOffset': 3,\n",
       "   'endOffset': 5}]}"
      ]
     },
     "metadata": {},
     "output_type": "display_data"
    },
    {
     "data": {
      "text/plain": [
       "{'words': ['용산', '에', '코스모스', '어때', '?'],\n",
       " 'entities': [{'text': '용산',\n",
       "   'type': 'LOC',\n",
       "   'score': 1.0,\n",
       "   'beginOffset': 0,\n",
       "   'endOffset': 1},\n",
       "  {'text': '코스모스 어때 ?',\n",
       "   'type': 'ORG',\n",
       "   'score': 1.0,\n",
       "   'beginOffset': 2,\n",
       "   'endOffset': 5}]}"
      ]
     },
     "metadata": {},
     "output_type": "display_data"
    },
    {
     "data": {
      "text/plain": [
       "{'words': ['부천', '에', '있', '는', '피자', '앤', '펍', '후기', '알려줘'],\n",
       " 'entities': [{'text': '부천',\n",
       "   'type': 'LOC',\n",
       "   'score': 1.0,\n",
       "   'beginOffset': 0,\n",
       "   'endOffset': 1},\n",
       "  {'text': '피자 앤 펍',\n",
       "   'type': 'ORG',\n",
       "   'score': 1.0,\n",
       "   'beginOffset': 4,\n",
       "   'endOffset': 7}]}"
      ]
     },
     "metadata": {},
     "output_type": "display_data"
    },
    {
     "data": {
      "text/plain": [
       "{'words': ['원주', '에서', '부리', '또', '만나', '리뷰', '보여줘'],\n",
       " 'entities': [{'text': '원주 에서 부리 또 만나',\n",
       "   'type': 'ORG',\n",
       "   'score': 1.0,\n",
       "   'beginOffset': 0,\n",
       "   'endOffset': 5}]}"
      ]
     },
     "metadata": {},
     "output_type": "display_data"
    },
    {
     "data": {
      "text/plain": [
       "{'words': ['원주', '에', '부리', '또', '만나', '리뷰', '보여줘'],\n",
       " 'entities': [{'text': '원주',\n",
       "   'type': 'LOC',\n",
       "   'score': 1.0,\n",
       "   'beginOffset': 0,\n",
       "   'endOffset': 1},\n",
       "  {'text': '부리 또 만나',\n",
       "   'type': 'ORG',\n",
       "   'score': 1.0,\n",
       "   'beginOffset': 2,\n",
       "   'endOffset': 5}]}"
      ]
     },
     "metadata": {},
     "output_type": "display_data"
    },
    {
     "data": {
      "text/plain": [
       "{'words': ['전라도', '여수', '꼬치', '는', '맛', '많이', '매운', '지', '말', '해', '줘'],\n",
       " 'entities': [{'text': '전라도 여수 꼬치',\n",
       "   'type': 'FOD',\n",
       "   'score': 1.0,\n",
       "   'beginOffset': 0,\n",
       "   'endOffset': 3},\n",
       "  {'text': '는 맛 많이 매운',\n",
       "   'type': 'ADJ',\n",
       "   'score': 1.0,\n",
       "   'beginOffset': 3,\n",
       "   'endOffset': 7}]}"
      ]
     },
     "metadata": {},
     "output_type": "display_data"
    },
    {
     "data": {
      "text/plain": [
       "{'words': ['서울',\n",
       "  '에',\n",
       "  '있',\n",
       "  '는',\n",
       "  '준',\n",
       "  '까스',\n",
       "  '파삭파삭',\n",
       "  '한지',\n",
       "  '알려줘',\n",
       "  '똠양꿍',\n",
       "  '추천',\n",
       "  '해',\n",
       "  '줘'],\n",
       " 'entities': [{'text': '서울',\n",
       "   'type': 'LOC',\n",
       "   'score': 1.0,\n",
       "   'beginOffset': 0,\n",
       "   'endOffset': 1},\n",
       "  {'text': '있 는',\n",
       "   'type': 'ADJ',\n",
       "   'score': 1.0,\n",
       "   'beginOffset': 2,\n",
       "   'endOffset': 4},\n",
       "  {'text': '준 까스',\n",
       "   'type': 'FOD',\n",
       "   'score': 1.0,\n",
       "   'beginOffset': 4,\n",
       "   'endOffset': 6},\n",
       "  {'text': '파삭파삭 한지 알려줘',\n",
       "   'type': 'ADJ',\n",
       "   'score': 1.0,\n",
       "   'beginOffset': 6,\n",
       "   'endOffset': 9},\n",
       "  {'text': '똠양꿍',\n",
       "   'type': 'FOD',\n",
       "   'score': 1.0,\n",
       "   'beginOffset': 9,\n",
       "   'endOffset': 10}]}"
      ]
     },
     "metadata": {},
     "output_type": "display_data"
    },
    {
     "data": {
      "text/plain": [
       "{'words': ['국밥', '알려줘'],\n",
       " 'entities': [{'text': '국밥',\n",
       "   'type': 'FOD',\n",
       "   'score': 1.0,\n",
       "   'beginOffset': 0,\n",
       "   'endOffset': 1}]}"
      ]
     },
     "metadata": {},
     "output_type": "display_data"
    },
    {
     "data": {
      "text/plain": [
       "{'words': ['크림', '파스타', '알려줘'],\n",
       " 'entities': [{'text': '크림 파스타',\n",
       "   'type': 'FOD',\n",
       "   'score': 1.0,\n",
       "   'beginOffset': 0,\n",
       "   'endOffset': 2}]}"
      ]
     },
     "metadata": {},
     "output_type": "display_data"
    },
    {
     "data": {
      "text/plain": [
       "{'words': ['샌드위치', '가게', '추천'],\n",
       " 'entities': [{'text': '샌드위치 가게',\n",
       "   'type': 'FOD',\n",
       "   'score': 1.0,\n",
       "   'beginOffset': 0,\n",
       "   'endOffset': 2}]}"
      ]
     },
     "metadata": {},
     "output_type": "display_data"
    },
    {
     "data": {
      "text/plain": [
       "{'words': ['파스타', '종류', '뭐', '뭐', '있', '어', '?'],\n",
       " 'entities': [{'text': '파스타',\n",
       "   'type': 'FOD',\n",
       "   'score': 1.0,\n",
       "   'beginOffset': 0,\n",
       "   'endOffset': 1},\n",
       "  {'text': '종류 뭐',\n",
       "   'type': 'ADJ',\n",
       "   'score': 1.0,\n",
       "   'beginOffset': 1,\n",
       "   'endOffset': 3}]}"
      ]
     },
     "metadata": {},
     "output_type": "display_data"
    },
    {
     "data": {
      "text/plain": [
       "{'words': ['해물탕', '재료', '가', '좋', '은', '곳', '추천'],\n",
       " 'entities': [{'text': '해물탕',\n",
       "   'type': 'FOD',\n",
       "   'score': 1.0,\n",
       "   'beginOffset': 0,\n",
       "   'endOffset': 1},\n",
       "  {'text': '재료 가 좋 은',\n",
       "   'type': 'ADJ',\n",
       "   'score': 1.0,\n",
       "   'beginOffset': 1,\n",
       "   'endOffset': 5}]}"
      ]
     },
     "metadata": {},
     "output_type": "display_data"
    },
    {
     "data": {
      "text/plain": [
       "{'words': ['국밥', '집', '국물', '이', '시원', '한', '곳', '알려줘'],\n",
       " 'entities': [{'text': '국밥 집',\n",
       "   'type': 'FOD',\n",
       "   'score': 1.0,\n",
       "   'beginOffset': 0,\n",
       "   'endOffset': 2},\n",
       "  {'text': '국물 이 시원 한',\n",
       "   'type': 'ADJ',\n",
       "   'score': 1.0,\n",
       "   'beginOffset': 2,\n",
       "   'endOffset': 6}]}"
      ]
     },
     "metadata": {},
     "output_type": "display_data"
    },
    {
     "data": {
      "text/plain": [
       "{'words': ['초밥', '집', '재료', '가', '신선', '한', '곳', '어디', '야', '?'],\n",
       " 'entities': [{'text': '초밥 집',\n",
       "   'type': 'FOD',\n",
       "   'score': 1.0,\n",
       "   'beginOffset': 0,\n",
       "   'endOffset': 2},\n",
       "  {'text': '재료 가 신선 한',\n",
       "   'type': 'ADJ',\n",
       "   'score': 1.0,\n",
       "   'beginOffset': 2,\n",
       "   'endOffset': 6}]}"
      ]
     },
     "metadata": {},
     "output_type": "display_data"
    },
    {
     "data": {
      "text/plain": [
       "{'words': ['치킨', '포장', '할', '수', '있', '는', '곳', '알려줘'],\n",
       " 'entities': [{'text': '치킨',\n",
       "   'type': 'FOD',\n",
       "   'score': 1.0,\n",
       "   'beginOffset': 0,\n",
       "   'endOffset': 1},\n",
       "  {'text': '포장 할 수 있 는',\n",
       "   'type': 'ADJ',\n",
       "   'score': 1.0,\n",
       "   'beginOffset': 1,\n",
       "   'endOffset': 6}]}"
      ]
     },
     "metadata": {},
     "output_type": "display_data"
    },
    {
     "data": {
      "text/plain": [
       "{'words': ['순', '살치', '킨', '배달', '해', '주', '는', '곳', '알려줘'],\n",
       " 'entities': [{'text': '순 살치 킨',\n",
       "   'type': 'FOD',\n",
       "   'score': 1.0,\n",
       "   'beginOffset': 0,\n",
       "   'endOffset': 3},\n",
       "  {'text': '배달 해 주 는',\n",
       "   'type': 'ADJ',\n",
       "   'score': 1.0,\n",
       "   'beginOffset': 3,\n",
       "   'endOffset': 7}]}"
      ]
     },
     "metadata": {},
     "output_type": "display_data"
    },
    {
     "data": {
      "text/plain": [
       "{'words': ['김치찌개', '국물', '이', '시원', '한', '곳', '경기도', '안양', '추천'],\n",
       " 'entities': [{'text': '김치찌개',\n",
       "   'type': 'FOD',\n",
       "   'score': 1.0,\n",
       "   'beginOffset': 0,\n",
       "   'endOffset': 1},\n",
       "  {'text': '국물 이 시원 한',\n",
       "   'type': 'ADJ',\n",
       "   'score': 1.0,\n",
       "   'beginOffset': 1,\n",
       "   'endOffset': 5},\n",
       "  {'text': '경기도 안양',\n",
       "   'type': 'LOC',\n",
       "   'score': 1.0,\n",
       "   'beginOffset': 6,\n",
       "   'endOffset': 8}]}"
      ]
     },
     "metadata": {},
     "output_type": "display_data"
    },
    {
     "data": {
      "text/plain": [
       "{'words': ['닭갈비',\n",
       "  '제일',\n",
       "  '유명',\n",
       "  '한',\n",
       "  '곳',\n",
       "  '춘천',\n",
       "  '에',\n",
       "  '있',\n",
       "  '는',\n",
       "  '곳',\n",
       "  '으로',\n",
       "  '찾',\n",
       "  '아',\n",
       "  '줘'],\n",
       " 'entities': [{'text': '닭갈비',\n",
       "   'type': 'FOD',\n",
       "   'score': 1.0,\n",
       "   'beginOffset': 0,\n",
       "   'endOffset': 1},\n",
       "  {'text': '제일 유명 한',\n",
       "   'type': 'ADJ',\n",
       "   'score': 1.0,\n",
       "   'beginOffset': 1,\n",
       "   'endOffset': 4},\n",
       "  {'text': '춘천',\n",
       "   'type': 'LOC',\n",
       "   'score': 1.0,\n",
       "   'beginOffset': 5,\n",
       "   'endOffset': 6}]}"
      ]
     },
     "metadata": {},
     "output_type": "display_data"
    },
    {
     "data": {
      "text/plain": [
       "{'words': ['마카롱',\n",
       "  '맛있',\n",
       "  '는',\n",
       "  '곳',\n",
       "  '부산',\n",
       "  '에',\n",
       "  '있',\n",
       "  '는',\n",
       "  '곳',\n",
       "  '으로',\n",
       "  '추천',\n",
       "  '해',\n",
       "  '줘'],\n",
       " 'entities': [{'text': '마카롱',\n",
       "   'type': 'FOD',\n",
       "   'score': 1.0,\n",
       "   'beginOffset': 0,\n",
       "   'endOffset': 1},\n",
       "  {'text': '맛있 는',\n",
       "   'type': 'ADJ',\n",
       "   'score': 1.0,\n",
       "   'beginOffset': 1,\n",
       "   'endOffset': 3},\n",
       "  {'text': '부산',\n",
       "   'type': 'LOC',\n",
       "   'score': 1.0,\n",
       "   'beginOffset': 4,\n",
       "   'endOffset': 5}]}"
      ]
     },
     "metadata": {},
     "output_type": "display_data"
    },
    {
     "data": {
      "text/plain": [
       "{'words': ['막국수', '춘천', '에', '안', '매운', '곳', '말', '해', '줘'],\n",
       " 'entities': [{'text': '막국수',\n",
       "   'type': 'FOD',\n",
       "   'score': 1.0,\n",
       "   'beginOffset': 0,\n",
       "   'endOffset': 1},\n",
       "  {'text': '춘천',\n",
       "   'type': 'LOC',\n",
       "   'score': 1.0,\n",
       "   'beginOffset': 1,\n",
       "   'endOffset': 2},\n",
       "  {'text': '안 매운',\n",
       "   'type': 'ADJ',\n",
       "   'score': 1.0,\n",
       "   'beginOffset': 3,\n",
       "   'endOffset': 5}]}"
      ]
     },
     "metadata": {},
     "output_type": "display_data"
    },
    {
     "data": {
      "text/plain": [
       "{'words': ['피자',\n",
       "  '인천',\n",
       "  '에',\n",
       "  '있',\n",
       "  '고',\n",
       "  '주차',\n",
       "  '할',\n",
       "  '수',\n",
       "  '있',\n",
       "  '는',\n",
       "  '곳',\n",
       "  '으로',\n",
       "  '알려줘'],\n",
       " 'entities': [{'text': '피자',\n",
       "   'type': 'FOD',\n",
       "   'score': 1.0,\n",
       "   'beginOffset': 0,\n",
       "   'endOffset': 1},\n",
       "  {'text': '인천',\n",
       "   'type': 'LOC',\n",
       "   'score': 1.0,\n",
       "   'beginOffset': 1,\n",
       "   'endOffset': 2},\n",
       "  {'text': '주차 할 수 있 는',\n",
       "   'type': 'ADJ',\n",
       "   'score': 1.0,\n",
       "   'beginOffset': 5,\n",
       "   'endOffset': 10}]}"
      ]
     },
     "metadata": {},
     "output_type": "display_data"
    }
   ],
   "source": [
    "# 챗봇 4단계 모델 실행결과 (X_good)\n",
    "for text in X_good:\n",
    "    text_prepared = ' '.join(word for word in mecab.morphs(text))\n",
    "    ner = model.analyze(text_prepared)\n",
    "    display(ner)"
   ]
  },
  {
   "cell_type": "code",
   "execution_count": 77,
   "metadata": {},
   "outputs": [
    {
     "data": {
      "text/plain": [
       "{'words': ['소개팅', '하', '기', '좋', '은', '맛집', '알려줘'],\n",
       " 'entities': [{'text': '소개팅',\n",
       "   'type': 'FOD',\n",
       "   'score': 1.0,\n",
       "   'beginOffset': 0,\n",
       "   'endOffset': 1},\n",
       "  {'text': '하 기 좋 은',\n",
       "   'type': 'ADJ',\n",
       "   'score': 1.0,\n",
       "   'beginOffset': 1,\n",
       "   'endOffset': 5}]}"
      ]
     },
     "metadata": {},
     "output_type": "display_data"
    },
    {
     "data": {
      "text/plain": [
       "{'words': ['맛있', '는', '김밥', '찾', '아', '줘'],\n",
       " 'entities': [{'text': '맛있 는 김밥',\n",
       "   'type': 'ORG',\n",
       "   'score': 1.0,\n",
       "   'beginOffset': 0,\n",
       "   'endOffset': 3}]}"
      ]
     },
     "metadata": {},
     "output_type": "display_data"
    },
    {
     "data": {
      "text/plain": [
       "{'words': ['매운', '갈비찜', '찾', '아', '줘'],\n",
       " 'entities': [{'text': '매운 갈비찜',\n",
       "   'type': 'ORG',\n",
       "   'score': 1.0,\n",
       "   'beginOffset': 0,\n",
       "   'endOffset': 2}]}"
      ]
     },
     "metadata": {},
     "output_type": "display_data"
    },
    {
     "data": {
      "text/plain": [
       "{'words': ['제일', '매운', '갈비찜', '이', '뭐', '예요', '?'],\n",
       " 'entities': [{'text': '제일 매운 갈비찜 이 뭐 예요 ?',\n",
       "   'type': 'ORG',\n",
       "   'score': 1.0,\n",
       "   'beginOffset': 0,\n",
       "   'endOffset': 7}]}"
      ]
     },
     "metadata": {},
     "output_type": "display_data"
    },
    {
     "data": {
      "text/plain": [
       "{'words': ['주차', '되', '고', '넓', '은', '곳', '찾', '아', '줘'],\n",
       " 'entities': [{'text': '주차 되 고',\n",
       "   'type': 'FOD',\n",
       "   'score': 1.0,\n",
       "   'beginOffset': 0,\n",
       "   'endOffset': 3},\n",
       "  {'text': '넓 은',\n",
       "   'type': 'ADJ',\n",
       "   'score': 1.0,\n",
       "   'beginOffset': 3,\n",
       "   'endOffset': 5}]}"
      ]
     },
     "metadata": {},
     "output_type": "display_data"
    },
    {
     "data": {
      "text/plain": [
       "{'words': ['정갈', '하', '고', '상견례', '하', '기', '좋', '은', '곳', '있', '을까', '?'],\n",
       " 'entities': [{'text': '정갈 하 고 상견례 하 기 좋 은',\n",
       "   'type': 'ADJ',\n",
       "   'score': 1.0,\n",
       "   'beginOffset': 0,\n",
       "   'endOffset': 8}]}"
      ]
     },
     "metadata": {},
     "output_type": "display_data"
    },
    {
     "data": {
      "text/plain": [
       "{'words': ['맛', '좋', '고', '맛', '이', '특이', '한', '곳', '알려줘'],\n",
       " 'entities': [{'text': '맛 좋 고 맛 이 특이 한',\n",
       "   'type': 'ADJ',\n",
       "   'score': 1.0,\n",
       "   'beginOffset': 0,\n",
       "   'endOffset': 7}]}"
      ]
     },
     "metadata": {},
     "output_type": "display_data"
    },
    {
     "data": {
      "text/plain": [
       "{'words': ['인테리어', '멋지', '고', '사진', '잘', '나오', '는', '맛집'],\n",
       " 'entities': [{'text': '인테리어 멋지 고 사진 잘 나오 는',\n",
       "   'type': 'ADJ',\n",
       "   'score': 1.0,\n",
       "   'beginOffset': 0,\n",
       "   'endOffset': 7}]}"
      ]
     },
     "metadata": {},
     "output_type": "display_data"
    },
    {
     "data": {
      "text/plain": [
       "{'words': ['공기', '좋', '고', '넓', '은', '데', '추천'],\n",
       " 'entities': [{'text': '공기 좋 고 넓 은',\n",
       "   'type': 'ADJ',\n",
       "   'score': 1.0,\n",
       "   'beginOffset': 0,\n",
       "   'endOffset': 5}]}"
      ]
     },
     "metadata": {},
     "output_type": "display_data"
    },
    {
     "data": {
      "text/plain": [
       "{'words': ['몸보신', '하', '기', '좋', '은', '백숙', '집', '인천', '에서', '추천'],\n",
       " 'entities': [{'text': '몸보신 하 기 좋 은',\n",
       "   'type': 'ADJ',\n",
       "   'score': 1.0,\n",
       "   'beginOffset': 0,\n",
       "   'endOffset': 5},\n",
       "  {'text': '백숙 집',\n",
       "   'type': 'FOD',\n",
       "   'score': 1.0,\n",
       "   'beginOffset': 5,\n",
       "   'endOffset': 7},\n",
       "  {'text': '인천 에서',\n",
       "   'type': 'LOC',\n",
       "   'score': 1.0,\n",
       "   'beginOffset': 7,\n",
       "   'endOffset': 9}]}"
      ]
     },
     "metadata": {},
     "output_type": "display_data"
    },
    {
     "data": {
      "text/plain": [
       "{'words': ['고기',\n",
       "  '많이',\n",
       "  '들어간',\n",
       "  '국밥',\n",
       "  '집',\n",
       "  '부산',\n",
       "  '에',\n",
       "  '있',\n",
       "  '는',\n",
       "  '걸로',\n",
       "  '찾',\n",
       "  '아',\n",
       "  '줘'],\n",
       " 'entities': [{'text': '고기 많이 들어간 국밥 집',\n",
       "   'type': 'ORG',\n",
       "   'score': 1.0,\n",
       "   'beginOffset': 0,\n",
       "   'endOffset': 5},\n",
       "  {'text': '부산 에 있 는',\n",
       "   'type': 'ADJ',\n",
       "   'score': 1.0,\n",
       "   'beginOffset': 5,\n",
       "   'endOffset': 9},\n",
       "  {'text': '걸로',\n",
       "   'type': 'FOD',\n",
       "   'score': 1.0,\n",
       "   'beginOffset': 9,\n",
       "   'endOffset': 10}]}"
      ]
     },
     "metadata": {},
     "output_type": "display_data"
    },
    {
     "data": {
      "text/plain": [
       "{'words': ['원조', '인도', '카레', '맛집', '이태원', '에서', '추천'],\n",
       " 'entities': [{'text': '원조',\n",
       "   'type': 'ADJ',\n",
       "   'score': 1.0,\n",
       "   'beginOffset': 0,\n",
       "   'endOffset': 1},\n",
       "  {'text': '인도 카레',\n",
       "   'type': 'FOD',\n",
       "   'score': 1.0,\n",
       "   'beginOffset': 1,\n",
       "   'endOffset': 3},\n",
       "  {'text': '맛집',\n",
       "   'type': 'ADJ',\n",
       "   'score': 1.0,\n",
       "   'beginOffset': 3,\n",
       "   'endOffset': 4},\n",
       "  {'text': '이태원',\n",
       "   'type': 'FOD',\n",
       "   'score': 1.0,\n",
       "   'beginOffset': 4,\n",
       "   'endOffset': 5}]}"
      ]
     },
     "metadata": {},
     "output_type": "display_data"
    },
    {
     "data": {
      "text/plain": [
       "{'words': ['향긋', '한', '차', '마실', '수', '있', '는', '곳', '용인', '으로', '알려줘'],\n",
       " 'entities': [{'text': '향긋 한',\n",
       "   'type': 'ADJ',\n",
       "   'score': 1.0,\n",
       "   'beginOffset': 0,\n",
       "   'endOffset': 2},\n",
       "  {'text': '차', 'type': 'FOD', 'score': 1.0, 'beginOffset': 2, 'endOffset': 3},\n",
       "  {'text': '마실 수',\n",
       "   'type': 'ADJ',\n",
       "   'score': 1.0,\n",
       "   'beginOffset': 3,\n",
       "   'endOffset': 5}]}"
      ]
     },
     "metadata": {},
     "output_type": "display_data"
    },
    {
     "data": {
      "text/plain": [
       "{'words': ['광주', '카페', '추천'],\n",
       " 'entities': [{'text': '광주 카페',\n",
       "   'type': 'FOD',\n",
       "   'score': 1.0,\n",
       "   'beginOffset': 0,\n",
       "   'endOffset': 2}]}"
      ]
     },
     "metadata": {},
     "output_type": "display_data"
    },
    {
     "data": {
      "text/plain": [
       "{'words': ['서울', '은', '뭐', '가', '맛있', '어', '?'],\n",
       " 'entities': [{'text': '서울 은 뭐 가 맛있 어 ?',\n",
       "   'type': 'ORG',\n",
       "   'score': 1.0,\n",
       "   'beginOffset': 0,\n",
       "   'endOffset': 7}]}"
      ]
     },
     "metadata": {},
     "output_type": "display_data"
    },
    {
     "data": {
      "text/plain": [
       "{'words': ['대전', '에서', '뭘', '먹', '어야', '할까', '?'],\n",
       " 'entities': [{'text': '대전 에서 뭘 먹 어야 할까 ?',\n",
       "   'type': 'ORG',\n",
       "   'score': 1.0,\n",
       "   'beginOffset': 0,\n",
       "   'endOffset': 7}]}"
      ]
     },
     "metadata": {},
     "output_type": "display_data"
    },
    {
     "data": {
      "text/plain": [
       "{'words': ['제주도', '흙', '돼', '지', '구', '이', '추천'],\n",
       " 'entities': [{'text': '제주도 흙 돼 지 구 이 추천',\n",
       "   'type': 'ADJ',\n",
       "   'score': 1.0,\n",
       "   'beginOffset': 0,\n",
       "   'endOffset': 7}]}"
      ]
     },
     "metadata": {},
     "output_type": "display_data"
    },
    {
     "data": {
      "text/plain": [
       "{'words': ['전라도', '보쌈', '맛집', '추천'],\n",
       " 'entities': [{'text': '전라도 보쌈',\n",
       "   'type': 'FOD',\n",
       "   'score': 1.0,\n",
       "   'beginOffset': 0,\n",
       "   'endOffset': 2}]}"
      ]
     },
     "metadata": {},
     "output_type": "display_data"
    },
    {
     "data": {
      "text/plain": [
       "{'words': ['제주도', '흙', '돼', '지', '구', '이', '추천'],\n",
       " 'entities': [{'text': '제주도 흙 돼 지 구 이 추천',\n",
       "   'type': 'ADJ',\n",
       "   'score': 1.0,\n",
       "   'beginOffset': 0,\n",
       "   'endOffset': 7}]}"
      ]
     },
     "metadata": {},
     "output_type": "display_data"
    },
    {
     "data": {
      "text/plain": [
       "{'words': ['광주', '에서', '부모', '님', '과', '가', '기', '좋', '은', '레스토랑', '추천'],\n",
       " 'entities': [{'text': '광주 에서',\n",
       "   'type': 'FOD',\n",
       "   'score': 1.0,\n",
       "   'beginOffset': 0,\n",
       "   'endOffset': 2},\n",
       "  {'text': '부모 님 과 가 기 좋 은',\n",
       "   'type': 'ADJ',\n",
       "   'score': 1.0,\n",
       "   'beginOffset': 2,\n",
       "   'endOffset': 9},\n",
       "  {'text': '레스토랑',\n",
       "   'type': 'FOD',\n",
       "   'score': 1.0,\n",
       "   'beginOffset': 9,\n",
       "   'endOffset': 10}]}"
      ]
     },
     "metadata": {},
     "output_type": "display_data"
    },
    {
     "data": {
      "text/plain": [
       "{'words': ['야경', '예쁘', '고', '사진', '잘', '나오', '는', '카페', '알려줘'],\n",
       " 'entities': [{'text': '야경 예쁘 고 사진 잘 나오 는',\n",
       "   'type': 'ADJ',\n",
       "   'score': 1.0,\n",
       "   'beginOffset': 0,\n",
       "   'endOffset': 7},\n",
       "  {'text': '카페',\n",
       "   'type': 'FOD',\n",
       "   'score': 1.0,\n",
       "   'beginOffset': 7,\n",
       "   'endOffset': 8}]}"
      ]
     },
     "metadata": {},
     "output_type": "display_data"
    },
    {
     "data": {
      "text/plain": [
       "{'words': ['정갈', '하', '면서', '깔끔', '한', '한정식', '집', '알려줘'],\n",
       " 'entities': [{'text': '정갈 하 면서 깔끔 한',\n",
       "   'type': 'ADJ',\n",
       "   'score': 1.0,\n",
       "   'beginOffset': 0,\n",
       "   'endOffset': 5},\n",
       "  {'text': '한정식 집',\n",
       "   'type': 'FOD',\n",
       "   'score': 1.0,\n",
       "   'beginOffset': 5,\n",
       "   'endOffset': 7}]}"
      ]
     },
     "metadata": {},
     "output_type": "display_data"
    },
    {
     "data": {
      "text/plain": [
       "{'words': ['부', '라', '더', '쭈꾸미', '많이', '매워', '?'],\n",
       " 'entities': [{'text': '부 라 더 쭈꾸미 많이 매워 ?',\n",
       "   'type': 'ORG',\n",
       "   'score': 1.0,\n",
       "   'beginOffset': 0,\n",
       "   'endOffset': 7}]}"
      ]
     },
     "metadata": {},
     "output_type": "display_data"
    },
    {
     "data": {
      "text/plain": [
       "{'words': ['용산', '코스모스', '어때', '?'],\n",
       " 'entities': [{'text': '용산 코스모스 어때 ?',\n",
       "   'type': 'ORG',\n",
       "   'score': 1.0,\n",
       "   'beginOffset': 0,\n",
       "   'endOffset': 4}]}"
      ]
     },
     "metadata": {},
     "output_type": "display_data"
    },
    {
     "data": {
      "text/plain": [
       "{'words': ['부천', '피자', '앤', '펍', '후기', '알려줘'],\n",
       " 'entities': [{'text': '부천 피자 앤 펍',\n",
       "   'type': 'ORG',\n",
       "   'score': 1.0,\n",
       "   'beginOffset': 0,\n",
       "   'endOffset': 4}]}"
      ]
     },
     "metadata": {},
     "output_type": "display_data"
    },
    {
     "data": {
      "text/plain": [
       "{'words': ['원주', '에서', '부리', '또', '만나', '리뷰', '보여줘'],\n",
       " 'entities': [{'text': '원주 에서 부리 또 만나',\n",
       "   'type': 'ORG',\n",
       "   'score': 1.0,\n",
       "   'beginOffset': 0,\n",
       "   'endOffset': 5}]}"
      ]
     },
     "metadata": {},
     "output_type": "display_data"
    },
    {
     "data": {
      "text/plain": [
       "{'words': ['서울', '준', '까스', '파삭파삭', '한지', '알려줘'],\n",
       " 'entities': [{'text': '서울 준 까스',\n",
       "   'type': 'FOD',\n",
       "   'score': 1.0,\n",
       "   'beginOffset': 0,\n",
       "   'endOffset': 3},\n",
       "  {'text': '파삭파삭 한지 알려줘',\n",
       "   'type': 'ADJ',\n",
       "   'score': 1.0,\n",
       "   'beginOffset': 3,\n",
       "   'endOffset': 6}]}"
      ]
     },
     "metadata": {},
     "output_type": "display_data"
    },
    {
     "data": {
      "text/plain": [
       "{'words': ['서대문', '홍', '탁', '집', '대기', '줄', '길', '어', '?'],\n",
       " 'entities': [{'text': '서대문 홍 탁 집 대기 줄 길 어 ?',\n",
       "   'type': 'ORG',\n",
       "   'score': 1.0,\n",
       "   'beginOffset': 0,\n",
       "   'endOffset': 9}]}"
      ]
     },
     "metadata": {},
     "output_type": "display_data"
    },
    {
     "data": {
      "text/plain": [
       "{'words': ['강동구', '더', '짬뽕', '양', '많이', '주', '나요', '?'],\n",
       " 'entities': [{'text': '강동구 더 짬뽕 양 많이 주 나요 ?',\n",
       "   'type': 'ORG',\n",
       "   'score': 1.0,\n",
       "   'beginOffset': 0,\n",
       "   'endOffset': 8}]}"
      ]
     },
     "metadata": {},
     "output_type": "display_data"
    },
    {
     "data": {
      "text/plain": [
       "{'words': ['거제', '에', '풍년', '비빔밥', '재료', '가', '신선', '한지', '말', '해', '주', '세요'],\n",
       " 'entities': [{'text': '거제',\n",
       "   'type': 'LOC',\n",
       "   'score': 1.0,\n",
       "   'beginOffset': 0,\n",
       "   'endOffset': 1},\n",
       "  {'text': '풍년 비빔밥',\n",
       "   'type': 'FOD',\n",
       "   'score': 1.0,\n",
       "   'beginOffset': 2,\n",
       "   'endOffset': 4},\n",
       "  {'text': '재료 가 신선 한지',\n",
       "   'type': 'ADJ',\n",
       "   'score': 1.0,\n",
       "   'beginOffset': 4,\n",
       "   'endOffset': 8}]}"
      ]
     },
     "metadata": {},
     "output_type": "display_data"
    }
   ],
   "source": [
    "# 챗봇 4단계 모델 실행결과 (X_bad)\n",
    "for text in X_bad:\n",
    "    text_prepared = ' '.join(word for word in mecab.morphs(text))\n",
    "    ner = model.analyze(text_prepared)\n",
    "    display(ner)"
   ]
  },
  {
   "cell_type": "code",
   "execution_count": 78,
   "metadata": {},
   "outputs": [],
   "source": [
    "q_list = [\n",
    "    '맛있는 제육덮밥 집 알려줘'\n",
    "    ,'파스쿠찌 위치 알려주세요'\n",
    "    ,'담소 순대국밥집 청결한가요?'\n",
    "    ,'담소 순대국밥집 맛있어요?'\n",
    "    ,'담소 순대국밥집 맛있는 곳인가요?'\n",
    "    ,'숯불구이 맛있는곳 알려주실래요?'\n",
    "    ,'온센텐동 사람들 리뷰 좀 알려주세요'\n",
    "    ,'온센텐동 위치가 어떻게 되나요'\n",
    "    ,'파스쿠찌 맛있어요?'\n",
    "    ,'가성비 대박인 육개장 집 알려주세요'\n",
    "    ,'맛있는 육개장집 알려주세요'\n",
    "    ,'육개장 맛있는 곳 알려주세요'\n",
    "    ,'서울에 맛있는 육개장 가게 알려주세요'\n",
    "    ,'제주도에 유명한 흑돼지 식당 알려주세요'\n",
    "    ,'제주도에 맛있는 흑돼지 식당 알려주세요'\n",
    "    ,'제주도에 흑돼지 식당 맛있는 곳 알려주세요'\n",
    "    ,'제주도에 흑돼지 식당 맛집 알려주세요'\n",
    "    ,'제주도에 흑돼지 식당 맛 개쩌는 곳 알려주세요'\n",
    "    ,'맛있고 깔끔한 한식집 아세요'\n",
    "    ,'맛있는 깔끔한 한식집 아세요'\n",
    "]"
   ]
  },
  {
   "cell_type": "code",
   "execution_count": 79,
   "metadata": {},
   "outputs": [
    {
     "data": {
      "text/plain": [
       "{'words': ['맛있', '는', '제육', '덮밥', '집', '알려줘'],\n",
       " 'entities': [{'text': '맛있 는',\n",
       "   'type': 'ADJ',\n",
       "   'score': 1.0,\n",
       "   'beginOffset': 0,\n",
       "   'endOffset': 2},\n",
       "  {'text': '제육 덮밥',\n",
       "   'type': 'FOD',\n",
       "   'score': 1.0,\n",
       "   'beginOffset': 2,\n",
       "   'endOffset': 4},\n",
       "  {'text': '집 알려줘',\n",
       "   'type': 'ORG',\n",
       "   'score': 1.0,\n",
       "   'beginOffset': 4,\n",
       "   'endOffset': 6}]}"
      ]
     },
     "metadata": {},
     "output_type": "display_data"
    },
    {
     "data": {
      "text/plain": [
       "{'words': ['파스', '쿠', '찌', '위치', '알려', '주', '세요'],\n",
       " 'entities': [{'text': '파스 쿠 찌',\n",
       "   'type': 'ORG',\n",
       "   'score': 1.0,\n",
       "   'beginOffset': 0,\n",
       "   'endOffset': 3}]}"
      ]
     },
     "metadata": {},
     "output_type": "display_data"
    },
    {
     "data": {
      "text/plain": [
       "{'words': ['담소', '순대', '국밥', '집', '청결', '한가요', '?'],\n",
       " 'entities': [{'text': '담소 순대 국밥 집',\n",
       "   'type': 'ORG',\n",
       "   'score': 1.0,\n",
       "   'beginOffset': 0,\n",
       "   'endOffset': 4},\n",
       "  {'text': '청결 한가요',\n",
       "   'type': 'ADJ',\n",
       "   'score': 1.0,\n",
       "   'beginOffset': 4,\n",
       "   'endOffset': 6}]}"
      ]
     },
     "metadata": {},
     "output_type": "display_data"
    },
    {
     "data": {
      "text/plain": [
       "{'words': ['담소', '순대', '국밥', '집', '맛있', '어요', '?'],\n",
       " 'entities': [{'text': '담소 순대 국밥 집 맛있 어요 ?',\n",
       "   'type': 'ORG',\n",
       "   'score': 1.0,\n",
       "   'beginOffset': 0,\n",
       "   'endOffset': 7}]}"
      ]
     },
     "metadata": {},
     "output_type": "display_data"
    },
    {
     "data": {
      "text/plain": [
       "{'words': ['담소', '순대', '국밥', '집', '맛있', '는', '곳', '인가요', '?'],\n",
       " 'entities': [{'text': '담소 순대 국밥 집',\n",
       "   'type': 'ORG',\n",
       "   'score': 1.0,\n",
       "   'beginOffset': 0,\n",
       "   'endOffset': 4},\n",
       "  {'text': '맛있 는',\n",
       "   'type': 'ADJ',\n",
       "   'score': 1.0,\n",
       "   'beginOffset': 4,\n",
       "   'endOffset': 6}]}"
      ]
     },
     "metadata": {},
     "output_type": "display_data"
    },
    {
     "data": {
      "text/plain": [
       "{'words': ['숯불', '구이', '맛있', '는', '곳', '알려', '주', '실래요', '?'],\n",
       " 'entities': [{'text': '숯불 구이',\n",
       "   'type': 'FOD',\n",
       "   'score': 1.0,\n",
       "   'beginOffset': 0,\n",
       "   'endOffset': 2},\n",
       "  {'text': '맛있 는',\n",
       "   'type': 'ADJ',\n",
       "   'score': 1.0,\n",
       "   'beginOffset': 2,\n",
       "   'endOffset': 4}]}"
      ]
     },
     "metadata": {},
     "output_type": "display_data"
    },
    {
     "data": {
      "text/plain": [
       "{'words': ['온', '센', '텐동', '사람', '들', '리뷰', '좀', '알려', '주', '세요'],\n",
       " 'entities': [{'text': '온 센 텐동',\n",
       "   'type': 'ORG',\n",
       "   'score': 1.0,\n",
       "   'beginOffset': 0,\n",
       "   'endOffset': 3}]}"
      ]
     },
     "metadata": {},
     "output_type": "display_data"
    },
    {
     "data": {
      "text/plain": [
       "{'words': ['온', '센', '텐동', '위치', '가', '어떻게', '되', '나요'],\n",
       " 'entities': [{'text': '온 센 텐동',\n",
       "   'type': 'ORG',\n",
       "   'score': 1.0,\n",
       "   'beginOffset': 0,\n",
       "   'endOffset': 3}]}"
      ]
     },
     "metadata": {},
     "output_type": "display_data"
    },
    {
     "data": {
      "text/plain": [
       "{'words': ['파스', '쿠', '찌', '맛있', '어요', '?'],\n",
       " 'entities': [{'text': '파스 쿠 찌 맛있 어요 ?',\n",
       "   'type': 'ORG',\n",
       "   'score': 1.0,\n",
       "   'beginOffset': 0,\n",
       "   'endOffset': 6}]}"
      ]
     },
     "metadata": {},
     "output_type": "display_data"
    },
    {
     "data": {
      "text/plain": [
       "{'words': ['가성', '비', '대박', '인', '육개장', '집', '알려', '주', '세요'],\n",
       " 'entities': [{'text': '가성 비 대박 인',\n",
       "   'type': 'ADJ',\n",
       "   'score': 1.0,\n",
       "   'beginOffset': 0,\n",
       "   'endOffset': 4},\n",
       "  {'text': '육개장 집',\n",
       "   'type': 'FOD',\n",
       "   'score': 1.0,\n",
       "   'beginOffset': 4,\n",
       "   'endOffset': 6}]}"
      ]
     },
     "metadata": {},
     "output_type": "display_data"
    },
    {
     "data": {
      "text/plain": [
       "{'words': ['맛있', '는', '육개장', '집', '알려', '주', '세요'],\n",
       " 'entities': [{'text': '맛있 는',\n",
       "   'type': 'ADJ',\n",
       "   'score': 1.0,\n",
       "   'beginOffset': 0,\n",
       "   'endOffset': 2},\n",
       "  {'text': '육개장 집',\n",
       "   'type': 'FOD',\n",
       "   'score': 1.0,\n",
       "   'beginOffset': 2,\n",
       "   'endOffset': 4}]}"
      ]
     },
     "metadata": {},
     "output_type": "display_data"
    },
    {
     "data": {
      "text/plain": [
       "{'words': ['육개장', '맛있', '는', '곳', '알려', '주', '세요'],\n",
       " 'entities': [{'text': '육개장',\n",
       "   'type': 'FOD',\n",
       "   'score': 1.0,\n",
       "   'beginOffset': 0,\n",
       "   'endOffset': 1},\n",
       "  {'text': '맛있 는',\n",
       "   'type': 'ADJ',\n",
       "   'score': 1.0,\n",
       "   'beginOffset': 1,\n",
       "   'endOffset': 3}]}"
      ]
     },
     "metadata": {},
     "output_type": "display_data"
    },
    {
     "data": {
      "text/plain": [
       "{'words': ['서울', '에', '맛있', '는', '육개장', '가', '게', '알려', '주', '세요'],\n",
       " 'entities': [{'text': '서울',\n",
       "   'type': 'LOC',\n",
       "   'score': 1.0,\n",
       "   'beginOffset': 0,\n",
       "   'endOffset': 1},\n",
       "  {'text': '맛있 는',\n",
       "   'type': 'ADJ',\n",
       "   'score': 1.0,\n",
       "   'beginOffset': 2,\n",
       "   'endOffset': 4},\n",
       "  {'text': '육개장 가 게',\n",
       "   'type': 'FOD',\n",
       "   'score': 1.0,\n",
       "   'beginOffset': 4,\n",
       "   'endOffset': 7}]}"
      ]
     },
     "metadata": {},
     "output_type": "display_data"
    },
    {
     "data": {
      "text/plain": [
       "{'words': ['제주도', '에', '유명', '한', '흑', '돼지', '식당', '알려', '주', '세요'],\n",
       " 'entities': [{'text': '제주도',\n",
       "   'type': 'LOC',\n",
       "   'score': 1.0,\n",
       "   'beginOffset': 0,\n",
       "   'endOffset': 1},\n",
       "  {'text': '유명 한',\n",
       "   'type': 'ADJ',\n",
       "   'score': 1.0,\n",
       "   'beginOffset': 2,\n",
       "   'endOffset': 4},\n",
       "  {'text': '흑 돼지 식당',\n",
       "   'type': 'FOD',\n",
       "   'score': 1.0,\n",
       "   'beginOffset': 4,\n",
       "   'endOffset': 7}]}"
      ]
     },
     "metadata": {},
     "output_type": "display_data"
    },
    {
     "data": {
      "text/plain": [
       "{'words': ['제주도', '에', '맛있', '는', '흑', '돼지', '식당', '알려', '주', '세요'],\n",
       " 'entities': [{'text': '제주도',\n",
       "   'type': 'LOC',\n",
       "   'score': 1.0,\n",
       "   'beginOffset': 0,\n",
       "   'endOffset': 1},\n",
       "  {'text': '맛있 는',\n",
       "   'type': 'ADJ',\n",
       "   'score': 1.0,\n",
       "   'beginOffset': 2,\n",
       "   'endOffset': 4},\n",
       "  {'text': '흑 돼지 식당',\n",
       "   'type': 'FOD',\n",
       "   'score': 1.0,\n",
       "   'beginOffset': 4,\n",
       "   'endOffset': 7}]}"
      ]
     },
     "metadata": {},
     "output_type": "display_data"
    },
    {
     "data": {
      "text/plain": [
       "{'words': ['제주도', '에', '흑', '돼지', '식당', '맛있', '는', '곳', '알려', '주', '세요'],\n",
       " 'entities': [{'text': '제주도',\n",
       "   'type': 'LOC',\n",
       "   'score': 1.0,\n",
       "   'beginOffset': 0,\n",
       "   'endOffset': 1},\n",
       "  {'text': '흑 돼지 식당',\n",
       "   'type': 'FOD',\n",
       "   'score': 1.0,\n",
       "   'beginOffset': 2,\n",
       "   'endOffset': 5},\n",
       "  {'text': '맛있 는',\n",
       "   'type': 'ADJ',\n",
       "   'score': 1.0,\n",
       "   'beginOffset': 5,\n",
       "   'endOffset': 7}]}"
      ]
     },
     "metadata": {},
     "output_type": "display_data"
    },
    {
     "data": {
      "text/plain": [
       "{'words': ['제주도', '에', '흑', '돼지', '식당', '맛집', '알려', '주', '세요'],\n",
       " 'entities': [{'text': '제주도',\n",
       "   'type': 'LOC',\n",
       "   'score': 1.0,\n",
       "   'beginOffset': 0,\n",
       "   'endOffset': 1},\n",
       "  {'text': '흑 돼지 식당',\n",
       "   'type': 'FOD',\n",
       "   'score': 1.0,\n",
       "   'beginOffset': 2,\n",
       "   'endOffset': 5}]}"
      ]
     },
     "metadata": {},
     "output_type": "display_data"
    },
    {
     "data": {
      "text/plain": [
       "{'words': ['제주도',\n",
       "  '에',\n",
       "  '흑',\n",
       "  '돼지',\n",
       "  '식당',\n",
       "  '맛',\n",
       "  '개',\n",
       "  '쩌',\n",
       "  '는',\n",
       "  '곳',\n",
       "  '알려',\n",
       "  '주',\n",
       "  '세요'],\n",
       " 'entities': [{'text': '제주도',\n",
       "   'type': 'LOC',\n",
       "   'score': 1.0,\n",
       "   'beginOffset': 0,\n",
       "   'endOffset': 1},\n",
       "  {'text': '흑 돼지 식당',\n",
       "   'type': 'FOD',\n",
       "   'score': 1.0,\n",
       "   'beginOffset': 2,\n",
       "   'endOffset': 5},\n",
       "  {'text': '맛 개 쩌 는',\n",
       "   'type': 'ADJ',\n",
       "   'score': 1.0,\n",
       "   'beginOffset': 5,\n",
       "   'endOffset': 9}]}"
      ]
     },
     "metadata": {},
     "output_type": "display_data"
    },
    {
     "data": {
      "text/plain": [
       "{'words': ['맛있', '고', '깔끔', '한', '한식집', '아세요'],\n",
       " 'entities': [{'text': '맛있 고 깔끔 한',\n",
       "   'type': 'ADJ',\n",
       "   'score': 1.0,\n",
       "   'beginOffset': 0,\n",
       "   'endOffset': 4},\n",
       "  {'text': '한식집',\n",
       "   'type': 'FOD',\n",
       "   'score': 1.0,\n",
       "   'beginOffset': 4,\n",
       "   'endOffset': 5}]}"
      ]
     },
     "metadata": {},
     "output_type": "display_data"
    },
    {
     "data": {
      "text/plain": [
       "{'words': ['맛있', '는', '깔끔', '한', '한식집', '아세요'],\n",
       " 'entities': [{'text': '맛있 는',\n",
       "   'type': 'ADJ',\n",
       "   'score': 1.0,\n",
       "   'beginOffset': 0,\n",
       "   'endOffset': 2},\n",
       "  {'text': '깔끔 한',\n",
       "   'type': 'ADJ',\n",
       "   'score': 1.0,\n",
       "   'beginOffset': 2,\n",
       "   'endOffset': 4},\n",
       "  {'text': '한식집',\n",
       "   'type': 'FOD',\n",
       "   'score': 1.0,\n",
       "   'beginOffset': 4,\n",
       "   'endOffset': 5}]}"
      ]
     },
     "metadata": {},
     "output_type": "display_data"
    }
   ],
   "source": [
    "# mecab 실행결과\n",
    "for text in q_list:\n",
    "    text_prepared = ' '.join(word for word in mecab.morphs(text))\n",
    "    ner = model.analyze(text_prepared)\n",
    "    display(ner)"
   ]
  },
  {
   "cell_type": "code",
   "execution_count": 80,
   "metadata": {},
   "outputs": [
    {
     "data": {
      "text/plain": [
       "{'words': ['맛있', '는', '제육', '덮밥', '집', '알려줘'],\n",
       " 'entities': [{'text': '맛있 는',\n",
       "   'type': 'ADJ',\n",
       "   'score': 1.0,\n",
       "   'beginOffset': 0,\n",
       "   'endOffset': 2},\n",
       "  {'text': '제육 덮밥',\n",
       "   'type': 'FOD',\n",
       "   'score': 1.0,\n",
       "   'beginOffset': 2,\n",
       "   'endOffset': 4},\n",
       "  {'text': '집 알려줘',\n",
       "   'type': 'ORG',\n",
       "   'score': 1.0,\n",
       "   'beginOffset': 4,\n",
       "   'endOffset': 6}]}"
      ]
     },
     "metadata": {},
     "output_type": "display_data"
    },
    {
     "data": {
      "text/plain": [
       "{'words': ['파스', '쿠', '찌', '위치', '알려', '주', '세요'],\n",
       " 'entities': [{'text': '파스 쿠 찌',\n",
       "   'type': 'ORG',\n",
       "   'score': 1.0,\n",
       "   'beginOffset': 0,\n",
       "   'endOffset': 3}]}"
      ]
     },
     "metadata": {},
     "output_type": "display_data"
    },
    {
     "data": {
      "text/plain": [
       "{'words': ['담소', '순대', '국밥', '집', '청결', '한가요', '?'],\n",
       " 'entities': [{'text': '담소 순대 국밥 집',\n",
       "   'type': 'ORG',\n",
       "   'score': 1.0,\n",
       "   'beginOffset': 0,\n",
       "   'endOffset': 4},\n",
       "  {'text': '청결 한가요',\n",
       "   'type': 'ADJ',\n",
       "   'score': 1.0,\n",
       "   'beginOffset': 4,\n",
       "   'endOffset': 6}]}"
      ]
     },
     "metadata": {},
     "output_type": "display_data"
    },
    {
     "data": {
      "text/plain": [
       "{'words': ['담소', '순대', '국밥', '집', '맛있', '어요', '?'],\n",
       " 'entities': [{'text': '담소 순대 국밥 집 맛있 어요 ?',\n",
       "   'type': 'ORG',\n",
       "   'score': 1.0,\n",
       "   'beginOffset': 0,\n",
       "   'endOffset': 7}]}"
      ]
     },
     "metadata": {},
     "output_type": "display_data"
    },
    {
     "data": {
      "text/plain": [
       "{'words': ['담소', '순대', '국밥', '집', '맛있', '는', '곳', '인가요', '?'],\n",
       " 'entities': [{'text': '담소 순대 국밥 집',\n",
       "   'type': 'ORG',\n",
       "   'score': 1.0,\n",
       "   'beginOffset': 0,\n",
       "   'endOffset': 4},\n",
       "  {'text': '맛있 는',\n",
       "   'type': 'ADJ',\n",
       "   'score': 1.0,\n",
       "   'beginOffset': 4,\n",
       "   'endOffset': 6}]}"
      ]
     },
     "metadata": {},
     "output_type": "display_data"
    },
    {
     "data": {
      "text/plain": [
       "{'words': ['숯불', '구이', '맛있', '는', '곳', '알려', '주', '실래요', '?'],\n",
       " 'entities': [{'text': '숯불 구이',\n",
       "   'type': 'FOD',\n",
       "   'score': 1.0,\n",
       "   'beginOffset': 0,\n",
       "   'endOffset': 2},\n",
       "  {'text': '맛있 는',\n",
       "   'type': 'ADJ',\n",
       "   'score': 1.0,\n",
       "   'beginOffset': 2,\n",
       "   'endOffset': 4}]}"
      ]
     },
     "metadata": {},
     "output_type": "display_data"
    },
    {
     "data": {
      "text/plain": [
       "{'words': ['온', '센', '텐동', '사람', '들', '리뷰', '좀', '알려', '주', '세요'],\n",
       " 'entities': [{'text': '온 센 텐동',\n",
       "   'type': 'ORG',\n",
       "   'score': 1.0,\n",
       "   'beginOffset': 0,\n",
       "   'endOffset': 3}]}"
      ]
     },
     "metadata": {},
     "output_type": "display_data"
    },
    {
     "data": {
      "text/plain": [
       "{'words': ['온', '센', '텐동', '위치', '가', '어떻게', '되', '나요'],\n",
       " 'entities': [{'text': '온 센 텐동',\n",
       "   'type': 'ORG',\n",
       "   'score': 1.0,\n",
       "   'beginOffset': 0,\n",
       "   'endOffset': 3}]}"
      ]
     },
     "metadata": {},
     "output_type": "display_data"
    },
    {
     "data": {
      "text/plain": [
       "{'words': ['파스', '쿠', '찌', '맛있', '어요', '?'],\n",
       " 'entities': [{'text': '파스 쿠 찌 맛있 어요 ?',\n",
       "   'type': 'ORG',\n",
       "   'score': 1.0,\n",
       "   'beginOffset': 0,\n",
       "   'endOffset': 6}]}"
      ]
     },
     "metadata": {},
     "output_type": "display_data"
    },
    {
     "data": {
      "text/plain": [
       "{'words': ['가성', '비', '대박', '인', '육개장', '집', '알려', '주', '세요'],\n",
       " 'entities': [{'text': '가성 비 대박 인',\n",
       "   'type': 'ADJ',\n",
       "   'score': 1.0,\n",
       "   'beginOffset': 0,\n",
       "   'endOffset': 4},\n",
       "  {'text': '육개장 집',\n",
       "   'type': 'FOD',\n",
       "   'score': 1.0,\n",
       "   'beginOffset': 4,\n",
       "   'endOffset': 6}]}"
      ]
     },
     "metadata": {},
     "output_type": "display_data"
    },
    {
     "data": {
      "text/plain": [
       "{'words': ['맛있', '는', '육개장', '집', '알려', '주', '세요'],\n",
       " 'entities': [{'text': '맛있 는',\n",
       "   'type': 'ADJ',\n",
       "   'score': 1.0,\n",
       "   'beginOffset': 0,\n",
       "   'endOffset': 2},\n",
       "  {'text': '육개장 집',\n",
       "   'type': 'FOD',\n",
       "   'score': 1.0,\n",
       "   'beginOffset': 2,\n",
       "   'endOffset': 4}]}"
      ]
     },
     "metadata": {},
     "output_type": "display_data"
    },
    {
     "data": {
      "text/plain": [
       "{'words': ['육개장', '맛있', '는', '곳', '알려', '주', '세요'],\n",
       " 'entities': [{'text': '육개장',\n",
       "   'type': 'FOD',\n",
       "   'score': 1.0,\n",
       "   'beginOffset': 0,\n",
       "   'endOffset': 1},\n",
       "  {'text': '맛있 는',\n",
       "   'type': 'ADJ',\n",
       "   'score': 1.0,\n",
       "   'beginOffset': 1,\n",
       "   'endOffset': 3}]}"
      ]
     },
     "metadata": {},
     "output_type": "display_data"
    },
    {
     "data": {
      "text/plain": [
       "{'words': ['서울', '에', '맛있', '는', '육개장', '가', '게', '알려', '주', '세요'],\n",
       " 'entities': [{'text': '서울',\n",
       "   'type': 'LOC',\n",
       "   'score': 1.0,\n",
       "   'beginOffset': 0,\n",
       "   'endOffset': 1},\n",
       "  {'text': '맛있 는',\n",
       "   'type': 'ADJ',\n",
       "   'score': 1.0,\n",
       "   'beginOffset': 2,\n",
       "   'endOffset': 4},\n",
       "  {'text': '육개장 가 게',\n",
       "   'type': 'FOD',\n",
       "   'score': 1.0,\n",
       "   'beginOffset': 4,\n",
       "   'endOffset': 7}]}"
      ]
     },
     "metadata": {},
     "output_type": "display_data"
    },
    {
     "data": {
      "text/plain": [
       "{'words': ['제주도', '에', '유명', '한', '흑', '돼지', '식당', '알려', '주', '세요'],\n",
       " 'entities': [{'text': '제주도',\n",
       "   'type': 'LOC',\n",
       "   'score': 1.0,\n",
       "   'beginOffset': 0,\n",
       "   'endOffset': 1},\n",
       "  {'text': '유명 한',\n",
       "   'type': 'ADJ',\n",
       "   'score': 1.0,\n",
       "   'beginOffset': 2,\n",
       "   'endOffset': 4},\n",
       "  {'text': '흑 돼지 식당',\n",
       "   'type': 'FOD',\n",
       "   'score': 1.0,\n",
       "   'beginOffset': 4,\n",
       "   'endOffset': 7}]}"
      ]
     },
     "metadata": {},
     "output_type": "display_data"
    },
    {
     "data": {
      "text/plain": [
       "{'words': ['제주도', '에', '맛있', '는', '흑', '돼지', '식당', '알려', '주', '세요'],\n",
       " 'entities': [{'text': '제주도',\n",
       "   'type': 'LOC',\n",
       "   'score': 1.0,\n",
       "   'beginOffset': 0,\n",
       "   'endOffset': 1},\n",
       "  {'text': '맛있 는',\n",
       "   'type': 'ADJ',\n",
       "   'score': 1.0,\n",
       "   'beginOffset': 2,\n",
       "   'endOffset': 4},\n",
       "  {'text': '흑 돼지 식당',\n",
       "   'type': 'FOD',\n",
       "   'score': 1.0,\n",
       "   'beginOffset': 4,\n",
       "   'endOffset': 7}]}"
      ]
     },
     "metadata": {},
     "output_type": "display_data"
    },
    {
     "data": {
      "text/plain": [
       "{'words': ['제주도', '에', '흑', '돼지', '식당', '맛있', '는', '곳', '알려', '주', '세요'],\n",
       " 'entities': [{'text': '제주도',\n",
       "   'type': 'LOC',\n",
       "   'score': 1.0,\n",
       "   'beginOffset': 0,\n",
       "   'endOffset': 1},\n",
       "  {'text': '흑 돼지 식당',\n",
       "   'type': 'FOD',\n",
       "   'score': 1.0,\n",
       "   'beginOffset': 2,\n",
       "   'endOffset': 5},\n",
       "  {'text': '맛있 는',\n",
       "   'type': 'ADJ',\n",
       "   'score': 1.0,\n",
       "   'beginOffset': 5,\n",
       "   'endOffset': 7}]}"
      ]
     },
     "metadata": {},
     "output_type": "display_data"
    },
    {
     "data": {
      "text/plain": [
       "{'words': ['제주도', '에', '흑', '돼지', '식당', '맛집', '알려', '주', '세요'],\n",
       " 'entities': [{'text': '제주도',\n",
       "   'type': 'LOC',\n",
       "   'score': 1.0,\n",
       "   'beginOffset': 0,\n",
       "   'endOffset': 1},\n",
       "  {'text': '흑 돼지 식당',\n",
       "   'type': 'FOD',\n",
       "   'score': 1.0,\n",
       "   'beginOffset': 2,\n",
       "   'endOffset': 5}]}"
      ]
     },
     "metadata": {},
     "output_type": "display_data"
    },
    {
     "data": {
      "text/plain": [
       "{'words': ['제주도',\n",
       "  '에',\n",
       "  '흑',\n",
       "  '돼지',\n",
       "  '식당',\n",
       "  '맛',\n",
       "  '개',\n",
       "  '쩌',\n",
       "  '는',\n",
       "  '곳',\n",
       "  '알려',\n",
       "  '주',\n",
       "  '세요'],\n",
       " 'entities': [{'text': '제주도',\n",
       "   'type': 'LOC',\n",
       "   'score': 1.0,\n",
       "   'beginOffset': 0,\n",
       "   'endOffset': 1},\n",
       "  {'text': '흑 돼지 식당',\n",
       "   'type': 'FOD',\n",
       "   'score': 1.0,\n",
       "   'beginOffset': 2,\n",
       "   'endOffset': 5},\n",
       "  {'text': '맛 개 쩌 는',\n",
       "   'type': 'ADJ',\n",
       "   'score': 1.0,\n",
       "   'beginOffset': 5,\n",
       "   'endOffset': 9}]}"
      ]
     },
     "metadata": {},
     "output_type": "display_data"
    },
    {
     "data": {
      "text/plain": [
       "{'words': ['맛있', '고', '깔끔', '한', '한식집', '아세요'],\n",
       " 'entities': [{'text': '맛있 고 깔끔 한',\n",
       "   'type': 'ADJ',\n",
       "   'score': 1.0,\n",
       "   'beginOffset': 0,\n",
       "   'endOffset': 4},\n",
       "  {'text': '한식집',\n",
       "   'type': 'FOD',\n",
       "   'score': 1.0,\n",
       "   'beginOffset': 4,\n",
       "   'endOffset': 5}]}"
      ]
     },
     "metadata": {},
     "output_type": "display_data"
    },
    {
     "data": {
      "text/plain": [
       "{'words': ['맛있', '는', '깔끔', '한', '한식집', '아세요'],\n",
       " 'entities': [{'text': '맛있 는',\n",
       "   'type': 'ADJ',\n",
       "   'score': 1.0,\n",
       "   'beginOffset': 0,\n",
       "   'endOffset': 2},\n",
       "  {'text': '깔끔 한',\n",
       "   'type': 'ADJ',\n",
       "   'score': 1.0,\n",
       "   'beginOffset': 2,\n",
       "   'endOffset': 4},\n",
       "  {'text': '한식집',\n",
       "   'type': 'FOD',\n",
       "   'score': 1.0,\n",
       "   'beginOffset': 4,\n",
       "   'endOffset': 5}]}"
      ]
     },
     "metadata": {},
     "output_type": "display_data"
    }
   ],
   "source": [
    "# mecab 실행결과\n",
    "for text in q_list:\n",
    "    text_prepared = ' '.join(word for word in mecab.morphs(text))\n",
    "    ner = model.analyze(text_prepared)\n",
    "    display(ner)"
   ]
  }
 ],
 "metadata": {
  "kernelspec": {
   "display_name": "text_anal",
   "language": "python",
   "name": "text_anal"
  },
  "language_info": {
   "codemirror_mode": {
    "name": "ipython",
    "version": 3
   },
   "file_extension": ".py",
   "mimetype": "text/x-python",
   "name": "python",
   "nbconvert_exporter": "python",
   "pygments_lexer": "ipython3",
   "version": "3.6.9"
  }
 },
 "nbformat": 4,
 "nbformat_minor": 2
}
