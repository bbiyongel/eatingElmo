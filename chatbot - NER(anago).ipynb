{
 "cells": [
  {
   "cell_type": "markdown",
   "metadata": {
    "colab_type": "text",
    "id": "dZ0MMhaT50Jh"
   },
   "source": [
    "모듈 버전\n",
    "\n",
    "- keras 2.2.4\n",
    "- tensorflow 1.x\n",
    "- anago\n",
    "\n",
    "Google Colab - GPU 환경에서 작업"
   ]
  },
  {
   "cell_type": "markdown",
   "metadata": {
    "colab_type": "text",
    "id": "5rk8zO1wRzEH"
   },
   "source": [
    "### 데이터 불러오기\n",
    "\n",
    "- 데이터는 NE tag가 공백으로 구분되어 있다.\n",
    "\n",
    "- *read_data* 함수를 실행하면 *file_path* 에서 텍스트 데이터를 읽고 token 리스트, tag 리스트를 반환한다."
   ]
  },
  {
   "cell_type": "code",
   "execution_count": 0,
   "metadata": {
    "colab": {
     "base_uri": "https://localhost:8080/",
     "height": 34
    },
    "colab_type": "code",
    "id": "P6vKLa1MMJ2n",
    "outputId": "9675e751-933f-415f-8366-c25f5dcddc27"
   },
   "outputs": [
    {
     "name": "stdout",
     "output_type": "stream",
     "text": [
      "Drive already mounted at /content/gdrive; to attempt to forcibly remount, call drive.mount(\"/content/gdrive\", force_remount=True).\n"
     ]
    }
   ],
   "source": [
    "from google.colab import drive\n",
    "drive.mount('/content/gdrive')"
   ]
  },
  {
   "cell_type": "code",
   "execution_count": 1,
   "metadata": {
    "colab": {},
    "colab_type": "code",
    "id": "HjSAsvwFL0-C"
   },
   "outputs": [],
   "source": [
    "import pandas as pd, numpy as np"
   ]
  },
  {
   "cell_type": "code",
   "execution_count": 2,
   "metadata": {
    "colab": {
     "base_uri": "https://localhost:8080/",
     "height": 182
    },
    "colab_type": "code",
    "id": "KR6uNj0FL0-F",
    "outputId": "93bfc13f-5e57-42f1-f223-b2f26ffe4ec3"
   },
   "outputs": [
    {
     "name": "stderr",
     "output_type": "stream",
     "text": [
      "/anaconda3/envs/keras-test/lib/python3.6/site-packages/numpy/lib/arraysetops.py:568: FutureWarning: elementwise comparison failed; returning scalar instead, but in the future will perform elementwise comparison\n",
      "  mask |= (ar1 == a)\n"
     ]
    },
    {
     "name": "stdout",
     "output_type": "stream",
     "text": [
      "(1678295, 3)\n"
     ]
    },
    {
     "data": {
      "text/html": [
       "<div>\n",
       "<style scoped>\n",
       "    .dataframe tbody tr th:only-of-type {\n",
       "        vertical-align: middle;\n",
       "    }\n",
       "\n",
       "    .dataframe tbody tr th {\n",
       "        vertical-align: top;\n",
       "    }\n",
       "\n",
       "    .dataframe thead th {\n",
       "        text-align: right;\n",
       "    }\n",
       "</style>\n",
       "<table border=\"1\" class=\"dataframe\">\n",
       "  <thead>\n",
       "    <tr style=\"text-align: right;\">\n",
       "      <th></th>\n",
       "      <th>question</th>\n",
       "      <th>okt</th>\n",
       "      <th>okt_tag</th>\n",
       "    </tr>\n",
       "  </thead>\n",
       "  <tbody>\n",
       "    <tr>\n",
       "      <th>0</th>\n",
       "      <td>계룡시 단체석 있는 복매운탕 알아요</td>\n",
       "      <td>['계룡시', '단체', '석', '있는', '복', '매운탕', '알아요']</td>\n",
       "      <td>['B-LOC', 'B-ADJ', 'I-ADJ', 'I-ADJ', 'B-FOD', ...</td>\n",
       "    </tr>\n",
       "    <tr>\n",
       "      <th>1</th>\n",
       "      <td>사천 마미밥상 무한 리필 사람들 후기 뭐에요</td>\n",
       "      <td>['사천', '마미', '밥상', '무한', '리필', '사람', '들', '후기'...</td>\n",
       "      <td>['B-LOC', 'B-ORG', 'I-ORG', 'B-ADJ', 'I-ADJ', ...</td>\n",
       "    </tr>\n",
       "  </tbody>\n",
       "</table>\n",
       "</div>"
      ],
      "text/plain": [
       "                   question  \\\n",
       "0       계룡시 단체석 있는 복매운탕 알아요   \n",
       "1  사천 마미밥상 무한 리필 사람들 후기 뭐에요   \n",
       "\n",
       "                                                 okt  \\\n",
       "0        ['계룡시', '단체', '석', '있는', '복', '매운탕', '알아요']   \n",
       "1  ['사천', '마미', '밥상', '무한', '리필', '사람', '들', '후기'...   \n",
       "\n",
       "                                             okt_tag  \n",
       "0  ['B-LOC', 'B-ADJ', 'I-ADJ', 'I-ADJ', 'B-FOD', ...  \n",
       "1  ['B-LOC', 'B-ORG', 'I-ORG', 'B-ADJ', 'I-ADJ', ...  "
      ]
     },
     "execution_count": 2,
     "metadata": {},
     "output_type": "execute_result"
    }
   ],
   "source": [
    "df = pd.read_csv('./questions/questions_corpus_bio.csv', encoding='utf-8', index_col=0)\n",
    "#df = pd.read_csv('./gdrive/My Drive/Colab Notebooks/questions_corpus_bio.csv', encoding='utf-8', index_col=0)\n",
    "print(df.shape)\n",
    "df.head(2)"
   ]
  },
  {
   "cell_type": "code",
   "execution_count": 3,
   "metadata": {
    "colab": {},
    "colab_type": "code",
    "id": "Dfxl1iMLL0-J"
   },
   "outputs": [],
   "source": [
    "# 'okt', 'okt_tag' 컬럼을 list로 변경\n",
    "df['okt'] = df['okt'].apply(lambda x: eval(x))\n",
    "df['okt_tag'] = df['okt_tag'].apply(lambda x: eval(x))"
   ]
  },
  {
   "cell_type": "code",
   "execution_count": 4,
   "metadata": {
    "colab": {
     "base_uri": "https://localhost:8080/",
     "height": 111
    },
    "colab_type": "code",
    "id": "7bMM4LR3L0-L",
    "outputId": "beb9e903-c6bd-49b3-c7c2-1207c65b9f60"
   },
   "outputs": [
    {
     "data": {
      "text/html": [
       "<div>\n",
       "<style scoped>\n",
       "    .dataframe tbody tr th:only-of-type {\n",
       "        vertical-align: middle;\n",
       "    }\n",
       "\n",
       "    .dataframe tbody tr th {\n",
       "        vertical-align: top;\n",
       "    }\n",
       "\n",
       "    .dataframe thead th {\n",
       "        text-align: right;\n",
       "    }\n",
       "</style>\n",
       "<table border=\"1\" class=\"dataframe\">\n",
       "  <thead>\n",
       "    <tr style=\"text-align: right;\">\n",
       "      <th></th>\n",
       "      <th>question</th>\n",
       "      <th>okt</th>\n",
       "      <th>okt_tag</th>\n",
       "    </tr>\n",
       "  </thead>\n",
       "  <tbody>\n",
       "    <tr>\n",
       "      <th>0</th>\n",
       "      <td>계룡시 단체석 있는 복매운탕 알아요</td>\n",
       "      <td>[계룡시, 단체, 석, 있는, 복, 매운탕, 알아요]</td>\n",
       "      <td>[B-LOC, B-ADJ, I-ADJ, I-ADJ, B-FOD, I-FOD, O]</td>\n",
       "    </tr>\n",
       "    <tr>\n",
       "      <th>1</th>\n",
       "      <td>사천 마미밥상 무한 리필 사람들 후기 뭐에요</td>\n",
       "      <td>[사천, 마미, 밥상, 무한, 리필, 사람, 들, 후기, 뭐, 에요]</td>\n",
       "      <td>[B-LOC, B-ORG, I-ORG, B-ADJ, I-ADJ, O, O, O, O...</td>\n",
       "    </tr>\n",
       "  </tbody>\n",
       "</table>\n",
       "</div>"
      ],
      "text/plain": [
       "                   question                                     okt  \\\n",
       "0       계룡시 단체석 있는 복매운탕 알아요           [계룡시, 단체, 석, 있는, 복, 매운탕, 알아요]   \n",
       "1  사천 마미밥상 무한 리필 사람들 후기 뭐에요  [사천, 마미, 밥상, 무한, 리필, 사람, 들, 후기, 뭐, 에요]   \n",
       "\n",
       "                                             okt_tag  \n",
       "0      [B-LOC, B-ADJ, I-ADJ, I-ADJ, B-FOD, I-FOD, O]  \n",
       "1  [B-LOC, B-ORG, I-ORG, B-ADJ, I-ADJ, O, O, O, O...  "
      ]
     },
     "execution_count": 4,
     "metadata": {},
     "output_type": "execute_result"
    }
   ],
   "source": [
    "df.head(2)"
   ]
  },
  {
   "cell_type": "markdown",
   "metadata": {
    "colab_type": "text",
    "id": "71Vjj4TSRzEK"
   },
   "source": [
    "데이터를 train과 test로 9:1의 비율로 나눈다.\n",
    " - *train* -> 모델 훈련;\n",
    " - *test* -> 모델 평가와 hyperparameter 조정"
   ]
  },
  {
   "cell_type": "code",
   "execution_count": 0,
   "metadata": {
    "colab": {},
    "colab_type": "code",
    "id": "qOh8AdYaL0-O"
   },
   "outputs": [],
   "source": [
    "from sklearn.model_selection import train_test_split\n",
    "\n",
    "train_tokens, test_tokens, train_tags, test_tags = \\\n",
    "    train_test_split(df['okt'].values\n",
    "                    ,df['okt_tag'].values\n",
    "                    ,test_size=0.1\n",
    "                    ,random_state=42)"
   ]
  },
  {
   "cell_type": "code",
   "execution_count": 0,
   "metadata": {
    "colab": {
     "base_uri": "https://localhost:8080/",
     "height": 34
    },
    "colab_type": "code",
    "id": "HPl08ryBL0-Q",
    "outputId": "7ec246da-c2eb-4e19-dc96-4a1bd89ba92d"
   },
   "outputs": [
    {
     "data": {
      "text/plain": [
       "((1510465,), (1510465,), (167830,), (167830,))"
      ]
     },
     "execution_count": 17,
     "metadata": {
      "tags": []
     },
     "output_type": "execute_result"
    }
   ],
   "source": [
    "train_tokens.shape, train_tags.shape, test_tokens.shape, test_tags.shape"
   ]
  },
  {
   "cell_type": "code",
   "execution_count": 0,
   "metadata": {
    "colab": {
     "base_uri": "https://localhost:8080/",
     "height": 85
    },
    "colab_type": "code",
    "id": "wb7y5xZsL0-S",
    "outputId": "9ef6b1f8-a067-486e-8872-a93369f87ff5"
   },
   "outputs": [
    {
     "data": {
      "text/plain": [
       "array([list(['치맥', '타운', '사람', '들', '반응', '알려줘요']),\n",
       "       list(['페리', '아', '상세', '주소', '알아보려고요']),\n",
       "       list(['키친', '홀릭', '핵', '맛있는', '평', '알', '고', '계신가요'])],\n",
       "      dtype=object)"
      ]
     },
     "execution_count": 18,
     "metadata": {
      "tags": []
     },
     "output_type": "execute_result"
    }
   ],
   "source": [
    "train_tokens[:3]"
   ]
  },
  {
   "cell_type": "code",
   "execution_count": 0,
   "metadata": {
    "colab": {
     "base_uri": "https://localhost:8080/",
     "height": 85
    },
    "colab_type": "code",
    "id": "EEeHBKY-L0-T",
    "outputId": "593012e6-2186-4c52-faea-05d85522ea53"
   },
   "outputs": [
    {
     "data": {
      "text/plain": [
       "array([list(['B-ORG', 'I-ORG', 'O', 'O', 'O', 'O']),\n",
       "       list(['B-ORG', 'I-ORG', 'O', 'O', 'O']),\n",
       "       list(['B-ORG', 'I-ORG', 'B-ADJ', 'I-ADJ', 'O', 'O', 'O', 'O'])],\n",
       "      dtype=object)"
      ]
     },
     "execution_count": 19,
     "metadata": {
      "tags": []
     },
     "output_type": "execute_result"
    }
   ],
   "source": [
    "train_tags[:3]"
   ]
  },
  {
   "cell_type": "code",
   "execution_count": 0,
   "metadata": {
    "colab": {
     "base_uri": "https://localhost:8080/",
     "height": 204
    },
    "colab_type": "code",
    "id": "uUVpw7rFRzEO",
    "outputId": "a0cdec13-3716-4525-b017-b3e28a742c75"
   },
   "outputs": [
    {
     "name": "stdout",
     "output_type": "stream",
     "text": [
      "치맥\tB-ORG\n",
      "타운\tI-ORG\n",
      "사람\tO\n",
      "들\tO\n",
      "반응\tO\n",
      "알려줘요\tO\n",
      "페리\tB-ORG\n",
      "아\tI-ORG\n",
      "상세\tO\n",
      "주소\tO\n",
      "알아보려고요\tO\n"
     ]
    }
   ],
   "source": [
    "for i in range(0,2):\n",
    "    for token, tag in zip(train_tokens[i], train_tags[i]):\n",
    "        print('%s\\t%s' % (token, tag))"
   ]
  },
  {
   "cell_type": "code",
   "execution_count": 5,
   "metadata": {
    "colab": {
     "base_uri": "https://localhost:8080/",
     "height": 34
    },
    "colab_type": "code",
    "id": "-bPdQ3JSL0-r",
    "outputId": "91939af3-ecd3-4726-d3ba-e9202d0ecdd6"
   },
   "outputs": [
    {
     "name": "stderr",
     "output_type": "stream",
     "text": [
      "Using TensorFlow backend.\n"
     ]
    },
    {
     "data": {
      "text/plain": [
       "'2.2.4'"
      ]
     },
     "execution_count": 5,
     "metadata": {},
     "output_type": "execute_result"
    }
   ],
   "source": [
    "import keras\n",
    "keras.__version__"
   ]
  },
  {
   "cell_type": "code",
   "execution_count": 0,
   "metadata": {
    "colab": {
     "base_uri": "https://localhost:8080/",
     "height": 238
    },
    "colab_type": "code",
    "id": "Esbe7bICL0-v",
    "outputId": "e45211b9-51a1-4ce1-e6a6-9720ef479d04"
   },
   "outputs": [
    {
     "data": {
      "text/plain": [
       "(array([list(['치맥', '타운', '사람', '들', '반응', '알려줘요']),\n",
       "        list(['페리', '아', '상세', '주소', '알아보려고요']),\n",
       "        list(['키친', '홀릭', '핵', '맛있는', '평', '알', '고', '계신가요']), ...,\n",
       "        list(['당진', '순이', '네', '밥집', '솔직', '후기', '궁금합니다']),\n",
       "        list(['폭포', '있는', '환상', '적', '인', '추천', '할', '데', '어디', '있죠']),\n",
       "        list(['청도군', '서비스', '는', '덤', '인', '스페인', '좋은', '데', '어디', '인데', '요'])],\n",
       "       dtype=object), array([list(['B-ORG', 'I-ORG', 'O', 'O', 'O', 'O']),\n",
       "        list(['B-ORG', 'I-ORG', 'O', 'O', 'O']),\n",
       "        list(['B-ORG', 'I-ORG', 'B-ADJ', 'I-ADJ', 'O', 'O', 'O', 'O']),\n",
       "        ..., list(['B-LOC', 'B-ORG', 'I-ORG', 'I-ORG', 'O', 'O', 'O']),\n",
       "        list(['B-ADJ', 'I-ADJ', 'B-ADJ', 'I-ADJ', 'I-ADJ', 'O', 'O', 'O', 'O', 'O']),\n",
       "        list(['B-LOC', 'B-ADJ', 'I-ADJ', 'I-ADJ', 'I-ADJ', 'B-FOD', 'O', 'O', 'O', 'O', 'O'])],\n",
       "       dtype=object))"
      ]
     },
     "execution_count": 23,
     "metadata": {
      "tags": []
     },
     "output_type": "execute_result"
    }
   ],
   "source": [
    "train_tokens,train_tags"
   ]
  },
  {
   "cell_type": "code",
   "execution_count": 6,
   "metadata": {
    "colab": {
     "base_uri": "https://localhost:8080/",
     "height": 71
    },
    "colab_type": "code",
    "id": "S3yq2JpbL0-6",
    "outputId": "158450c3-1475-4d34-9ec6-35ac3edb94ad"
   },
   "outputs": [
    {
     "name": "stderr",
     "output_type": "stream",
     "text": [
      "/anaconda3/envs/keras-test/lib/python3.6/site-packages/sklearn/externals/joblib/__init__.py:15: DeprecationWarning: sklearn.externals.joblib is deprecated in 0.21 and will be removed in 0.23. Please import this functionality directly from joblib, which can be installed with: pip install joblib. If this warning is raised when loading pickled models, you may need to re-serialize those models with scikit-learn 0.21+.\n",
      "  warnings.warn(msg, category=DeprecationWarning)\n"
     ]
    }
   ],
   "source": [
    "from anago.tagger import Tagger\n",
    "from anago.trainer import Trainer\n",
    "from anago.wrapper import Sequence\n",
    "from anago.utils import NERSequence"
   ]
  },
  {
   "cell_type": "code",
   "execution_count": 0,
   "metadata": {
    "colab": {
     "base_uri": "https://localhost:8080/",
     "height": 241
    },
    "colab_type": "code",
    "id": "Op4qK7NRL0-_",
    "outputId": "1222d53b-a0ac-4c82-ea6c-8dac6647bb12"
   },
   "outputs": [
    {
     "name": "stdout",
     "output_type": "stream",
     "text": [
      "Epoch 1/1\n",
      "WARNING:tensorflow:From /usr/local/lib/python3.6/dist-packages/keras/backend/tensorflow_backend.py:174: The name tf.get_default_session is deprecated. Please use tf.compat.v1.get_default_session instead.\n",
      "\n",
      "WARNING:tensorflow:From /usr/local/lib/python3.6/dist-packages/keras/backend/tensorflow_backend.py:181: The name tf.ConfigProto is deprecated. Please use tf.compat.v1.ConfigProto instead.\n",
      "\n",
      "WARNING:tensorflow:From /usr/local/lib/python3.6/dist-packages/keras/backend/tensorflow_backend.py:190: The name tf.global_variables is deprecated. Please use tf.compat.v1.global_variables instead.\n",
      "\n",
      "WARNING:tensorflow:From /usr/local/lib/python3.6/dist-packages/keras/backend/tensorflow_backend.py:199: The name tf.is_variable_initialized is deprecated. Please use tf.compat.v1.is_variable_initialized instead.\n",
      "\n",
      "WARNING:tensorflow:From /usr/local/lib/python3.6/dist-packages/keras/backend/tensorflow_backend.py:206: The name tf.variables_initializer is deprecated. Please use tf.compat.v1.variables_initializer instead.\n",
      "\n",
      "47203/47203 [==============================] - 4254s 90ms/step - loss: 1.7863\n"
     ]
    }
   ],
   "source": [
    "# 약 1시간 소요\n",
    "model.fit(x_train=train_tokens\n",
    "         ,y_train=train_tags)"
   ]
  },
  {
   "cell_type": "code",
   "execution_count": 0,
   "metadata": {
    "colab": {
     "base_uri": "https://localhost:8080/",
     "height": 34
    },
    "colab_type": "code",
    "id": "9r7vwpKWL0_A",
    "outputId": "6e3aa0f9-0da0-4708-e0c9-33d8a7fad288"
   },
   "outputs": [
    {
     "data": {
      "text/plain": [
       "0.9986188238857988"
      ]
     },
     "execution_count": 29,
     "metadata": {
      "tags": []
     },
     "output_type": "execute_result"
    }
   ],
   "source": [
    "model.score(test_tokens, test_tags)"
   ]
  },
  {
   "cell_type": "code",
   "execution_count": 0,
   "metadata": {
    "colab": {
     "base_uri": "https://localhost:8080/",
     "height": 119
    },
    "colab_type": "code",
    "id": "_CKAjQSZf8NI",
    "outputId": "e1c8c98b-c7f6-4777-e74d-dd933b2be48c"
   },
   "outputs": [
    {
     "data": {
      "text/plain": [
       "{'entities': [{'beginOffset': 0,\n",
       "   'endOffset': 1,\n",
       "   'score': 1.0,\n",
       "   'text': '파스쿠찌',\n",
       "   'type': 'ORG'}],\n",
       " 'words': ['파스쿠찌', '위치', '알려주세요']}"
      ]
     },
     "execution_count": 31,
     "metadata": {
      "tags": []
     },
     "output_type": "execute_result"
    }
   ],
   "source": [
    "text = '파스쿠찌 위치 알려주세요'\n",
    "model.analyze(text)"
   ]
  },
  {
   "cell_type": "code",
   "execution_count": 0,
   "metadata": {
    "colab": {
     "base_uri": "https://localhost:8080/",
     "height": 119
    },
    "colab_type": "code",
    "id": "Ng0-2azxglR4",
    "outputId": "ad426106-abd4-43bc-9fba-516681c3ecad"
   },
   "outputs": [
    {
     "data": {
      "text/plain": [
       "{'entities': [{'beginOffset': 0,\n",
       "   'endOffset': 2,\n",
       "   'score': 1.0,\n",
       "   'text': '담소 순대국밥집',\n",
       "   'type': 'ORG'}],\n",
       " 'words': ['담소', '순대국밥집', '청결한가요?']}"
      ]
     },
     "execution_count": 32,
     "metadata": {
      "tags": []
     },
     "output_type": "execute_result"
    }
   ],
   "source": [
    "text = '담소 순대국밥집 청결한가요?'\n",
    "model.analyze(text)"
   ]
  },
  {
   "cell_type": "code",
   "execution_count": 0,
   "metadata": {
    "colab": {
     "base_uri": "https://localhost:8080/",
     "height": 119
    },
    "colab_type": "code",
    "id": "K-3i30h_guTW",
    "outputId": "c8fa9049-c269-4359-b991-0060725662f4"
   },
   "outputs": [
    {
     "data": {
      "text/plain": [
       "{'entities': [{'beginOffset': 0,\n",
       "   'endOffset': 2,\n",
       "   'score': 1.0,\n",
       "   'text': '담소 순대국밥집',\n",
       "   'type': 'ORG'}],\n",
       " 'words': ['담소', '순대국밥집', '맛있어요?']}"
      ]
     },
     "execution_count": 33,
     "metadata": {
      "tags": []
     },
     "output_type": "execute_result"
    }
   ],
   "source": [
    "text = '담소 순대국밥집 맛있어요?'\n",
    "model.analyze(text)"
   ]
  },
  {
   "cell_type": "code",
   "execution_count": 0,
   "metadata": {
    "colab": {
     "base_uri": "https://localhost:8080/",
     "height": 119
    },
    "colab_type": "code",
    "id": "XMrnJ_Dyg0WG",
    "outputId": "b3686a2f-dd88-4085-8719-c16424c6e66d"
   },
   "outputs": [
    {
     "data": {
      "text/plain": [
       "{'entities': [{'beginOffset': 0,\n",
       "   'endOffset': 2,\n",
       "   'score': 1.0,\n",
       "   'text': '담소 순대국밥집',\n",
       "   'type': 'ORG'}],\n",
       " 'words': ['담소', '순대국밥집', '맛있는', '곳인가요?']}"
      ]
     },
     "execution_count": 34,
     "metadata": {
      "tags": []
     },
     "output_type": "execute_result"
    }
   ],
   "source": [
    "text = '담소 순대국밥집 맛있는 곳인가요?'\n",
    "model.analyze(text)"
   ]
  },
  {
   "cell_type": "code",
   "execution_count": 0,
   "metadata": {
    "colab": {
     "base_uri": "https://localhost:8080/",
     "height": 119
    },
    "colab_type": "code",
    "id": "MbalMYx1g84V",
    "outputId": "68f00304-029d-4cb4-ead8-0b8423091c60"
   },
   "outputs": [
    {
     "data": {
      "text/plain": [
       "{'entities': [{'beginOffset': 0,\n",
       "   'endOffset': 1,\n",
       "   'score': 1.0,\n",
       "   'text': '숯불구이',\n",
       "   'type': 'ORG'}],\n",
       " 'words': ['숯불구이', '맛있는곳', '알려주실래요?']}"
      ]
     },
     "execution_count": 35,
     "metadata": {
      "tags": []
     },
     "output_type": "execute_result"
    }
   ],
   "source": [
    "text = '숯불구이 맛있는곳 알려주실래요?'\n",
    "model.analyze(text)"
   ]
  },
  {
   "cell_type": "code",
   "execution_count": 0,
   "metadata": {
    "colab": {
     "base_uri": "https://localhost:8080/",
     "height": 34
    },
    "colab_type": "code",
    "id": "I8rtP1I9hMOL",
    "outputId": "30217ddd-b13e-49cb-ed8b-e825ced080bc"
   },
   "outputs": [
    {
     "data": {
      "text/plain": [
       "['숯불', '구이', '맛있는', '곳', '알려주실래요', '?']"
      ]
     },
     "execution_count": 45,
     "metadata": {
      "tags": []
     },
     "output_type": "execute_result"
    }
   ],
   "source": [
    "from konlpy.tag import Okt\n",
    "okt = Okt()\n",
    "okt.morphs(text)"
   ]
  },
  {
   "cell_type": "code",
   "execution_count": 0,
   "metadata": {
    "colab": {
     "base_uri": "https://localhost:8080/",
     "height": 119
    },
    "colab_type": "code",
    "id": "O4aUGKa6hlUk",
    "outputId": "4a53da4f-1167-4324-8a5e-c2a9e1849d3f"
   },
   "outputs": [
    {
     "data": {
      "text/plain": [
       "{'entities': [{'beginOffset': 0,\n",
       "   'endOffset': 2,\n",
       "   'score': 1.0,\n",
       "   'text': '숯불 구이',\n",
       "   'type': 'FOD'}],\n",
       " 'words': ['숯불', '구이', '맛있는', '곳', '알려주실래요', '?']}"
      ]
     },
     "execution_count": 47,
     "metadata": {
      "tags": []
     },
     "output_type": "execute_result"
    }
   ],
   "source": [
    "# 원래는 model.analyze(text, tokenizer=okt.morphs)로 쓰면 되는데 이 코드가 안먹혀서 아래와 같이 사용\n",
    "\n",
    "text = '숯불구이 맛있는곳 알려주실래요?'\n",
    "text_prepared = ' '.join(word for word in okt.morphs(text))\n",
    "model.analyze(text_prepared)"
   ]
  },
  {
   "cell_type": "code",
   "execution_count": 0,
   "metadata": {
    "colab": {
     "base_uri": "https://localhost:8080/",
     "height": 119
    },
    "colab_type": "code",
    "id": "yifWE3nYlE6D",
    "outputId": "b4d16ef6-c8c6-48e4-9856-79bff9cb231a"
   },
   "outputs": [
    {
     "data": {
      "text/plain": [
       "{'entities': [{'beginOffset': 0,\n",
       "   'endOffset': 2,\n",
       "   'score': 1.0,\n",
       "   'text': '온센 텐동',\n",
       "   'type': 'ORG'}],\n",
       " 'words': ['온센', '텐동', '사람', '들', '리뷰', '좀', '알려주세요']}"
      ]
     },
     "execution_count": 48,
     "metadata": {
      "tags": []
     },
     "output_type": "execute_result"
    }
   ],
   "source": [
    "text = '온센텐동 사람들 리뷰 좀 알려주세요'\n",
    "text_prepared = ' '.join(word for word in okt.morphs(text))\n",
    "model.analyze(text_prepared)"
   ]
  },
  {
   "cell_type": "code",
   "execution_count": 0,
   "metadata": {
    "colab": {
     "base_uri": "https://localhost:8080/",
     "height": 119
    },
    "colab_type": "code",
    "id": "vx9ng3-zlQbj",
    "outputId": "8d6e79f9-5d46-4ea8-bb15-b1718cde1161"
   },
   "outputs": [
    {
     "data": {
      "text/plain": [
       "{'entities': [{'beginOffset': 0,\n",
       "   'endOffset': 2,\n",
       "   'score': 1.0,\n",
       "   'text': '온센 텐동',\n",
       "   'type': 'ORG'}],\n",
       " 'words': ['온센', '텐동', '위치', '가', '어떻게', '되나요']}"
      ]
     },
     "execution_count": 49,
     "metadata": {
      "tags": []
     },
     "output_type": "execute_result"
    }
   ],
   "source": [
    "text = '온센텐동 위치가 어떻게 되나요'\n",
    "text_prepared = ' '.join(word for word in okt.morphs(text))\n",
    "model.analyze(text_prepared)"
   ]
  },
  {
   "cell_type": "code",
   "execution_count": 0,
   "metadata": {
    "colab": {
     "base_uri": "https://localhost:8080/",
     "height": 119
    },
    "colab_type": "code",
    "id": "TRjNnLRWlX05",
    "outputId": "b2587f8c-8493-494d-c5ee-e67d617797bd"
   },
   "outputs": [
    {
     "data": {
      "text/plain": [
       "{'entities': [{'beginOffset': 0,\n",
       "   'endOffset': 1,\n",
       "   'score': 1.0,\n",
       "   'text': '파스쿠찌',\n",
       "   'type': 'ORG'}],\n",
       " 'words': ['파스쿠찌', '맛있어요']}"
      ]
     },
     "execution_count": 50,
     "metadata": {
      "tags": []
     },
     "output_type": "execute_result"
    }
   ],
   "source": [
    "text = '파스쿠찌 맛있어요'\n",
    "text_prepared = ' '.join(word for word in okt.morphs(text))\n",
    "model.analyze(text_prepared)"
   ]
  },
  {
   "cell_type": "code",
   "execution_count": 0,
   "metadata": {
    "colab": {
     "base_uri": "https://localhost:8080/",
     "height": 204
    },
    "colab_type": "code",
    "id": "F4ahMzhelbTl",
    "outputId": "6e417d90-4b3f-495a-9307-0af9935602a2"
   },
   "outputs": [
    {
     "data": {
      "text/plain": [
       "{'entities': [{'beginOffset': 0,\n",
       "   'endOffset': 4,\n",
       "   'score': 1.0,\n",
       "   'text': '가성 비 대박 인',\n",
       "   'type': 'ADJ'},\n",
       "  {'beginOffset': 4,\n",
       "   'endOffset': 6,\n",
       "   'score': 1.0,\n",
       "   'text': '육개장 집',\n",
       "   'type': 'FOD'}],\n",
       " 'words': ['가성', '비', '대박', '인', '육개장', '집', '알려주세요']}"
      ]
     },
     "execution_count": 51,
     "metadata": {
      "tags": []
     },
     "output_type": "execute_result"
    }
   ],
   "source": [
    "text = '가성비 대박인 육개장 집 알려주세요'\n",
    "text_prepared = ' '.join(word for word in okt.morphs(text))\n",
    "model.analyze(text_prepared)"
   ]
  },
  {
   "cell_type": "code",
   "execution_count": 0,
   "metadata": {
    "colab": {
     "base_uri": "https://localhost:8080/",
     "height": 204
    },
    "colab_type": "code",
    "id": "hFjW57VmliWB",
    "outputId": "053248a1-cfb0-4d45-c84b-5701d88f20bb"
   },
   "outputs": [
    {
     "data": {
      "text/plain": [
       "{'entities': [{'beginOffset': 0,\n",
       "   'endOffset': 1,\n",
       "   'score': 1.0,\n",
       "   'text': '맛있는',\n",
       "   'type': 'ADJ'},\n",
       "  {'beginOffset': 1,\n",
       "   'endOffset': 3,\n",
       "   'score': 1.0,\n",
       "   'text': '육개장 집',\n",
       "   'type': 'FOD'}],\n",
       " 'words': ['맛있는', '육개장', '집', '알려주세요']}"
      ]
     },
     "execution_count": 52,
     "metadata": {
      "tags": []
     },
     "output_type": "execute_result"
    }
   ],
   "source": [
    "text = '맛있는 육개장집 알려주세요'\n",
    "text_prepared = ' '.join(word for word in okt.morphs(text))\n",
    "model.analyze(text_prepared)"
   ]
  },
  {
   "cell_type": "code",
   "execution_count": 0,
   "metadata": {
    "colab": {
     "base_uri": "https://localhost:8080/",
     "height": 119
    },
    "colab_type": "code",
    "id": "6BaXH7VylliS",
    "outputId": "45b082ad-dfb2-4c7a-b9b2-7b3fe65474fb"
   },
   "outputs": [
    {
     "data": {
      "text/plain": [
       "{'entities': [{'beginOffset': 0,\n",
       "   'endOffset': 1,\n",
       "   'score': 1.0,\n",
       "   'text': '육개장',\n",
       "   'type': 'FOD'}],\n",
       " 'words': ['육개장', '맛있는', '곳', '알려주세요']}"
      ]
     },
     "execution_count": 53,
     "metadata": {
      "tags": []
     },
     "output_type": "execute_result"
    }
   ],
   "source": [
    "text = '육개장 맛있는 곳 알려주세요'\n",
    "text_prepared = ' '.join(word for word in okt.morphs(text))\n",
    "model.analyze(text_prepared)"
   ]
  },
  {
   "cell_type": "code",
   "execution_count": 0,
   "metadata": {
    "colab": {
     "base_uri": "https://localhost:8080/",
     "height": 289
    },
    "colab_type": "code",
    "id": "nKFm-KzIlomw",
    "outputId": "c7477072-d8f9-4e76-8d51-0925abb9f85e"
   },
   "outputs": [
    {
     "data": {
      "text/plain": [
       "{'entities': [{'beginOffset': 0,\n",
       "   'endOffset': 1,\n",
       "   'score': 1.0,\n",
       "   'text': '서울',\n",
       "   'type': 'LOC'},\n",
       "  {'beginOffset': 1,\n",
       "   'endOffset': 3,\n",
       "   'score': 1.0,\n",
       "   'text': '에 맛있는',\n",
       "   'type': 'ADJ'},\n",
       "  {'beginOffset': 3,\n",
       "   'endOffset': 5,\n",
       "   'score': 1.0,\n",
       "   'text': '육개장 가게',\n",
       "   'type': 'FOD'}],\n",
       " 'words': ['서울', '에', '맛있는', '육개장', '가게', '알려주세요']}"
      ]
     },
     "execution_count": 54,
     "metadata": {
      "tags": []
     },
     "output_type": "execute_result"
    }
   ],
   "source": [
    "text = '서울에 맛있는 육개장 가게 알려주세요'\n",
    "text_prepared = ' '.join(word for word in okt.morphs(text))\n",
    "model.analyze(text_prepared)"
   ]
  },
  {
   "cell_type": "code",
   "execution_count": 0,
   "metadata": {
    "colab": {
     "base_uri": "https://localhost:8080/",
     "height": 204
    },
    "colab_type": "code",
    "id": "D-u09lFgmxoL",
    "outputId": "3487b933-6343-40d5-d606-97f5dfe9e9e5"
   },
   "outputs": [
    {
     "data": {
      "text/plain": [
       "{'entities': [{'beginOffset': 0,\n",
       "   'endOffset': 1,\n",
       "   'score': 1.0,\n",
       "   'text': '제주도',\n",
       "   'type': 'LOC'},\n",
       "  {'beginOffset': 1,\n",
       "   'endOffset': 6,\n",
       "   'score': 1.0,\n",
       "   'text': '에 유명한 흑 돼지 식당',\n",
       "   'type': 'ORG'}],\n",
       " 'words': ['제주도', '에', '유명한', '흑', '돼지', '식당', '알려주세요']}"
      ]
     },
     "execution_count": 55,
     "metadata": {
      "tags": []
     },
     "output_type": "execute_result"
    }
   ],
   "source": [
    "text = '제주도에 유명한 흑돼지 식당 알려주세요'\n",
    "text_prepared = ' '.join(word for word in okt.morphs(text))\n",
    "model.analyze(text_prepared)"
   ]
  },
  {
   "cell_type": "code",
   "execution_count": 0,
   "metadata": {
    "colab": {
     "base_uri": "https://localhost:8080/",
     "height": 204
    },
    "colab_type": "code",
    "id": "a4qen_o3m2Fl",
    "outputId": "ad9722fa-9c48-4985-e840-ca445ff2ba15"
   },
   "outputs": [
    {
     "data": {
      "text/plain": [
       "{'entities': [{'beginOffset': 0,\n",
       "   'endOffset': 1,\n",
       "   'score': 1.0,\n",
       "   'text': '제주도',\n",
       "   'type': 'LOC'},\n",
       "  {'beginOffset': 1,\n",
       "   'endOffset': 6,\n",
       "   'score': 1.0,\n",
       "   'text': '에 맛있는 흑 돼지 식당',\n",
       "   'type': 'ORG'}],\n",
       " 'words': ['제주도', '에', '맛있는', '흑', '돼지', '식당', '알려주세요']}"
      ]
     },
     "execution_count": 56,
     "metadata": {
      "tags": []
     },
     "output_type": "execute_result"
    }
   ],
   "source": [
    "text = '제주도에 맛있는 흑돼지 식당 알려주세요'\n",
    "text_prepared = ' '.join(word for word in okt.morphs(text))\n",
    "model.analyze(text_prepared)"
   ]
  },
  {
   "cell_type": "code",
   "execution_count": 0,
   "metadata": {
    "colab": {
     "base_uri": "https://localhost:8080/",
     "height": 204
    },
    "colab_type": "code",
    "id": "gGmKHN8fnAX5",
    "outputId": "cf666dbf-0085-486d-d7b1-171574ce587e"
   },
   "outputs": [
    {
     "data": {
      "text/plain": [
       "{'entities': [{'beginOffset': 0,\n",
       "   'endOffset': 1,\n",
       "   'score': 1.0,\n",
       "   'text': '제주도',\n",
       "   'type': 'LOC'},\n",
       "  {'beginOffset': 1,\n",
       "   'endOffset': 5,\n",
       "   'score': 1.0,\n",
       "   'text': '에 흑 돼지 식당',\n",
       "   'type': 'FOD'}],\n",
       " 'words': ['제주도', '에', '흑', '돼지', '식당', '맛있는', '곳', '알려주세요']}"
      ]
     },
     "execution_count": 58,
     "metadata": {
      "tags": []
     },
     "output_type": "execute_result"
    }
   ],
   "source": [
    "text = '제주도에 흑돼지 식당 맛있는 곳 알려주세요'\n",
    "text_prepared = ' '.join(word for word in okt.morphs(text))\n",
    "model.analyze(text_prepared)"
   ]
  },
  {
   "cell_type": "code",
   "execution_count": 0,
   "metadata": {
    "colab": {
     "base_uri": "https://localhost:8080/",
     "height": 204
    },
    "colab_type": "code",
    "id": "nDadRBibnDk1",
    "outputId": "f957de8c-e70c-4d71-f972-c541ff159911"
   },
   "outputs": [
    {
     "data": {
      "text/plain": [
       "{'entities': [{'beginOffset': 0,\n",
       "   'endOffset': 1,\n",
       "   'score': 1.0,\n",
       "   'text': '제주도',\n",
       "   'type': 'LOC'},\n",
       "  {'beginOffset': 1,\n",
       "   'endOffset': 5,\n",
       "   'score': 1.0,\n",
       "   'text': '에 흑 돼지 식당',\n",
       "   'type': 'FOD'}],\n",
       " 'words': ['제주도', '에', '흑', '돼지', '식당', '맛집', '알려주세요']}"
      ]
     },
     "execution_count": 59,
     "metadata": {
      "tags": []
     },
     "output_type": "execute_result"
    }
   ],
   "source": [
    "text = '제주도에 흑돼지 식당 맛집 알려주세요'\n",
    "text_prepared = ' '.join(word for word in okt.morphs(text))\n",
    "model.analyze(text_prepared)"
   ]
  },
  {
   "cell_type": "code",
   "execution_count": 0,
   "metadata": {
    "colab": {
     "base_uri": "https://localhost:8080/",
     "height": 204
    },
    "colab_type": "code",
    "id": "UZ9LEJ1FnIKY",
    "outputId": "64703430-7b08-4067-b875-0b7b9cd353d3"
   },
   "outputs": [
    {
     "data": {
      "text/plain": [
       "{'entities': [{'beginOffset': 0,\n",
       "   'endOffset': 1,\n",
       "   'score': 1.0,\n",
       "   'text': '제주도',\n",
       "   'type': 'LOC'},\n",
       "  {'beginOffset': 1,\n",
       "   'endOffset': 6,\n",
       "   'score': 1.0,\n",
       "   'text': '에 흑 돼지 식당 맛',\n",
       "   'type': 'FOD'}],\n",
       " 'words': ['제주도', '에', '흑', '돼지', '식당', '맛', '개쩌', '는', '곳', '알려주세요']}"
      ]
     },
     "execution_count": 60,
     "metadata": {
      "tags": []
     },
     "output_type": "execute_result"
    }
   ],
   "source": [
    "text = '제주도에 흑돼지 식당 맛 개쩌는 곳 알려주세요'\n",
    "text_prepared = ' '.join(word for word in okt.morphs(text))\n",
    "model.analyze(text_prepared)"
   ]
  },
  {
   "cell_type": "code",
   "execution_count": 0,
   "metadata": {
    "colab": {
     "base_uri": "https://localhost:8080/",
     "height": 204
    },
    "colab_type": "code",
    "id": "rNLK3IBln0b7",
    "outputId": "1ccaf0a4-c984-4c91-d193-e0c6978a7d51"
   },
   "outputs": [
    {
     "data": {
      "text/plain": [
       "{'entities': [{'beginOffset': 0,\n",
       "   'endOffset': 2,\n",
       "   'score': 1.0,\n",
       "   'text': '맛있고 깔끔한',\n",
       "   'type': 'ADJ'},\n",
       "  {'beginOffset': 2,\n",
       "   'endOffset': 4,\n",
       "   'score': 1.0,\n",
       "   'text': '한식 집',\n",
       "   'type': 'FOD'}],\n",
       " 'words': ['맛있고', '깔끔한', '한식', '집', '아세요']}"
      ]
     },
     "execution_count": 61,
     "metadata": {
      "tags": []
     },
     "output_type": "execute_result"
    }
   ],
   "source": [
    "# Okt는 맛있고를 '맛있고'로 형태소 분석, Mecab은 맛있고를 '맛있''고'로 형태소 분석한다.\n",
    "# train 데이터에 '맛있는'은 있지만 '맛있고'는 없다. \n",
    "# 그래서 맛있고 깔끔한을 2개의 형용사가 아닌 하나의 형용사로 분류해버리는 오류가 난 것 같다.\n",
    "# 아래 문장 테스트를 통해 NER 모델 생성 시 Okt가 아닌 Mecab을 써야 할 필요성을 느꼈다.\n",
    "\n",
    "text = '맛있고 깔끔한 한식집 아세요'\n",
    "text_prepared = ' '.join(word for word in okt.morphs(text))\n",
    "model.analyze(text_prepared)"
   ]
  },
  {
   "cell_type": "code",
   "execution_count": 0,
   "metadata": {
    "colab": {
     "base_uri": "https://localhost:8080/",
     "height": 289
    },
    "colab_type": "code",
    "id": "w2andSzzotuC",
    "outputId": "d6700cc9-5275-4b22-f4ad-1809c25e5f30"
   },
   "outputs": [
    {
     "data": {
      "text/plain": [
       "{'entities': [{'beginOffset': 0,\n",
       "   'endOffset': 1,\n",
       "   'score': 1.0,\n",
       "   'text': '맛있는',\n",
       "   'type': 'ADJ'},\n",
       "  {'beginOffset': 1,\n",
       "   'endOffset': 2,\n",
       "   'score': 1.0,\n",
       "   'text': '깔끔한',\n",
       "   'type': 'ADJ'},\n",
       "  {'beginOffset': 2,\n",
       "   'endOffset': 4,\n",
       "   'score': 1.0,\n",
       "   'text': '한식 집',\n",
       "   'type': 'FOD'}],\n",
       " 'words': ['맛있는', '깔끔한', '한식', '집', '아세요']}"
      ]
     },
     "execution_count": 65,
     "metadata": {
      "tags": []
     },
     "output_type": "execute_result"
    }
   ],
   "source": [
    "text = '맛있는 깔끔한 한식집 아세요'\n",
    "text_prepared = ' '.join(word for word in okt.morphs(text))\n",
    "model.analyze(text_prepared)"
   ]
  },
  {
   "cell_type": "code",
   "execution_count": 0,
   "metadata": {
    "colab": {},
    "colab_type": "code",
    "id": "frG9T3mHo8xX"
   },
   "outputs": [],
   "source": [
    "# 모델 저장 (weights,params,preprocessor로 나눠서 저장)\n",
    "model.save('./gdrive/My Drive/Colab Notebooks/model_weights'\n",
    "          ,'./gdrive/My Drive/Colab Notebooks/model_params'\n",
    "          ,'./gdrive/My Drive/Colab Notebooks/model_preprocessor')"
   ]
  },
  {
   "cell_type": "code",
   "execution_count": 8,
   "metadata": {},
   "outputs": [
    {
     "data": {
      "text/plain": [
       "<module 'tensorflow_core._api.v2.version' from '/anaconda3/envs/keras-test/lib/python3.6/site-packages/tensorflow_core/_api/v2/version/__init__.py'>"
      ]
     },
     "execution_count": 8,
     "metadata": {},
     "output_type": "execute_result"
    }
   ],
   "source": [
    "import tensorflow as tf\n",
    "tf.version"
   ]
  },
  {
   "cell_type": "code",
   "execution_count": 7,
   "metadata": {
    "colab": {},
    "colab_type": "code",
    "id": "ZyvbStYg31rj"
   },
   "outputs": [
    {
     "ename": "AttributeError",
     "evalue": "module 'tensorflow' has no attribute 'placeholder'",
     "output_type": "error",
     "traceback": [
      "\u001b[0;31m---------------------------------------------------------------------------\u001b[0m",
      "\u001b[0;31mAttributeError\u001b[0m                            Traceback (most recent call last)",
      "\u001b[0;32m<ipython-input-7-67d955332d7b>\u001b[0m in \u001b[0;36m<module>\u001b[0;34m\u001b[0m\n\u001b[1;32m      3\u001b[0m \u001b[0mparams\u001b[0m \u001b[0;34m=\u001b[0m \u001b[0;34m'./model_params'\u001b[0m\u001b[0;34m\u001b[0m\u001b[0;34m\u001b[0m\u001b[0m\n\u001b[1;32m      4\u001b[0m \u001b[0mpreprocessor\u001b[0m \u001b[0;34m=\u001b[0m \u001b[0;34m'./model_preprocessor'\u001b[0m\u001b[0;34m\u001b[0m\u001b[0;34m\u001b[0m\u001b[0m\n\u001b[0;32m----> 5\u001b[0;31m \u001b[0mtm\u001b[0m \u001b[0;34m=\u001b[0m \u001b[0mSequence\u001b[0m\u001b[0;34m.\u001b[0m\u001b[0mload\u001b[0m\u001b[0;34m(\u001b[0m\u001b[0mweights\u001b[0m\u001b[0;34m,\u001b[0m \u001b[0mparams\u001b[0m\u001b[0;34m,\u001b[0m \u001b[0mpreprocessor\u001b[0m\u001b[0;34m)\u001b[0m\u001b[0;34m\u001b[0m\u001b[0;34m\u001b[0m\u001b[0m\n\u001b[0m",
      "\u001b[0;32m/anaconda3/envs/keras-test/lib/python3.6/site-packages/anago/wrapper.py\u001b[0m in \u001b[0;36mload\u001b[0;34m(cls, weights_file, params_file, preprocessor_file)\u001b[0m\n\u001b[1;32m    138\u001b[0m         \u001b[0mself\u001b[0m \u001b[0;34m=\u001b[0m \u001b[0mcls\u001b[0m\u001b[0;34m(\u001b[0m\u001b[0;34m)\u001b[0m\u001b[0;34m\u001b[0m\u001b[0;34m\u001b[0m\u001b[0m\n\u001b[1;32m    139\u001b[0m         \u001b[0mself\u001b[0m\u001b[0;34m.\u001b[0m\u001b[0mp\u001b[0m \u001b[0;34m=\u001b[0m \u001b[0mIndexTransformer\u001b[0m\u001b[0;34m.\u001b[0m\u001b[0mload\u001b[0m\u001b[0;34m(\u001b[0m\u001b[0mpreprocessor_file\u001b[0m\u001b[0;34m)\u001b[0m\u001b[0;34m\u001b[0m\u001b[0;34m\u001b[0m\u001b[0m\n\u001b[0;32m--> 140\u001b[0;31m         \u001b[0mself\u001b[0m\u001b[0;34m.\u001b[0m\u001b[0mmodel\u001b[0m \u001b[0;34m=\u001b[0m \u001b[0mload_model\u001b[0m\u001b[0;34m(\u001b[0m\u001b[0mweights_file\u001b[0m\u001b[0;34m,\u001b[0m \u001b[0mparams_file\u001b[0m\u001b[0;34m)\u001b[0m\u001b[0;34m\u001b[0m\u001b[0;34m\u001b[0m\u001b[0m\n\u001b[0m\u001b[1;32m    141\u001b[0m \u001b[0;34m\u001b[0m\u001b[0m\n\u001b[1;32m    142\u001b[0m         \u001b[0;32mreturn\u001b[0m \u001b[0mself\u001b[0m\u001b[0;34m\u001b[0m\u001b[0;34m\u001b[0m\u001b[0m\n",
      "\u001b[0;32m/anaconda3/envs/keras-test/lib/python3.6/site-packages/anago/models.py\u001b[0m in \u001b[0;36mload_model\u001b[0;34m(weights_file, params_file)\u001b[0m\n\u001b[1;32m     20\u001b[0m \u001b[0;32mdef\u001b[0m \u001b[0mload_model\u001b[0m\u001b[0;34m(\u001b[0m\u001b[0mweights_file\u001b[0m\u001b[0;34m,\u001b[0m \u001b[0mparams_file\u001b[0m\u001b[0;34m)\u001b[0m\u001b[0;34m:\u001b[0m\u001b[0;34m\u001b[0m\u001b[0;34m\u001b[0m\u001b[0m\n\u001b[1;32m     21\u001b[0m     \u001b[0;32mwith\u001b[0m \u001b[0mopen\u001b[0m\u001b[0;34m(\u001b[0m\u001b[0mparams_file\u001b[0m\u001b[0;34m)\u001b[0m \u001b[0;32mas\u001b[0m \u001b[0mf\u001b[0m\u001b[0;34m:\u001b[0m\u001b[0;34m\u001b[0m\u001b[0;34m\u001b[0m\u001b[0m\n\u001b[0;32m---> 22\u001b[0;31m         \u001b[0mmodel\u001b[0m \u001b[0;34m=\u001b[0m \u001b[0mmodel_from_json\u001b[0m\u001b[0;34m(\u001b[0m\u001b[0mf\u001b[0m\u001b[0;34m.\u001b[0m\u001b[0mread\u001b[0m\u001b[0;34m(\u001b[0m\u001b[0;34m)\u001b[0m\u001b[0;34m,\u001b[0m \u001b[0mcustom_objects\u001b[0m\u001b[0;34m=\u001b[0m\u001b[0;34m{\u001b[0m\u001b[0;34m'CRF'\u001b[0m\u001b[0;34m:\u001b[0m \u001b[0mCRF\u001b[0m\u001b[0;34m}\u001b[0m\u001b[0;34m)\u001b[0m\u001b[0;34m\u001b[0m\u001b[0;34m\u001b[0m\u001b[0m\n\u001b[0m\u001b[1;32m     23\u001b[0m         \u001b[0mmodel\u001b[0m\u001b[0;34m.\u001b[0m\u001b[0mload_weights\u001b[0m\u001b[0;34m(\u001b[0m\u001b[0mweights_file\u001b[0m\u001b[0;34m)\u001b[0m\u001b[0;34m\u001b[0m\u001b[0;34m\u001b[0m\u001b[0m\n\u001b[1;32m     24\u001b[0m \u001b[0;34m\u001b[0m\u001b[0m\n",
      "\u001b[0;32m/anaconda3/envs/keras-test/lib/python3.6/site-packages/keras/engine/saving.py\u001b[0m in \u001b[0;36mmodel_from_json\u001b[0;34m(json_string, custom_objects)\u001b[0m\n\u001b[1;32m    490\u001b[0m     \u001b[0mconfig\u001b[0m \u001b[0;34m=\u001b[0m \u001b[0mjson\u001b[0m\u001b[0;34m.\u001b[0m\u001b[0mloads\u001b[0m\u001b[0;34m(\u001b[0m\u001b[0mjson_string\u001b[0m\u001b[0;34m)\u001b[0m\u001b[0;34m\u001b[0m\u001b[0;34m\u001b[0m\u001b[0m\n\u001b[1;32m    491\u001b[0m     \u001b[0;32mfrom\u001b[0m \u001b[0;34m.\u001b[0m\u001b[0;34m.\u001b[0m\u001b[0mlayers\u001b[0m \u001b[0;32mimport\u001b[0m \u001b[0mdeserialize\u001b[0m\u001b[0;34m\u001b[0m\u001b[0;34m\u001b[0m\u001b[0m\n\u001b[0;32m--> 492\u001b[0;31m     \u001b[0;32mreturn\u001b[0m \u001b[0mdeserialize\u001b[0m\u001b[0;34m(\u001b[0m\u001b[0mconfig\u001b[0m\u001b[0;34m,\u001b[0m \u001b[0mcustom_objects\u001b[0m\u001b[0;34m=\u001b[0m\u001b[0mcustom_objects\u001b[0m\u001b[0;34m)\u001b[0m\u001b[0;34m\u001b[0m\u001b[0;34m\u001b[0m\u001b[0m\n\u001b[0m\u001b[1;32m    493\u001b[0m \u001b[0;34m\u001b[0m\u001b[0m\n\u001b[1;32m    494\u001b[0m \u001b[0;34m\u001b[0m\u001b[0m\n",
      "\u001b[0;32m/anaconda3/envs/keras-test/lib/python3.6/site-packages/keras/layers/__init__.py\u001b[0m in \u001b[0;36mdeserialize\u001b[0;34m(config, custom_objects)\u001b[0m\n\u001b[1;32m     53\u001b[0m                                     \u001b[0mmodule_objects\u001b[0m\u001b[0;34m=\u001b[0m\u001b[0mglobs\u001b[0m\u001b[0;34m,\u001b[0m\u001b[0;34m\u001b[0m\u001b[0;34m\u001b[0m\u001b[0m\n\u001b[1;32m     54\u001b[0m                                     \u001b[0mcustom_objects\u001b[0m\u001b[0;34m=\u001b[0m\u001b[0mcustom_objects\u001b[0m\u001b[0;34m,\u001b[0m\u001b[0;34m\u001b[0m\u001b[0;34m\u001b[0m\u001b[0m\n\u001b[0;32m---> 55\u001b[0;31m                                     printable_module_name='layer')\n\u001b[0m",
      "\u001b[0;32m/anaconda3/envs/keras-test/lib/python3.6/site-packages/keras/utils/generic_utils.py\u001b[0m in \u001b[0;36mdeserialize_keras_object\u001b[0;34m(identifier, module_objects, custom_objects, printable_module_name)\u001b[0m\n\u001b[1;32m    143\u001b[0m                     \u001b[0mconfig\u001b[0m\u001b[0;34m[\u001b[0m\u001b[0;34m'config'\u001b[0m\u001b[0;34m]\u001b[0m\u001b[0;34m,\u001b[0m\u001b[0;34m\u001b[0m\u001b[0;34m\u001b[0m\u001b[0m\n\u001b[1;32m    144\u001b[0m                     custom_objects=dict(list(_GLOBAL_CUSTOM_OBJECTS.items()) +\n\u001b[0;32m--> 145\u001b[0;31m                                         list(custom_objects.items())))\n\u001b[0m\u001b[1;32m    146\u001b[0m             \u001b[0;32mwith\u001b[0m \u001b[0mCustomObjectScope\u001b[0m\u001b[0;34m(\u001b[0m\u001b[0mcustom_objects\u001b[0m\u001b[0;34m)\u001b[0m\u001b[0;34m:\u001b[0m\u001b[0;34m\u001b[0m\u001b[0;34m\u001b[0m\u001b[0m\n\u001b[1;32m    147\u001b[0m                 \u001b[0;32mreturn\u001b[0m \u001b[0mcls\u001b[0m\u001b[0;34m.\u001b[0m\u001b[0mfrom_config\u001b[0m\u001b[0;34m(\u001b[0m\u001b[0mconfig\u001b[0m\u001b[0;34m[\u001b[0m\u001b[0;34m'config'\u001b[0m\u001b[0;34m]\u001b[0m\u001b[0;34m)\u001b[0m\u001b[0;34m\u001b[0m\u001b[0;34m\u001b[0m\u001b[0m\n",
      "\u001b[0;32m/anaconda3/envs/keras-test/lib/python3.6/site-packages/keras/engine/network.py\u001b[0m in \u001b[0;36mfrom_config\u001b[0;34m(cls, config, custom_objects)\u001b[0m\n\u001b[1;32m   1020\u001b[0m         \u001b[0;31m# First, we create all layers and enqueue nodes to be processed\u001b[0m\u001b[0;34m\u001b[0m\u001b[0;34m\u001b[0m\u001b[0;34m\u001b[0m\u001b[0m\n\u001b[1;32m   1021\u001b[0m         \u001b[0;32mfor\u001b[0m \u001b[0mlayer_data\u001b[0m \u001b[0;32min\u001b[0m \u001b[0mconfig\u001b[0m\u001b[0;34m[\u001b[0m\u001b[0;34m'layers'\u001b[0m\u001b[0;34m]\u001b[0m\u001b[0;34m:\u001b[0m\u001b[0;34m\u001b[0m\u001b[0;34m\u001b[0m\u001b[0m\n\u001b[0;32m-> 1022\u001b[0;31m             \u001b[0mprocess_layer\u001b[0m\u001b[0;34m(\u001b[0m\u001b[0mlayer_data\u001b[0m\u001b[0;34m)\u001b[0m\u001b[0;34m\u001b[0m\u001b[0;34m\u001b[0m\u001b[0m\n\u001b[0m\u001b[1;32m   1023\u001b[0m         \u001b[0;31m# Then we process nodes in order of layer depth.\u001b[0m\u001b[0;34m\u001b[0m\u001b[0;34m\u001b[0m\u001b[0;34m\u001b[0m\u001b[0m\n\u001b[1;32m   1024\u001b[0m         \u001b[0;31m# Nodes that cannot yet be processed (if the inbound node\u001b[0m\u001b[0;34m\u001b[0m\u001b[0;34m\u001b[0m\u001b[0;34m\u001b[0m\u001b[0m\n",
      "\u001b[0;32m/anaconda3/envs/keras-test/lib/python3.6/site-packages/keras/engine/network.py\u001b[0m in \u001b[0;36mprocess_layer\u001b[0;34m(layer_data)\u001b[0m\n\u001b[1;32m   1006\u001b[0m \u001b[0;34m\u001b[0m\u001b[0m\n\u001b[1;32m   1007\u001b[0m             layer = deserialize_layer(layer_data,\n\u001b[0;32m-> 1008\u001b[0;31m                                       custom_objects=custom_objects)\n\u001b[0m\u001b[1;32m   1009\u001b[0m             \u001b[0mcreated_layers\u001b[0m\u001b[0;34m[\u001b[0m\u001b[0mlayer_name\u001b[0m\u001b[0;34m]\u001b[0m \u001b[0;34m=\u001b[0m \u001b[0mlayer\u001b[0m\u001b[0;34m\u001b[0m\u001b[0;34m\u001b[0m\u001b[0m\n\u001b[1;32m   1010\u001b[0m \u001b[0;34m\u001b[0m\u001b[0m\n",
      "\u001b[0;32m/anaconda3/envs/keras-test/lib/python3.6/site-packages/keras/layers/__init__.py\u001b[0m in \u001b[0;36mdeserialize\u001b[0;34m(config, custom_objects)\u001b[0m\n\u001b[1;32m     53\u001b[0m                                     \u001b[0mmodule_objects\u001b[0m\u001b[0;34m=\u001b[0m\u001b[0mglobs\u001b[0m\u001b[0;34m,\u001b[0m\u001b[0;34m\u001b[0m\u001b[0;34m\u001b[0m\u001b[0m\n\u001b[1;32m     54\u001b[0m                                     \u001b[0mcustom_objects\u001b[0m\u001b[0;34m=\u001b[0m\u001b[0mcustom_objects\u001b[0m\u001b[0;34m,\u001b[0m\u001b[0;34m\u001b[0m\u001b[0;34m\u001b[0m\u001b[0m\n\u001b[0;32m---> 55\u001b[0;31m                                     printable_module_name='layer')\n\u001b[0m",
      "\u001b[0;32m/anaconda3/envs/keras-test/lib/python3.6/site-packages/keras/utils/generic_utils.py\u001b[0m in \u001b[0;36mdeserialize_keras_object\u001b[0;34m(identifier, module_objects, custom_objects, printable_module_name)\u001b[0m\n\u001b[1;32m    145\u001b[0m                                         list(custom_objects.items())))\n\u001b[1;32m    146\u001b[0m             \u001b[0;32mwith\u001b[0m \u001b[0mCustomObjectScope\u001b[0m\u001b[0;34m(\u001b[0m\u001b[0mcustom_objects\u001b[0m\u001b[0;34m)\u001b[0m\u001b[0;34m:\u001b[0m\u001b[0;34m\u001b[0m\u001b[0;34m\u001b[0m\u001b[0m\n\u001b[0;32m--> 147\u001b[0;31m                 \u001b[0;32mreturn\u001b[0m \u001b[0mcls\u001b[0m\u001b[0;34m.\u001b[0m\u001b[0mfrom_config\u001b[0m\u001b[0;34m(\u001b[0m\u001b[0mconfig\u001b[0m\u001b[0;34m[\u001b[0m\u001b[0;34m'config'\u001b[0m\u001b[0;34m]\u001b[0m\u001b[0;34m)\u001b[0m\u001b[0;34m\u001b[0m\u001b[0;34m\u001b[0m\u001b[0m\n\u001b[0m\u001b[1;32m    148\u001b[0m         \u001b[0;32melse\u001b[0m\u001b[0;34m:\u001b[0m\u001b[0;34m\u001b[0m\u001b[0;34m\u001b[0m\u001b[0m\n\u001b[1;32m    149\u001b[0m             \u001b[0;31m# Then `cls` may be a function returning a class.\u001b[0m\u001b[0;34m\u001b[0m\u001b[0;34m\u001b[0m\u001b[0;34m\u001b[0m\u001b[0m\n",
      "\u001b[0;32m/anaconda3/envs/keras-test/lib/python3.6/site-packages/keras/engine/base_layer.py\u001b[0m in \u001b[0;36mfrom_config\u001b[0;34m(cls, config)\u001b[0m\n\u001b[1;32m   1107\u001b[0m             \u001b[0mA\u001b[0m \u001b[0mlayer\u001b[0m \u001b[0minstance\u001b[0m\u001b[0;34m.\u001b[0m\u001b[0;34m\u001b[0m\u001b[0;34m\u001b[0m\u001b[0m\n\u001b[1;32m   1108\u001b[0m         \"\"\"\n\u001b[0;32m-> 1109\u001b[0;31m         \u001b[0;32mreturn\u001b[0m \u001b[0mcls\u001b[0m\u001b[0;34m(\u001b[0m\u001b[0;34m**\u001b[0m\u001b[0mconfig\u001b[0m\u001b[0;34m)\u001b[0m\u001b[0;34m\u001b[0m\u001b[0;34m\u001b[0m\u001b[0m\n\u001b[0m\u001b[1;32m   1110\u001b[0m \u001b[0;34m\u001b[0m\u001b[0m\n\u001b[1;32m   1111\u001b[0m     \u001b[0;32mdef\u001b[0m \u001b[0mcount_params\u001b[0m\u001b[0;34m(\u001b[0m\u001b[0mself\u001b[0m\u001b[0;34m)\u001b[0m\u001b[0;34m:\u001b[0m\u001b[0;34m\u001b[0m\u001b[0;34m\u001b[0m\u001b[0m\n",
      "\u001b[0;32m/anaconda3/envs/keras-test/lib/python3.6/site-packages/keras/legacy/interfaces.py\u001b[0m in \u001b[0;36mwrapper\u001b[0;34m(*args, **kwargs)\u001b[0m\n\u001b[1;32m     89\u001b[0m                 warnings.warn('Update your `' + object_name + '` call to the ' +\n\u001b[1;32m     90\u001b[0m                               'Keras 2 API: ' + signature, stacklevel=2)\n\u001b[0;32m---> 91\u001b[0;31m             \u001b[0;32mreturn\u001b[0m \u001b[0mfunc\u001b[0m\u001b[0;34m(\u001b[0m\u001b[0;34m*\u001b[0m\u001b[0margs\u001b[0m\u001b[0;34m,\u001b[0m \u001b[0;34m**\u001b[0m\u001b[0mkwargs\u001b[0m\u001b[0;34m)\u001b[0m\u001b[0;34m\u001b[0m\u001b[0;34m\u001b[0m\u001b[0m\n\u001b[0m\u001b[1;32m     92\u001b[0m         \u001b[0mwrapper\u001b[0m\u001b[0;34m.\u001b[0m\u001b[0m_original_function\u001b[0m \u001b[0;34m=\u001b[0m \u001b[0mfunc\u001b[0m\u001b[0;34m\u001b[0m\u001b[0;34m\u001b[0m\u001b[0m\n\u001b[1;32m     93\u001b[0m         \u001b[0;32mreturn\u001b[0m \u001b[0mwrapper\u001b[0m\u001b[0;34m\u001b[0m\u001b[0;34m\u001b[0m\u001b[0m\n",
      "\u001b[0;32m/anaconda3/envs/keras-test/lib/python3.6/site-packages/keras/engine/input_layer.py\u001b[0m in \u001b[0;36m__init__\u001b[0;34m(self, input_shape, batch_size, batch_input_shape, dtype, input_tensor, sparse, name)\u001b[0m\n\u001b[1;32m     85\u001b[0m                                          \u001b[0mdtype\u001b[0m\u001b[0;34m=\u001b[0m\u001b[0mdtype\u001b[0m\u001b[0;34m,\u001b[0m\u001b[0;34m\u001b[0m\u001b[0;34m\u001b[0m\u001b[0m\n\u001b[1;32m     86\u001b[0m                                          \u001b[0msparse\u001b[0m\u001b[0;34m=\u001b[0m\u001b[0mself\u001b[0m\u001b[0;34m.\u001b[0m\u001b[0msparse\u001b[0m\u001b[0;34m,\u001b[0m\u001b[0;34m\u001b[0m\u001b[0;34m\u001b[0m\u001b[0m\n\u001b[0;32m---> 87\u001b[0;31m                                          name=self.name)\n\u001b[0m\u001b[1;32m     88\u001b[0m         \u001b[0;32melse\u001b[0m\u001b[0;34m:\u001b[0m\u001b[0;34m\u001b[0m\u001b[0;34m\u001b[0m\u001b[0m\n\u001b[1;32m     89\u001b[0m             \u001b[0mself\u001b[0m\u001b[0;34m.\u001b[0m\u001b[0mis_placeholder\u001b[0m \u001b[0;34m=\u001b[0m \u001b[0;32mFalse\u001b[0m\u001b[0;34m\u001b[0m\u001b[0;34m\u001b[0m\u001b[0m\n",
      "\u001b[0;32m/anaconda3/envs/keras-test/lib/python3.6/site-packages/keras/backend/tensorflow_backend.py\u001b[0m in \u001b[0;36mplaceholder\u001b[0;34m(shape, ndim, dtype, sparse, name)\u001b[0m\n\u001b[1;32m    515\u001b[0m         \u001b[0mx\u001b[0m \u001b[0;34m=\u001b[0m \u001b[0mtf\u001b[0m\u001b[0;34m.\u001b[0m\u001b[0msparse_placeholder\u001b[0m\u001b[0;34m(\u001b[0m\u001b[0mdtype\u001b[0m\u001b[0;34m,\u001b[0m \u001b[0mshape\u001b[0m\u001b[0;34m=\u001b[0m\u001b[0mshape\u001b[0m\u001b[0;34m,\u001b[0m \u001b[0mname\u001b[0m\u001b[0;34m=\u001b[0m\u001b[0mname\u001b[0m\u001b[0;34m)\u001b[0m\u001b[0;34m\u001b[0m\u001b[0;34m\u001b[0m\u001b[0m\n\u001b[1;32m    516\u001b[0m     \u001b[0;32melse\u001b[0m\u001b[0;34m:\u001b[0m\u001b[0;34m\u001b[0m\u001b[0;34m\u001b[0m\u001b[0m\n\u001b[0;32m--> 517\u001b[0;31m         \u001b[0mx\u001b[0m \u001b[0;34m=\u001b[0m \u001b[0mtf\u001b[0m\u001b[0;34m.\u001b[0m\u001b[0mplaceholder\u001b[0m\u001b[0;34m(\u001b[0m\u001b[0mdtype\u001b[0m\u001b[0;34m,\u001b[0m \u001b[0mshape\u001b[0m\u001b[0;34m=\u001b[0m\u001b[0mshape\u001b[0m\u001b[0;34m,\u001b[0m \u001b[0mname\u001b[0m\u001b[0;34m=\u001b[0m\u001b[0mname\u001b[0m\u001b[0;34m)\u001b[0m\u001b[0;34m\u001b[0m\u001b[0;34m\u001b[0m\u001b[0m\n\u001b[0m\u001b[1;32m    518\u001b[0m     \u001b[0mx\u001b[0m\u001b[0;34m.\u001b[0m\u001b[0m_keras_shape\u001b[0m \u001b[0;34m=\u001b[0m \u001b[0mshape\u001b[0m\u001b[0;34m\u001b[0m\u001b[0;34m\u001b[0m\u001b[0m\n\u001b[1;32m    519\u001b[0m     \u001b[0mx\u001b[0m\u001b[0;34m.\u001b[0m\u001b[0m_uses_learning_phase\u001b[0m \u001b[0;34m=\u001b[0m \u001b[0;32mFalse\u001b[0m\u001b[0;34m\u001b[0m\u001b[0;34m\u001b[0m\u001b[0m\n",
      "\u001b[0;31mAttributeError\u001b[0m: module 'tensorflow' has no attribute 'placeholder'"
     ]
    }
   ],
   "source": [
    "# 모델 불러오기 테스트\n",
    "weights = './model_weights'\n",
    "params = './model_params'\n",
    "preprocessor = './model_preprocessor'\n",
    "tm = Sequence.load(weights, params, preprocessor)"
   ]
  },
  {
   "cell_type": "code",
   "execution_count": 0,
   "metadata": {
    "colab": {
     "base_uri": "https://localhost:8080/",
     "height": 289
    },
    "colab_type": "code",
    "id": "HmAPBgFOzupJ",
    "outputId": "7d659da1-1f63-483e-c3da-5069133e5d84"
   },
   "outputs": [
    {
     "data": {
      "text/plain": [
       "{'entities': [{'beginOffset': 0,\n",
       "   'endOffset': 1,\n",
       "   'score': 1.0,\n",
       "   'text': '맛있는',\n",
       "   'type': 'ADJ'},\n",
       "  {'beginOffset': 1,\n",
       "   'endOffset': 2,\n",
       "   'score': 1.0,\n",
       "   'text': '깔끔한',\n",
       "   'type': 'ADJ'},\n",
       "  {'beginOffset': 2,\n",
       "   'endOffset': 4,\n",
       "   'score': 1.0,\n",
       "   'text': '한식 집',\n",
       "   'type': 'FOD'}],\n",
       " 'words': ['맛있는', '깔끔한', '한식', '집', '아세요']}"
      ]
     },
     "execution_count": 76,
     "metadata": {
      "tags": []
     },
     "output_type": "execute_result"
    }
   ],
   "source": [
    "tm.analyze(text_prepared)"
   ]
  }
 ],
 "metadata": {
  "accelerator": "GPU",
  "colab": {
   "collapsed_sections": [],
   "name": "chatbot - NER.ipynb",
   "provenance": []
  },
  "kernelspec": {
   "display_name": "keras-test",
   "language": "python",
   "name": "keras-test"
  },
  "language_info": {
   "codemirror_mode": {
    "name": "ipython",
    "version": 3
   },
   "file_extension": ".py",
   "mimetype": "text/x-python",
   "name": "python",
   "nbconvert_exporter": "python",
   "pygments_lexer": "ipython3",
   "version": "3.6.9"
  }
 },
 "nbformat": 4,
 "nbformat_minor": 1
}
