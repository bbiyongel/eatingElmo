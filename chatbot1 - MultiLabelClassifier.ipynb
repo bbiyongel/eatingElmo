{
 "cells": [
  {
   "cell_type": "markdown",
   "metadata": {
    "colab_type": "text",
    "id": "kw2Ic3VUQAtv"
   },
   "source": [
    "# 질문 의도 파악 - 선형 모델"
   ]
  },
  {
   "cell_type": "code",
   "execution_count": 1,
   "metadata": {},
   "outputs": [],
   "source": [
    "import numpy as np\n",
    "import pandas as pd\n",
    "import pickle\n",
    "import re\n",
    "import time\n",
    "from konlpy.tag import Mecab"
   ]
  },
  {
   "cell_type": "markdown",
   "metadata": {
    "colab_type": "text",
    "id": "aK6NVDxkQAty"
   },
   "source": [
    "### 1. 데이터 탐색"
   ]
  },
  {
   "cell_type": "code",
   "execution_count": 2,
   "metadata": {},
   "outputs": [],
   "source": [
    "with open(\"./questions/questions_pickle/X1_train_tfidf.pickle\", \"rb\") as f:\n",
    "    X_train = pickle.load(f)\n",
    "with open(\"./questions/questions_pickle/X1_test_tfidf.pickle\", \"rb\") as f:\n",
    "    X_test = pickle.load(f)\n",
    "with open(\"./questions/questions_pickle/tfidf_vocab_1.pickle\", \"rb\") as f:\n",
    "    tfidf_vocab = pickle.load(f)\n",
    "with open(\"./questions/questions_pickle/tfidf_reversed_vocab_1.pickle\", \"rb\") as f:\n",
    "    tfidf_reversed_vocab = pickle.load(f)\n",
    "with open(\"./questions/questions_pickle/y1_train.pickle\", \"rb\") as f:\n",
    "    y_train = pickle.load(f)\n",
    "with open(\"./questions/questions_pickle/y1_test.pickle\", \"rb\") as f:\n",
    "    y_test = pickle.load(f)\n",
    "with open(\"./questions/questions_pickle/lb_1.pickle\", \"rb\") as f:\n",
    "    lb = pickle.load(f)\n",
    "with open(\"./questions/questions_pickle/tfidf_vectorizer_1.pickle\", \"rb\") as f:\n",
    "    tfidf_vectorizer = pickle.load(f)"
   ]
  },
  {
   "cell_type": "code",
   "execution_count": 3,
   "metadata": {},
   "outputs": [
    {
     "data": {
      "text/plain": [
       "((2707430, 117126), (300826, 117126))"
      ]
     },
     "execution_count": 3,
     "metadata": {},
     "output_type": "execute_result"
    }
   ],
   "source": [
    "X_train.shape, X_test.shape"
   ]
  },
  {
   "cell_type": "code",
   "execution_count": 4,
   "metadata": {},
   "outputs": [
    {
     "data": {
      "text/plain": [
       "((2707430, 3), (300826, 3))"
      ]
     },
     "execution_count": 4,
     "metadata": {},
     "output_type": "execute_result"
    }
   ],
   "source": [
    "y_train.shape, y_test.shape"
   ]
  },
  {
   "cell_type": "code",
   "execution_count": 5,
   "metadata": {},
   "outputs": [
    {
     "data": {
      "text/plain": [
       "array(['questionLOC', 'questionREV', 'recommendation'], dtype='<U14')"
      ]
     },
     "execution_count": 5,
     "metadata": {},
     "output_type": "execute_result"
    }
   ],
   "source": [
    "lb.classes_"
   ]
  },
  {
   "cell_type": "code",
   "execution_count": 6,
   "metadata": {},
   "outputs": [
    {
     "data": {
      "text/plain": [
       "TfidfVectorizer(analyzer='word', binary=False, decode_error='strict',\n",
       "                dtype=<class 'numpy.float64'>, encoding='utf-8',\n",
       "                input='content', lowercase=True, max_df=0.9, max_features=None,\n",
       "                min_df=5, ngram_range=(1, 2), norm='l2', preprocessor=None,\n",
       "                smooth_idf=True, stop_words=None, strip_accents=None,\n",
       "                sublinear_tf=False, token_pattern='(\\\\S+)', tokenizer=None,\n",
       "                use_idf=True, vocabulary=None)"
      ]
     },
     "execution_count": 6,
     "metadata": {},
     "output_type": "execute_result"
    }
   ],
   "source": [
    "tfidf_vectorizer"
   ]
  },
  {
   "cell_type": "markdown",
   "metadata": {
    "colab_type": "text",
    "id": "28AlQCHGQAu2"
   },
   "source": [
    "### 2. MultiLabel classifier"
   ]
  },
  {
   "cell_type": "markdown",
   "metadata": {
    "colab_type": "text",
    "id": "I8kor0Z4QAu6"
   },
   "source": [
    "Classifier를 훈련시키는 함수 *train_classifier* 를 정의한다. 여기서는 *sklearn*의 One-vs-Rest approach 기법을 사용한다.<br>\n",
    "[OneVsRestClassifier](http://scikit-learn.org/stable/modules/generated/sklearn.multiclass.OneVsRestClassifier.html) \n",
    "\n",
    "이 방법으로 *k* (= number of tags) 개의 tag 중 하나로 분류해주는 classifier를 훈련시킬 수 있다. \n",
    "\n",
    "기본적인 분류 방법으로는 [LogisticRegression](http://scikit-learn.org/stable/modules/generated/sklearn.linear_model.LogisticRegression.html) 을 사용한다. \n",
    "\n",
    "가장 간단한 방법이지만, 텍스트 분류 작업에서 좋은 성능을 낸다. 분류할 tag가 많을 수록 시간이 많이 걸린다."
   ]
  },
  {
   "cell_type": "code",
   "execution_count": 7,
   "metadata": {
    "colab": {},
    "colab_type": "code",
    "id": "2vEV_ZoIQAu6"
   },
   "outputs": [],
   "source": [
    "from sklearn.multiclass import OneVsRestClassifier \n",
    "from sklearn.linear_model import LogisticRegression, RidgeClassifier"
   ]
  },
  {
   "cell_type": "code",
   "execution_count": 8,
   "metadata": {
    "colab": {},
    "colab_type": "code",
    "id": "ElwoJ0qJQAu7"
   },
   "outputs": [],
   "source": [
    "def train_classifier(X_train, y_train):\n",
    "    \"\"\"\n",
    "      X_train, y_train — train 데이터\n",
    "      return: 훈련된 classifier\n",
    "    \"\"\"\n",
    "\n",
    "    return OneVsRestClassifier(LogisticRegression(penalty= 'l2' #L2 규제 사용\n",
    "                                                , C = 10\n",
    "                                                , max_iter = 1000)).fit(X_train, y_train)"
   ]
  },
  {
   "cell_type": "code",
   "execution_count": 9,
   "metadata": {
    "colab": {
     "base_uri": "https://localhost:8080/",
     "height": 105
    },
    "colab_type": "code",
    "executionInfo": {
     "elapsed": 204967,
     "status": "ok",
     "timestamp": 1574659193675,
     "user": {
      "displayName": "",
      "photoUrl": "",
      "userId": ""
     },
     "user_tz": -540
    },
    "id": "9F3zHG16QAu-",
    "outputId": "95b65264-3df4-4626-adda-c65e45774e03"
   },
   "outputs": [
    {
     "name": "stderr",
     "output_type": "stream",
     "text": [
      "/anaconda3/envs/text_anal/lib/python3.6/site-packages/sklearn/linear_model/logistic.py:432: FutureWarning: Default solver will be changed to 'lbfgs' in 0.22. Specify a solver to silence this warning.\n",
      "  FutureWarning)\n"
     ]
    },
    {
     "name": "stdout",
     "output_type": "stream",
     "text": [
      "CPU times: user 2min 43s, sys: 3.46 s, total: 2min 47s\n",
      "Wall time: 54.9 s\n"
     ]
    }
   ],
   "source": [
    "%%time\n",
    "classifier_tfidf = train_classifier(X_train, y_train)"
   ]
  },
  {
   "cell_type": "code",
   "execution_count": 10,
   "metadata": {
    "colab": {
     "base_uri": "https://localhost:8080/",
     "height": 187
    },
    "colab_type": "code",
    "executionInfo": {
     "elapsed": 188410,
     "status": "ok",
     "timestamp": 1574659193676,
     "user": {
      "displayName": "",
      "photoUrl": "",
      "userId": ""
     },
     "user_tz": -540
    },
    "id": "ZV35-xnRWhHU",
    "outputId": "4ca3de3a-5e9f-4a6d-89b3-769f0adf8270"
   },
   "outputs": [
    {
     "data": {
      "text/plain": [
       "OneVsRestClassifier(estimator=LogisticRegression(C=10, class_weight=None,\n",
       "                                                 dual=False, fit_intercept=True,\n",
       "                                                 intercept_scaling=1,\n",
       "                                                 l1_ratio=None, max_iter=1000,\n",
       "                                                 multi_class='warn',\n",
       "                                                 n_jobs=None, penalty='l2',\n",
       "                                                 random_state=None,\n",
       "                                                 solver='warn', tol=0.0001,\n",
       "                                                 verbose=0, warm_start=False),\n",
       "                    n_jobs=None)"
      ]
     },
     "execution_count": 10,
     "metadata": {},
     "output_type": "execute_result"
    }
   ],
   "source": [
    "classifier_tfidf"
   ]
  },
  {
   "cell_type": "markdown",
   "metadata": {
    "colab_type": "text",
    "id": "5rkU64vxQAvC"
   },
   "source": [
    "이제 test 데이터의 태그를 예측할 수 있다: labels, scores"
   ]
  },
  {
   "cell_type": "code",
   "execution_count": 11,
   "metadata": {
    "colab": {},
    "colab_type": "code",
    "id": "HveyLeREQAvD"
   },
   "outputs": [],
   "source": [
    "y_test_predicted_labels = classifier_tfidf.predict(X_test)\n",
    "y_test_predicted_scores = classifier_tfidf.decision_function(X_test)"
   ]
  },
  {
   "cell_type": "code",
   "execution_count": 12,
   "metadata": {},
   "outputs": [
    {
     "data": {
      "text/plain": [
       "array([[ 10.5572586 , -12.55584067, -10.72234289],\n",
       "       [  6.76742896,  -8.09138899,  -7.77241751],\n",
       "       [  9.41760449, -10.89320321,  -9.80423098],\n",
       "       [ -6.64364537,  -5.49941548,   5.40844863],\n",
       "       [  6.1515729 ,  -6.42303731,  -7.59892587]])"
      ]
     },
     "execution_count": 12,
     "metadata": {},
     "output_type": "execute_result"
    }
   ],
   "source": [
    "# decision function(X_test)를 실행하면 X_test와 y_test 각 태그의 거리값을 나타낸다.\n",
    "y_test_predicted_scores[:5]"
   ]
  },
  {
   "cell_type": "code",
   "execution_count": 13,
   "metadata": {},
   "outputs": [
    {
     "data": {
      "text/plain": [
       "array([[1, 0, 0],\n",
       "       [1, 0, 0],\n",
       "       [1, 0, 0],\n",
       "       [0, 0, 1],\n",
       "       [1, 0, 0]])"
      ]
     },
     "execution_count": 13,
     "metadata": {},
     "output_type": "execute_result"
    }
   ],
   "source": [
    "# tf-idf로 예측한 tag의 벡터화표현 ('questionLOC':[1,0,0], 'questionREV':[0,1,0], 'recommendation':[0,0,1] )\n",
    "y_test_predicted_labels[:5]"
   ]
  },
  {
   "cell_type": "code",
   "execution_count": 14,
   "metadata": {},
   "outputs": [
    {
     "data": {
      "text/plain": [
       "(array(['questionLOC', 'questionLOC', 'questionLOC', ..., 'questionLOC',\n",
       "        'questionLOC', 'questionLOC'], dtype='<U14'),\n",
       " array(['questionLOC', 'questionLOC', 'questionLOC', ..., 'questionLOC',\n",
       "        'questionLOC', 'questionLOC'], dtype='<U14'))"
      ]
     },
     "execution_count": 14,
     "metadata": {},
     "output_type": "execute_result"
    }
   ],
   "source": [
    "# 벡터화된 태그를 다시 텍스트 데이터로 변환시킨다.\n",
    "y_test_pred_inversed = lb.inverse_transform(y_test_predicted_labels)  # 예측 태그\n",
    "y_test_inversed = lb.inverse_transform(y_test) # 실제 태그\n",
    "y_test_pred_inversed, y_test_inversed"
   ]
  },
  {
   "cell_type": "markdown",
   "metadata": {
    "colab_type": "text",
    "id": "aKNc6gX7QAvG"
   },
   "source": [
    "### 3. Evaluation\n",
    "\n",
    "모델 평가를 위해 사용할 classification metrics:\n",
    " - [Accuracy](http://scikit-learn.org/stable/modules/generated/sklearn.metrics.accuracy_score.html)\n",
    " - [F1-score](http://scikit-learn.org/stable/modules/generated/sklearn.metrics.f1_score.html)\n",
    " - [Area under ROC-curve](http://scikit-learn.org/stable/modules/generated/sklearn.metrics.roc_auc_score.html)\n",
    " - [Area under precision-recall curve](http://scikit-learn.org/stable/modules/generated/sklearn.metrics.average_precision_score.html#sklearn.metrics.average_precision_score) \n",
    " \n",
    "위 문서에서 micro/macro/weighted averaging 이 무엇인지 잘 살펴보자."
   ]
  },
  {
   "cell_type": "code",
   "execution_count": 19,
   "metadata": {
    "colab": {},
    "colab_type": "code",
    "id": "3IxmcMyNQAvH"
   },
   "outputs": [],
   "source": [
    "from sklearn.metrics import accuracy_score\n",
    "from sklearn.metrics import f1_score\n",
    "from sklearn.metrics import roc_auc_score \n",
    "from sklearn.metrics import average_precision_score\n",
    "from sklearn.metrics import recall_score"
   ]
  },
  {
   "cell_type": "markdown",
   "metadata": {
    "colab_type": "text",
    "id": "j8MH8AFIQAvI"
   },
   "source": [
    "*print_evaluation_scores* 를 정의하여 정확도를 평가해본다.\n",
    " - *accuracy*\n",
    " - *F1-score macro/micro/weighted*\n",
    " - *Precision macro/micro/weighted*"
   ]
  },
  {
   "cell_type": "code",
   "execution_count": 20,
   "metadata": {
    "colab": {},
    "colab_type": "code",
    "id": "wCkmPhw0QAvJ"
   },
   "outputs": [],
   "source": [
    "def print_evaluation_scores(y_test, predicted):\n",
    "    print('accuracy_score :', accuracy_score(y_test, predicted))\n",
    "\n",
    "    f1_macro = f1_score(y_test, predicted, average='macro')\n",
    "    f1_micro = f1_score(y_test, predicted, average='micro')\n",
    "    f1_weighted = f1_score(y_test, predicted, average='weighted')\n",
    "\n",
    "    print('F1-score macro :', f1_macro)\n",
    "    print('F1-score micro :', f1_micro)\n",
    "    print('F1-score weighted :', f1_weighted)\n",
    "\n",
    "    print('Precision macro :', average_precision_score(y_test, predicted, average='macro'))\n",
    "    print('Precision micro :', average_precision_score(y_test, predicted, average='micro'))\n",
    "    print('Precision weighted :', average_precision_score(y_test, predicted, average='weighted'))"
   ]
  },
  {
   "cell_type": "code",
   "execution_count": 21,
   "metadata": {
    "colab": {
     "base_uri": "https://localhost:8080/",
     "height": 289
    },
    "colab_type": "code",
    "executionInfo": {
     "elapsed": 10015,
     "status": "ok",
     "timestamp": 1574659711647,
     "user": {
      "displayName": "",
      "photoUrl": "",
      "userId": ""
     },
     "user_tz": -540
    },
    "id": "z7Z3G71iQAvL",
    "outputId": "398c788f-68e5-42cc-8651-5c16cddebee2"
   },
   "outputs": [
    {
     "name": "stdout",
     "output_type": "stream",
     "text": [
      "Tfidf\n",
      "accuracy_score : 0.999674230285946\n",
      "F1-score macro : 0.9997388920427711\n",
      "F1-score micro : 0.9997390643879397\n",
      "F1-score weighted : 0.9997390738881349\n",
      "Precision macro : 0.9995488113127032\n",
      "Precision micro : 0.9995491150412575\n",
      "Precision weighted : 0.9995491118697507\n"
     ]
    }
   ],
   "source": [
    "print('Tfidf')\n",
    "print_evaluation_scores(y_test, y_test_predicted_labels)"
   ]
  },
  {
   "cell_type": "markdown",
   "metadata": {},
   "source": [
    "정확도가 99%이다."
   ]
  },
  {
   "cell_type": "markdown",
   "metadata": {},
   "source": [
    "##### LinearSVC 모델\n",
    "- C값 변화 : 0.1 / 1 / 10 / 100 "
   ]
  },
  {
   "cell_type": "code",
   "execution_count": 26,
   "metadata": {},
   "outputs": [
    {
     "name": "stdout",
     "output_type": "stream",
     "text": [
      "accuracy_score : 0.9994648068983399\n",
      "F1-score macro : 0.9995809799626073\n",
      "F1-score micro : 0.9995811866378594\n",
      "F1-score weighted : 0.9995812384795967\n",
      "Precision macro : 0.9992753634513681\n",
      "Precision micro : 0.9992755771846008\n",
      "Precision weighted : 0.9992757490024857\n"
     ]
    }
   ],
   "source": [
    "from sklearn.svm import LinearSVC\n",
    "classifier_tfidf = OneVsRestClassifier(LinearSVC(C = 0.1)).fit(X_train, y_train) # C값 변화시켜본다.\n",
    "\n",
    "y_test_predicted_labels = classifier_tfidf.predict(X_test)\n",
    "y_test_predicted_scores = classifier_tfidf.decision_function(X_test)\n",
    "y_test_pred_inversed = lb.inverse_transform(y_test_predicted_labels)\n",
    "y_test_inversed = lb.inverse_transform(y_test)\n",
    "\n",
    "print_evaluation_scores(y_test, y_test_predicted_labels)"
   ]
  },
  {
   "cell_type": "code",
   "execution_count": 27,
   "metadata": {
    "colab": {
     "base_uri": "https://localhost:8080/",
     "height": 323
    },
    "colab_type": "code",
    "executionInfo": {
     "elapsed": 83381,
     "status": "ok",
     "timestamp": 1574662969023,
     "user": {
      "displayName": "",
      "photoUrl": "",
      "userId": ""
     },
     "user_tz": -540
    },
    "id": "KlW_tF40QAvS",
    "outputId": "8b4e404f-f697-4293-e279-14f0a2037dbd"
   },
   "outputs": [
    {
     "name": "stdout",
     "output_type": "stream",
     "text": [
      "accuracy_score : 0.99969417537048\n",
      "F1-score macro : 0.9997571808212807\n",
      "F1-score micro : 0.9997573452910029\n",
      "F1-score weighted : 0.9997573521248041\n",
      "Precision macro : 0.9995809399280239\n",
      "Precision micro : 0.9995812349448392\n",
      "Precision weighted : 0.9995812263886947\n"
     ]
    }
   ],
   "source": [
    "from sklearn.svm import LinearSVC\n",
    "classifier_tfidf = OneVsRestClassifier(LinearSVC(C = 1)).fit(X_train, y_train) # C값 변화시켜본다.\n",
    "\n",
    "y_test_predicted_labels = classifier_tfidf.predict(X_test)\n",
    "y_test_predicted_scores = classifier_tfidf.decision_function(X_test)\n",
    "y_test_pred_inversed = lb.inverse_transform(y_test_predicted_labels)\n",
    "y_test_inversed = lb.inverse_transform(y_test)\n",
    "    \n",
    "print_evaluation_scores(y_test, y_test_predicted_labels)"
   ]
  },
  {
   "cell_type": "code",
   "execution_count": 28,
   "metadata": {},
   "outputs": [
    {
     "name": "stdout",
     "output_type": "stream",
     "text": [
      "accuracy_score : 0.9997274171780365\n",
      "F1-score macro : 0.9997521655044327\n",
      "F1-score micro : 0.9997523489453222\n",
      "F1-score weighted : 0.9997523472986352\n",
      "Precision macro : 0.9995864270695255\n",
      "Precision micro : 0.9995867556830901\n",
      "Precision weighted : 0.9995867484146275\n"
     ]
    }
   ],
   "source": [
    "from sklearn.svm import LinearSVC\n",
    "classifier_tfidf = OneVsRestClassifier(LinearSVC(C = 10)).fit(X_train, y_train) # C값 변화시켜본다.\n",
    "\n",
    "y_test_predicted_labels = classifier_tfidf.predict(X_test)\n",
    "y_test_predicted_scores = classifier_tfidf.decision_function(X_test)\n",
    "y_test_pred_inversed = lb.inverse_transform(y_test_predicted_labels)\n",
    "y_test_inversed = lb.inverse_transform(y_test)\n",
    "    \n",
    "print_evaluation_scores(y_test, y_test_predicted_labels)"
   ]
  },
  {
   "cell_type": "code",
   "execution_count": 29,
   "metadata": {},
   "outputs": [
    {
     "name": "stderr",
     "output_type": "stream",
     "text": [
      "/anaconda3/envs/text_anal/lib/python3.6/site-packages/sklearn/svm/base.py:929: ConvergenceWarning: Liblinear failed to converge, increase the number of iterations.\n",
      "  \"the number of iterations.\", ConvergenceWarning)\n"
     ]
    },
    {
     "name": "stdout",
     "output_type": "stream",
     "text": [
      "accuracy_score : 0.9996310159361226\n",
      "F1-score macro : 0.9996856543629943\n",
      "F1-score micro : 0.9996858696176085\n",
      "F1-score weighted : 0.9996858678492753\n",
      "Precision macro : 0.9994711913808424\n",
      "Precision micro : 0.9994715635594027\n",
      "Precision weighted : 0.9994715672966115\n"
     ]
    }
   ],
   "source": [
    "from sklearn.svm import LinearSVC\n",
    "classifier_tfidf = OneVsRestClassifier(LinearSVC(C = 100)).fit(X_train, y_train) # C값 변화시켜본다.\n",
    "\n",
    "y_test_predicted_labels = classifier_tfidf.predict(X_test)\n",
    "y_test_predicted_scores = classifier_tfidf.decision_function(X_test)\n",
    "y_test_pred_inversed = lb.inverse_transform(y_test_predicted_labels)\n",
    "y_test_inversed = lb.inverse_transform(y_test)\n",
    "    \n",
    "print_evaluation_scores(y_test, y_test_predicted_labels)"
   ]
  },
  {
   "cell_type": "markdown",
   "metadata": {},
   "source": [
    "### 4. 직접 만든 질문 테스트"
   ]
  },
  {
   "cell_type": "markdown",
   "metadata": {},
   "source": [
    "4-1) 질문, 답 데이터 만들기"
   ]
  },
  {
   "cell_type": "code",
   "execution_count": 36,
   "metadata": {},
   "outputs": [],
   "source": [
    "X_chatbot = [\n",
    "    '맛있는 파스타집 추천해주세요'\n",
    "    , '종로에 분위기 좋은 순대국밥집 있나요?'\n",
    "    , '서울에 데이트하기 좋은 파스타집 추천해주세요.'\n",
    "    , '그 순대국밥 집 주소가 어떻게 되나요?'\n",
    "    , '그 파스타집 위치 좀 알려주세요.'\n",
    "    , '그 순대국밥 집 어때요?'\n",
    "    , '원할머니보쌈 사람들 후기가 어떤가요'\n",
    "]\n",
    "y_chatbot = [\n",
    "    'recommendation','recommendation','recommendation'\n",
    "    ,'questionLOC','questionLOC','questionREV', 'questionREV'\n",
    "]"
   ]
  },
  {
   "cell_type": "markdown",
   "metadata": {},
   "source": [
    "4-2) 필요 함수 정의"
   ]
  },
  {
   "cell_type": "code",
   "execution_count": 31,
   "metadata": {},
   "outputs": [],
   "source": [
    "QUESTION_RE = re.compile('[^ ㄱ-ㅣ가-힣a-zA-Z]+')\n",
    "\n",
    "STOPWORDS = set(['은','는','이','가','하','아','것','들','의','그','수','한','나','같','그렇'\n",
    "                ,'문제','그리고','크','중','나오','지금','생각하','집','어떤','명','생각','이런'\n",
    "                ,'인','지','을','를','에','스러운','스러워','주','할','만','게','도','져','된','로','고','던','로운','면서'\n",
    "                ,'사실','이렇','점','싶','말','좀','식당','가게','집','음식점'\n",
    "                ,'는지','나요','해요','해','는가요','삼','게요','예','는가','습니까','죠','려고요','는지요','서요','였어요','겠'\n",
    "                ,'인가요','요' '라는','데','해서','세요','어요','을까요','건가요','겠죠','실래요','네요','으세요','지요','인데요'\n",
    "                ,'드려요','려구요','합니다'])\n",
    "\n",
    "def text_prepare(text):\n",
    "    \n",
    "    # 한글과 스페이스바를 제외한 다른 문자들은 모두 지운다.\n",
    "    text = QUESTION_RE.sub('', text) \n",
    "    \n",
    "    # Mecab 토크나이저\n",
    "    mecab = Mecab()\n",
    "    \n",
    "    # mecab으로 text를 형태소 단위로 나누어 morphs_tokens 리스트에 저장한다.\n",
    "    # 불용어를 지운다.\n",
    "    text = ' '.join(token for token in mecab.morphs(text) if token not in STOPWORDS)\n",
    "\n",
    "    return text"
   ]
  },
  {
   "cell_type": "code",
   "execution_count": 41,
   "metadata": {},
   "outputs": [],
   "source": [
    "# SENTENCE 데이터 전처리\n",
    "X_chatbot = [text_prepare(x) for x in X_chatbot]\n",
    "\n",
    "# tf-idf 벡터화\n",
    "X_chatbot_tfidf = tfidf_vectorizer.transform(X_chatbot)\n",
    "\n",
    "# tag 데이터 전처리\n",
    "y_chatbot = lb.transform(y_chatbot)\n",
    "\n",
    "# tag 예측\n",
    "y_chatbot_predicted_labels_tfidf = classifier_tfidf.predict(X_chatbot_tfidf)\n",
    "y_chatbot_predicted_scores_tfidf = classifier_tfidf.decision_function(X_chatbot_tfidf)\n",
    "\n",
    "# 예측된 tag를 텍스트로 변환\n",
    "y_chatbot_pred_inversed = lb.inverse_transform(y_chatbot_predicted_labels_tfidf)\n",
    "y_chatbot_inversed = lb.inverse_transform(y_chatbot)"
   ]
  },
  {
   "cell_type": "code",
   "execution_count": 40,
   "metadata": {},
   "outputs": [
    {
     "name": "stdout",
     "output_type": "stream",
     "text": [
      "SENTENCE:\t맛있 파스타 추천\n",
      "정답:\trecommendation\n",
      "예측:\trecommendation\n",
      "\n",
      "\n",
      "SENTENCE:\t종로 분위기 좋 순대 국밥 있\n",
      "정답:\trecommendation\n",
      "예측:\trecommendation\n",
      "\n",
      "\n",
      "SENTENCE:\t서울 트 기 좋 파스타 추천\n",
      "정답:\trecommendation\n",
      "예측:\trecommendation\n",
      "\n",
      "\n",
      "SENTENCE:\t순대 국밥 주소 어떻게 되\n",
      "정답:\tquestionLOC\n",
      "예측:\tquestionLOC\n",
      "\n",
      "\n",
      "SENTENCE:\t파스타 위치 알려\n",
      "정답:\tquestionLOC\n",
      "예측:\tquestionLOC\n",
      "\n",
      "\n",
      "SENTENCE:\t순대 국밥 어때요\n",
      "정답:\tquestionREV\n",
      "예측:\tquestionREV\n",
      "\n",
      "\n",
      "SENTENCE:\t원 할머니 보쌈 사람 후기 가요\n",
      "정답:\tquestionREV\n",
      "예측:\tquestionREV\n",
      "\n",
      "\n"
     ]
    }
   ],
   "source": [
    "for i in range(0,len(y_chatbot)):\n",
    "    print('SENTENCE:\\t{}\\n정답:\\t{}\\n예측:\\t{}\\n\\n'.format(\n",
    "        X_chatbot[i],\n",
    "        y_chatbot_inversed[i],\n",
    "        y_chatbot_pred_inversed[i]\n",
    "    ))"
   ]
  },
  {
   "cell_type": "markdown",
   "metadata": {},
   "source": [
    "좋은 성능이다!"
   ]
  },
  {
   "cell_type": "markdown",
   "metadata": {},
   "source": [
    "**pickle 저장**"
   ]
  },
  {
   "cell_type": "code",
   "execution_count": 11,
   "metadata": {},
   "outputs": [],
   "source": [
    "import pickle\n",
    "\n",
    "with open('./questions_model/models/classifier_1.pickle', \"wb\") as f:\n",
    "    pickle.dump(classifier_tfidf, f, pickle.HIGHEST_PROTOCOL)\n",
    "with open('./questions_model/models/lb_1.pickle', \"wb\") as f:\n",
    "    pickle.dump(lb, f, pickle.HIGHEST_PROTOCOL)\n",
    "with open('./questions_model/models/tfidf_vectorizer_1.pickle', \"wb\") as f:\n",
    "    pickle.dump(tfidf_vectorizer, f, pickle.HIGHEST_PROTOCOL)"
   ]
  },
  {
   "cell_type": "code",
   "execution_count": null,
   "metadata": {},
   "outputs": [],
   "source": []
  }
 ],
 "metadata": {
  "colab": {
   "name": "Copy of week1-MultilabelClassification.ipynb",
   "provenance": [
    {
     "file_id": "https://github.com/meunKoh/natural-language-processing/blob/master/week1/week1-MultilabelClassification.ipynb",
     "timestamp": 1574663563100
    }
   ],
   "toc_visible": true
  },
  "kernelspec": {
   "display_name": "text_anal",
   "language": "python",
   "name": "text_anal"
  },
  "language_info": {
   "codemirror_mode": {
    "name": "ipython",
    "version": 3
   },
   "file_extension": ".py",
   "mimetype": "text/x-python",
   "name": "python",
   "nbconvert_exporter": "python",
   "pygments_lexer": "ipython3",
   "version": "3.6.9"
  }
 },
 "nbformat": 4,
 "nbformat_minor": 1
}
