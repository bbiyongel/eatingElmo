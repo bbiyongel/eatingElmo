{
 "cells": [
  {
   "cell_type": "markdown",
   "metadata": {
    "colab_type": "text",
    "id": "kw2Ic3VUQAtv"
   },
   "source": [
    "# 질문 의도 파악 - 선형 모델"
   ]
  },
  {
   "cell_type": "code",
   "execution_count": 1,
   "metadata": {},
   "outputs": [],
   "source": [
    "import numpy as np\n",
    "import pandas as pd\n",
    "import pickle\n",
    "import re\n",
    "import time\n",
    "from konlpy.tag import Mecab"
   ]
  },
  {
   "cell_type": "markdown",
   "metadata": {
    "colab_type": "text",
    "id": "aK6NVDxkQAty"
   },
   "source": [
    "### 1. 데이터 탐색"
   ]
  },
  {
   "cell_type": "code",
   "execution_count": 2,
   "metadata": {},
   "outputs": [],
   "source": [
    "with open(\"./questions/questions_pickle/X2_cate_train_tfidf.pickle\", \"rb\") as f:\n",
    "    X_train = pickle.load(f)\n",
    "with open(\"./questions/questions_pickle/X2_cate_test_tfidf.pickle\", \"rb\") as f:\n",
    "    X_test = pickle.load(f)\n",
    "with open(\"./questions/questions_pickle/tfidf_vocab_2_cate.pickle\", \"rb\") as f:\n",
    "    tfidf_vocab = pickle.load(f)\n",
    "with open(\"./questions/questions_pickle/tfidf_reversed_vocab_2_cate.pickle\", \"rb\") as f:\n",
    "    tfidf_reversed_vocab = pickle.load(f)\n",
    "with open(\"./questions/questions_pickle/y2_cate_train.pickle\", \"rb\") as f:\n",
    "    y_train = pickle.load(f)\n",
    "with open(\"./questions/questions_pickle/y2_cate_test.pickle\", \"rb\") as f:\n",
    "    y_test = pickle.load(f)\n",
    "with open(\"./questions/questions_pickle/lb_2_cate.pickle\", \"rb\") as f:\n",
    "    lb = pickle.load(f)\n",
    "with open(\"./questions/questions_pickle/tfidf_vectorizer_2_cate.pickle\", \"rb\") as f:\n",
    "    tfidf_vectorizer = pickle.load(f)"
   ]
  },
  {
   "cell_type": "code",
   "execution_count": 3,
   "metadata": {},
   "outputs": [
    {
     "data": {
      "text/plain": [
       "((818496, 30941), (90944, 30941))"
      ]
     },
     "execution_count": 3,
     "metadata": {},
     "output_type": "execute_result"
    }
   ],
   "source": [
    "X_train.shape, X_test.shape"
   ]
  },
  {
   "cell_type": "code",
   "execution_count": 4,
   "metadata": {},
   "outputs": [
    {
     "data": {
      "text/plain": [
       "((818496, 7), (90944, 7))"
      ]
     },
     "execution_count": 4,
     "metadata": {},
     "output_type": "execute_result"
    }
   ],
   "source": [
    "y_train.shape, y_test.shape"
   ]
  },
  {
   "cell_type": "code",
   "execution_count": 5,
   "metadata": {},
   "outputs": [
    {
     "data": {
      "text/plain": [
       "array(['asian', 'chicken', 'chinese', 'etc', 'japanese', 'korean',\n",
       "       'western'], dtype='<U8')"
      ]
     },
     "execution_count": 5,
     "metadata": {},
     "output_type": "execute_result"
    }
   ],
   "source": [
    "lb.classes_"
   ]
  },
  {
   "cell_type": "code",
   "execution_count": 6,
   "metadata": {},
   "outputs": [
    {
     "data": {
      "text/plain": [
       "TfidfVectorizer(analyzer='word', binary=False, decode_error='strict',\n",
       "                dtype=<class 'numpy.float64'>, encoding='utf-8',\n",
       "                input='content', lowercase=True, max_df=0.9, max_features=None,\n",
       "                min_df=5, ngram_range=(1, 2), norm='l2', preprocessor=None,\n",
       "                smooth_idf=True, stop_words=None, strip_accents=None,\n",
       "                sublinear_tf=False, token_pattern='(\\\\S+)', tokenizer=None,\n",
       "                use_idf=True, vocabulary=None)"
      ]
     },
     "execution_count": 6,
     "metadata": {},
     "output_type": "execute_result"
    }
   ],
   "source": [
    "tfidf_vectorizer"
   ]
  },
  {
   "cell_type": "markdown",
   "metadata": {
    "colab_type": "text",
    "id": "28AlQCHGQAu2"
   },
   "source": [
    "### 2. MultiLabel classifier"
   ]
  },
  {
   "cell_type": "markdown",
   "metadata": {
    "colab_type": "text",
    "id": "I8kor0Z4QAu6"
   },
   "source": [
    "Classifier를 훈련시키는 함수 *train_classifier* 를 정의한다. 여기서는 *sklearn*의 One-vs-Rest approach 기법을 사용한다.<br>\n",
    "[OneVsRestClassifier](http://scikit-learn.org/stable/modules/generated/sklearn.multiclass.OneVsRestClassifier.html) \n",
    "\n",
    "이 방법으로 *k* (= number of tags) 개의 tag 중 하나로 분류해주는 classifier를 훈련시킬 수 있다. \n",
    "\n",
    "기본적인 분류 방법으로는 [LogisticRegression](http://scikit-learn.org/stable/modules/generated/sklearn.linear_model.LogisticRegression.html) 을 사용한다. \n",
    "\n",
    "가장 간단한 방법이지만, 텍스트 분류 작업에서 좋은 성능을 낸다. 분류할 tag가 많을 수록 시간이 많이 걸린다."
   ]
  },
  {
   "cell_type": "code",
   "execution_count": 7,
   "metadata": {
    "colab": {},
    "colab_type": "code",
    "id": "2vEV_ZoIQAu6"
   },
   "outputs": [],
   "source": [
    "from sklearn.multiclass import OneVsRestClassifier \n",
    "from sklearn.linear_model import LogisticRegression, RidgeClassifier"
   ]
  },
  {
   "cell_type": "code",
   "execution_count": 8,
   "metadata": {
    "colab": {},
    "colab_type": "code",
    "id": "ElwoJ0qJQAu7"
   },
   "outputs": [],
   "source": [
    "def train_classifier(X_train, y_train):\n",
    "    \"\"\"\n",
    "      X_train, y_train — train 데이터\n",
    "      return: 훈련된 classifier\n",
    "    \"\"\"\n",
    "\n",
    "    return OneVsRestClassifier(LogisticRegression(penalty= 'l2' #L2 규제 사용\n",
    "                                                , C = 10\n",
    "                                                , max_iter = 1000)).fit(X_train, y_train)"
   ]
  },
  {
   "cell_type": "code",
   "execution_count": 9,
   "metadata": {
    "colab": {
     "base_uri": "https://localhost:8080/",
     "height": 105
    },
    "colab_type": "code",
    "executionInfo": {
     "elapsed": 204967,
     "status": "ok",
     "timestamp": 1574659193675,
     "user": {
      "displayName": "",
      "photoUrl": "",
      "userId": ""
     },
     "user_tz": -540
    },
    "id": "9F3zHG16QAu-",
    "outputId": "95b65264-3df4-4626-adda-c65e45774e03"
   },
   "outputs": [
    {
     "name": "stderr",
     "output_type": "stream",
     "text": [
      "/anaconda3/envs/text_anal/lib/python3.6/site-packages/sklearn/linear_model/logistic.py:432: FutureWarning: Default solver will be changed to 'lbfgs' in 0.22. Specify a solver to silence this warning.\n",
      "  FutureWarning)\n"
     ]
    },
    {
     "name": "stdout",
     "output_type": "stream",
     "text": [
      "CPU times: user 1min 54s, sys: 2.93 s, total: 1min 57s\n",
      "Wall time: 30.8 s\n"
     ]
    }
   ],
   "source": [
    "%%time\n",
    "classifier_tfidf = train_classifier(X_train, y_train)"
   ]
  },
  {
   "cell_type": "code",
   "execution_count": 10,
   "metadata": {
    "colab": {
     "base_uri": "https://localhost:8080/",
     "height": 187
    },
    "colab_type": "code",
    "executionInfo": {
     "elapsed": 188410,
     "status": "ok",
     "timestamp": 1574659193676,
     "user": {
      "displayName": "",
      "photoUrl": "",
      "userId": ""
     },
     "user_tz": -540
    },
    "id": "ZV35-xnRWhHU",
    "outputId": "4ca3de3a-5e9f-4a6d-89b3-769f0adf8270"
   },
   "outputs": [
    {
     "data": {
      "text/plain": [
       "OneVsRestClassifier(estimator=LogisticRegression(C=10, class_weight=None,\n",
       "                                                 dual=False, fit_intercept=True,\n",
       "                                                 intercept_scaling=1,\n",
       "                                                 l1_ratio=None, max_iter=1000,\n",
       "                                                 multi_class='warn',\n",
       "                                                 n_jobs=None, penalty='l2',\n",
       "                                                 random_state=None,\n",
       "                                                 solver='warn', tol=0.0001,\n",
       "                                                 verbose=0, warm_start=False),\n",
       "                    n_jobs=None)"
      ]
     },
     "execution_count": 10,
     "metadata": {},
     "output_type": "execute_result"
    }
   ],
   "source": [
    "classifier_tfidf"
   ]
  },
  {
   "cell_type": "markdown",
   "metadata": {
    "colab_type": "text",
    "id": "5rkU64vxQAvC"
   },
   "source": [
    "이제 test 데이터의 태그를 예측할 수 있다: labels, scores"
   ]
  },
  {
   "cell_type": "code",
   "execution_count": 11,
   "metadata": {
    "colab": {},
    "colab_type": "code",
    "id": "HveyLeREQAvD"
   },
   "outputs": [],
   "source": [
    "y_test_predicted_labels = classifier_tfidf.predict(X_test)\n",
    "y_test_predicted_scores = classifier_tfidf.decision_function(X_test)"
   ]
  },
  {
   "cell_type": "code",
   "execution_count": 12,
   "metadata": {},
   "outputs": [
    {
     "data": {
      "text/plain": [
       "array([[ -7.74311698,   4.37514697,  -8.31386427,  -8.49680788,\n",
       "         -8.29589319,  -5.32758244,  -7.85518873],\n",
       "       [-10.48062112, -10.94394173, -10.50351368, -10.54001805,\n",
       "        -10.43394091,   9.81329751, -10.08922556],\n",
       "       [ -8.00614206,  -9.77548383,  -8.94172441,  -8.79230965,\n",
       "         -8.67783023,   7.25569696,  -8.27121428],\n",
       "       [ -7.78141896, -10.07305292,  -9.53992256,  -9.41115876,\n",
       "         -9.32496851,   7.26932614,  -8.94065276],\n",
       "       [ -7.07798798,  -9.82664152,  -8.27874702,  -8.93233926,\n",
       "         -8.91145552,   6.41676474,  -8.378813  ]])"
      ]
     },
     "execution_count": 12,
     "metadata": {},
     "output_type": "execute_result"
    }
   ],
   "source": [
    "# decision function(X_test)를 실행하면 X_test와 y_test 각 태그의 거리값을 나타낸다.\n",
    "y_test_predicted_scores[:5]"
   ]
  },
  {
   "cell_type": "code",
   "execution_count": 13,
   "metadata": {},
   "outputs": [
    {
     "data": {
      "text/plain": [
       "array([[0, 1, 0, 0, 0, 0, 0],\n",
       "       [0, 0, 0, 0, 0, 1, 0],\n",
       "       [0, 0, 0, 0, 0, 1, 0],\n",
       "       [0, 0, 0, 0, 0, 1, 0],\n",
       "       [0, 0, 0, 0, 0, 1, 0]])"
      ]
     },
     "execution_count": 13,
     "metadata": {},
     "output_type": "execute_result"
    }
   ],
   "source": [
    "# tf-idf로 예측한 tag의 벡터화표현 \n",
    "y_test_predicted_labels[:5]"
   ]
  },
  {
   "cell_type": "code",
   "execution_count": 14,
   "metadata": {},
   "outputs": [
    {
     "data": {
      "text/plain": [
       "(array(['chicken', 'korean', 'korean', ..., 'chinese', 'korean', 'western'],\n",
       "       dtype='<U8'),\n",
       " array(['chicken', 'korean', 'korean', ..., 'chinese', 'korean', 'western'],\n",
       "       dtype='<U8'))"
      ]
     },
     "execution_count": 14,
     "metadata": {},
     "output_type": "execute_result"
    }
   ],
   "source": [
    "# 벡터화된 태그를 다시 텍스트 데이터로 변환시킨다.\n",
    "y_test_pred_inversed = lb.inverse_transform(y_test_predicted_labels)  # 예측 태그\n",
    "y_test_inversed = lb.inverse_transform(y_test) # 실제 태그\n",
    "y_test_pred_inversed, y_test_inversed"
   ]
  },
  {
   "cell_type": "markdown",
   "metadata": {
    "colab_type": "text",
    "id": "aKNc6gX7QAvG"
   },
   "source": [
    "### 3. Evaluation\n",
    "\n",
    "모델 평가를 위해 사용할 classification metrics:\n",
    " - [Accuracy](http://scikit-learn.org/stable/modules/generated/sklearn.metrics.accuracy_score.html)\n",
    " - [F1-score](http://scikit-learn.org/stable/modules/generated/sklearn.metrics.f1_score.html)\n",
    " - [Area under ROC-curve](http://scikit-learn.org/stable/modules/generated/sklearn.metrics.roc_auc_score.html)\n",
    " - [Area under precision-recall curve](http://scikit-learn.org/stable/modules/generated/sklearn.metrics.average_precision_score.html#sklearn.metrics.average_precision_score) \n",
    " \n",
    "위 문서에서 micro/macro/weighted averaging 이 무엇인지 잘 살펴보자."
   ]
  },
  {
   "cell_type": "code",
   "execution_count": 15,
   "metadata": {
    "colab": {},
    "colab_type": "code",
    "id": "3IxmcMyNQAvH"
   },
   "outputs": [],
   "source": [
    "from sklearn.metrics import accuracy_score\n",
    "from sklearn.metrics import f1_score\n",
    "from sklearn.metrics import roc_auc_score \n",
    "from sklearn.metrics import average_precision_score\n",
    "from sklearn.metrics import recall_score"
   ]
  },
  {
   "cell_type": "markdown",
   "metadata": {
    "colab_type": "text",
    "id": "j8MH8AFIQAvI"
   },
   "source": [
    "*print_evaluation_scores* 를 정의하여 정확도를 평가해본다.\n",
    " - *accuracy*\n",
    " - *F1-score macro/micro/weighted*\n",
    " - *Precision macro/micro/weighted*"
   ]
  },
  {
   "cell_type": "code",
   "execution_count": 16,
   "metadata": {
    "colab": {},
    "colab_type": "code",
    "id": "wCkmPhw0QAvJ"
   },
   "outputs": [],
   "source": [
    "def print_evaluation_scores(y_test, predicted):\n",
    "    print('accuracy_score :', accuracy_score(y_test, predicted))\n",
    "\n",
    "    f1_macro = f1_score(y_test, predicted, average='macro')\n",
    "    f1_micro = f1_score(y_test, predicted, average='micro')\n",
    "    f1_weighted = f1_score(y_test, predicted, average='weighted')\n",
    "\n",
    "    print('F1-score macro :', f1_macro)\n",
    "    print('F1-score micro :', f1_micro)\n",
    "    print('F1-score weighted :', f1_weighted)\n",
    "\n",
    "    print('Precision macro :', average_precision_score(y_test, predicted, average='macro'))\n",
    "    print('Precision micro :', average_precision_score(y_test, predicted, average='micro'))\n",
    "    print('Precision weighted :', average_precision_score(y_test, predicted, average='weighted'))"
   ]
  },
  {
   "cell_type": "code",
   "execution_count": 17,
   "metadata": {
    "colab": {
     "base_uri": "https://localhost:8080/",
     "height": 289
    },
    "colab_type": "code",
    "executionInfo": {
     "elapsed": 10015,
     "status": "ok",
     "timestamp": 1574659711647,
     "user": {
      "displayName": "",
      "photoUrl": "",
      "userId": ""
     },
     "user_tz": -540
    },
    "id": "z7Z3G71iQAvL",
    "outputId": "398c788f-68e5-42cc-8651-5c16cddebee2"
   },
   "outputs": [
    {
     "name": "stdout",
     "output_type": "stream",
     "text": [
      "Tfidf\n",
      "accuracy_score : 0.9979217980295566\n",
      "F1-score macro : 0.9944122749664175\n",
      "F1-score micro : 0.9980152512274105\n",
      "F1-score weighted : 0.9979984928176973\n",
      "Precision macro : 0.9893532680683448\n",
      "Precision micro : 0.9963187611054002\n",
      "Precision weighted : 0.9964631301702154\n"
     ]
    }
   ],
   "source": [
    "print('Tfidf')\n",
    "print_evaluation_scores(y_test, y_test_predicted_labels)"
   ]
  },
  {
   "cell_type": "markdown",
   "metadata": {},
   "source": [
    "정확도가 99%이다."
   ]
  },
  {
   "cell_type": "markdown",
   "metadata": {},
   "source": [
    "##### LinearSVC 모델\n",
    "- C값 변화 : 0.1 / 1 / 10 / 100 "
   ]
  },
  {
   "cell_type": "code",
   "execution_count": 18,
   "metadata": {},
   "outputs": [
    {
     "name": "stdout",
     "output_type": "stream",
     "text": [
      "accuracy_score : 0.998042751583392\n",
      "F1-score macro : 0.9945188497527134\n",
      "F1-score micro : 0.9980922011160898\n",
      "F1-score weighted : 0.998061221127528\n",
      "Precision macro : 0.9896587373299272\n",
      "Precision micro : 0.9964629366403088\n",
      "Precision weighted : 0.9963079312747474\n"
     ]
    }
   ],
   "source": [
    "from sklearn.svm import LinearSVC\n",
    "classifier_tfidf = OneVsRestClassifier(LinearSVC(C = 0.1)).fit(X_train, y_train) # C값 변화시켜본다.\n",
    "\n",
    "y_test_predicted_labels = classifier_tfidf.predict(X_test)\n",
    "y_test_predicted_scores = classifier_tfidf.decision_function(X_test)\n",
    "y_test_pred_inversed = lb.inverse_transform(y_test_predicted_labels)\n",
    "y_test_inversed = lb.inverse_transform(y_test)\n",
    "\n",
    "print_evaluation_scores(y_test, y_test_predicted_labels)"
   ]
  },
  {
   "cell_type": "code",
   "execution_count": 19,
   "metadata": {
    "colab": {
     "base_uri": "https://localhost:8080/",
     "height": 323
    },
    "colab_type": "code",
    "executionInfo": {
     "elapsed": 83381,
     "status": "ok",
     "timestamp": 1574662969023,
     "user": {
      "displayName": "",
      "photoUrl": "",
      "userId": ""
     },
     "user_tz": -540
    },
    "id": "KlW_tF40QAvS",
    "outputId": "8b4e404f-f697-4293-e279-14f0a2037dbd"
   },
   "outputs": [
    {
     "name": "stdout",
     "output_type": "stream",
     "text": [
      "accuracy_score : 0.9978668191414497\n",
      "F1-score macro : 0.9943423075389798\n",
      "F1-score micro : 0.9979767991643301\n",
      "F1-score weighted : 0.9979590337570081\n",
      "Precision macro : 0.9892254169348298\n",
      "Precision micro : 0.9962451528342281\n",
      "Precision weighted : 0.9963791337913465\n"
     ]
    }
   ],
   "source": [
    "from sklearn.svm import LinearSVC\n",
    "classifier_tfidf = OneVsRestClassifier(LinearSVC(C = 1)).fit(X_train, y_train) # C값 변화시켜본다.\n",
    "\n",
    "y_test_predicted_labels = classifier_tfidf.predict(X_test)\n",
    "y_test_predicted_scores = classifier_tfidf.decision_function(X_test)\n",
    "y_test_pred_inversed = lb.inverse_transform(y_test_predicted_labels)\n",
    "y_test_inversed = lb.inverse_transform(y_test)\n",
    "    \n",
    "print_evaluation_scores(y_test, y_test_predicted_labels)"
   ]
  },
  {
   "cell_type": "code",
   "execution_count": 20,
   "metadata": {},
   "outputs": [
    {
     "name": "stdout",
     "output_type": "stream",
     "text": [
      "accuracy_score : 0.9979217980295566\n",
      "F1-score macro : 0.9943898180236239\n",
      "F1-score micro : 0.9979768214105073\n",
      "F1-score weighted : 0.9979676099632657\n",
      "Precision macro : 0.9892822937178768\n",
      "Precision micro : 0.9962436267724283\n",
      "Precision weighted : 0.9965381759535495\n"
     ]
    }
   ],
   "source": [
    "from sklearn.svm import LinearSVC\n",
    "classifier_tfidf = OneVsRestClassifier(LinearSVC(C = 10)).fit(X_train, y_train) # C값 변화시켜본다.\n",
    "\n",
    "y_test_predicted_labels = classifier_tfidf.predict(X_test)\n",
    "y_test_predicted_scores = classifier_tfidf.decision_function(X_test)\n",
    "y_test_pred_inversed = lb.inverse_transform(y_test_predicted_labels)\n",
    "y_test_inversed = lb.inverse_transform(y_test)\n",
    "    \n",
    "print_evaluation_scores(y_test, y_test_predicted_labels)"
   ]
  },
  {
   "cell_type": "code",
   "execution_count": 21,
   "metadata": {},
   "outputs": [
    {
     "name": "stderr",
     "output_type": "stream",
     "text": [
      "/anaconda3/envs/text_anal/lib/python3.6/site-packages/sklearn/svm/base.py:929: ConvergenceWarning: Liblinear failed to converge, increase the number of iterations.\n",
      "  \"the number of iterations.\", ConvergenceWarning)\n"
     ]
    },
    {
     "name": "stdout",
     "output_type": "stream",
     "text": [
      "accuracy_score : 0.997932793807178\n",
      "F1-score macro : 0.9944768564365951\n",
      "F1-score micro : 0.9980153821626288\n",
      "F1-score weighted : 0.9980102240932788\n",
      "Precision macro : 0.9894309779754914\n",
      "Precision micro : 0.9963096011162498\n",
      "Precision weighted : 0.99664838505653\n"
     ]
    }
   ],
   "source": [
    "from sklearn.svm import LinearSVC\n",
    "classifier_tfidf = OneVsRestClassifier(LinearSVC(C = 100)).fit(X_train, y_train) # C값 변화시켜본다.\n",
    "\n",
    "y_test_predicted_labels = classifier_tfidf.predict(X_test)\n",
    "y_test_predicted_scores = classifier_tfidf.decision_function(X_test)\n",
    "y_test_pred_inversed = lb.inverse_transform(y_test_predicted_labels)\n",
    "y_test_inversed = lb.inverse_transform(y_test)\n",
    "    \n",
    "print_evaluation_scores(y_test, y_test_predicted_labels)"
   ]
  },
  {
   "cell_type": "markdown",
   "metadata": {},
   "source": [
    "### 4. 직접 만든 질문 테스트"
   ]
  },
  {
   "cell_type": "markdown",
   "metadata": {},
   "source": [
    "4-1) 질문, 답 데이터 만들기"
   ]
  },
  {
   "cell_type": "code",
   "execution_count": 29,
   "metadata": {},
   "outputs": [],
   "source": [
    "X_chatbot = [\n",
    "    '맛있는 파스타집 추천해주세요'\n",
    "    , '종로에 분위기 좋은 순대국밥집 있나요?'\n",
    "    , '서울에 데이트하기 좋은 피자집 추천해주세요.'\n",
    "    , '청결한 한식집 있어요?'\n",
    "    , '가성비 좋은 짬뽕 집 알려주세요'\n",
    "    , '줄 서서 기다리는 마라탕 집 있을까요'\n",
    "    , '인기 많은 내장탕 집 알려주십시오'\n",
    "    , '많은 사람들이 좋아하는 일식 횟집 알려주십시오'\n",
    "    , '많은 사람들이 좋아하는 횟집 알려주십시오'\n",
    "]\n",
    "y_chatbot = [\n",
    "    'western','korean','western'\n",
    "    ,'korean','chinese','chinese'\n",
    "    ,'korean','japanese','korean'\n",
    "]"
   ]
  },
  {
   "cell_type": "markdown",
   "metadata": {},
   "source": [
    "4-2) 필요 함수 정의"
   ]
  },
  {
   "cell_type": "code",
   "execution_count": 23,
   "metadata": {},
   "outputs": [],
   "source": [
    "QUESTION_RE = re.compile('[^ ㄱ-ㅣ가-힣a-zA-Z]+')\n",
    "\n",
    "STOPWORDS = set(['은','는','이','가','하','아','것','들','의','그','수','한','나','같','그렇'\n",
    "                ,'문제','그리고','크','중','나오','지금','생각하','집','어떤','명','생각','이런'\n",
    "                ,'인','지','을','를','에','스러운','스러워','주','할','만','게','도','져','된','로','고','던','로운','면서'\n",
    "                ,'사실','이렇','점','싶','말','좀','식당','가게','집','음식점'\n",
    "                ,'는지','나요','해요','해','는가요','삼','게요','예','는가','습니까','죠','려고요','는지요','서요','였어요','겠'\n",
    "                ,'인가요','요' '라는','데','해서','세요','어요','을까요','건가요','겠죠','실래요','네요','으세요','지요','인데요'\n",
    "                ,'드려요','려구요','합니다'])\n",
    "\n",
    "def text_prepare(text):\n",
    "    \n",
    "    # 한글과 스페이스바를 제외한 다른 문자들은 모두 지운다.\n",
    "    text = QUESTION_RE.sub('', text) \n",
    "    \n",
    "    # Mecab 토크나이저\n",
    "    mecab = Mecab()\n",
    "    \n",
    "    # mecab으로 text를 형태소 단위로 나누어 morphs_tokens 리스트에 저장한다.\n",
    "    # 불용어를 지운다.\n",
    "    text = ' '.join(token for token in mecab.morphs(text) if token not in STOPWORDS)\n",
    "\n",
    "    return text"
   ]
  },
  {
   "cell_type": "code",
   "execution_count": 30,
   "metadata": {},
   "outputs": [],
   "source": [
    "# SENTENCE 데이터 전처리\n",
    "X_chatbot = [text_prepare(x) for x in X_chatbot]\n",
    "\n",
    "# tf-idf 벡터화\n",
    "X_chatbot_tfidf = tfidf_vectorizer.transform(X_chatbot)\n",
    "\n",
    "# tag 데이터 전처리\n",
    "y_chatbot = lb.transform(y_chatbot)\n",
    "\n",
    "# tag 예측\n",
    "y_chatbot_predicted_labels_tfidf = classifier_tfidf.predict(X_chatbot_tfidf)\n",
    "y_chatbot_predicted_scores_tfidf = classifier_tfidf.decision_function(X_chatbot_tfidf)\n",
    "\n",
    "# 예측된 tag를 텍스트로 변환\n",
    "y_chatbot_pred_inversed = lb.inverse_transform(y_chatbot_predicted_labels_tfidf)\n",
    "y_chatbot_inversed = lb.inverse_transform(y_chatbot)"
   ]
  },
  {
   "cell_type": "code",
   "execution_count": 31,
   "metadata": {},
   "outputs": [
    {
     "name": "stdout",
     "output_type": "stream",
     "text": [
      "SENTENCE:\t맛있 파스타 추천\n",
      "정답:\twestern\n",
      "예측:\twestern\n",
      "\n",
      "\n",
      "SENTENCE:\t종로 분위기 좋 순대 국밥 있\n",
      "정답:\tkorean\n",
      "예측:\tkorean\n",
      "\n",
      "\n",
      "SENTENCE:\t서울 데이트 기 좋 피자 추천\n",
      "정답:\twestern\n",
      "예측:\twestern\n",
      "\n",
      "\n",
      "SENTENCE:\t청결 한식집 있\n",
      "정답:\tkorean\n",
      "예측:\tkorean\n",
      "\n",
      "\n",
      "SENTENCE:\t가성 비 좋 짬뽕 알려\n",
      "정답:\tchinese\n",
      "예측:\tchinese\n",
      "\n",
      "\n",
      "SENTENCE:\t줄 서 서 기다리 마라 탕 있\n",
      "정답:\tchinese\n",
      "예측:\tchinese\n",
      "\n",
      "\n",
      "SENTENCE:\t인기 많 내 장탕 알려 십시오\n",
      "정답:\tkorean\n",
      "예측:\tkorean\n",
      "\n",
      "\n",
      "SENTENCE:\t많 사람 좋 일식 횟집 알려 십시오\n",
      "정답:\tjapanese\n",
      "예측:\tjapanese\n",
      "\n",
      "\n",
      "SENTENCE:\t많 사람 좋 횟집 알려 십시오\n",
      "정답:\tkorean\n",
      "예측:\tkorean\n",
      "\n",
      "\n"
     ]
    }
   ],
   "source": [
    "for i in range(0,len(y_chatbot)):\n",
    "    print('SENTENCE:\\t{}\\n정답:\\t{}\\n예측:\\t{}\\n\\n'.format(\n",
    "        X_chatbot[i],\n",
    "        y_chatbot_inversed[i],\n",
    "        y_chatbot_pred_inversed[i]\n",
    "    ))"
   ]
  },
  {
   "cell_type": "markdown",
   "metadata": {},
   "source": [
    "좋은 성능이다. 이번에는 훈련 데이터에 없던 메뉴를 질문 문장에 넣어서 예측도를 조사해본다."
   ]
  },
  {
   "cell_type": "code",
   "execution_count": 32,
   "metadata": {},
   "outputs": [],
   "source": [
    "X_chatbot = [\n",
    "      '맛있는 훠궈 추천해주세요'\n",
    "    , '종로에 분위기 좋은 갈비찜 가게 있나요?'\n",
    "    , '서울에 데이트하기 좋은 타코집 추천해주세요.'\n",
    "    , '청결한 낙곱새 식당 있어요?'\n",
    "    , '가성비 좋은 도가니탕이 먹고 싶어요'\n",
    "    , '줄 서서 기다리는 비빔국수 가게 있을까요'\n",
    "]\n",
    "y_chatbot = [\n",
    "    'chinese','korean','western'\n",
    "    ,'korean','korean','korean'\n",
    "]"
   ]
  },
  {
   "cell_type": "code",
   "execution_count": 33,
   "metadata": {},
   "outputs": [
    {
     "name": "stdout",
     "output_type": "stream",
     "text": [
      "SENTENCE:\t맛있 훠궈 추천\n",
      "정답:\tchinese\n",
      "예측:\tkorean\n",
      "\n",
      "\n",
      "SENTENCE:\t종로 분위기 좋 갈비찜 있\n",
      "정답:\tkorean\n",
      "예측:\tkorean\n",
      "\n",
      "\n",
      "SENTENCE:\t서울 데이트 기 좋 타코 추천\n",
      "정답:\twestern\n",
      "예측:\tkorean\n",
      "\n",
      "\n",
      "SENTENCE:\t청결 낙 곱새 있\n",
      "정답:\tkorean\n",
      "예측:\tkorean\n",
      "\n",
      "\n",
      "SENTENCE:\t가성 비 좋 도가니 탕 먹\n",
      "정답:\tkorean\n",
      "예측:\tasian\n",
      "\n",
      "\n",
      "SENTENCE:\t줄 서 서 기다리 비빔국수 있\n",
      "정답:\tkorean\n",
      "예측:\tkorean\n",
      "\n",
      "\n"
     ]
    },
    {
     "ename": "IndexError",
     "evalue": "list index out of range",
     "output_type": "error",
     "traceback": [
      "\u001b[0;31m---------------------------------------------------------------------------\u001b[0m",
      "\u001b[0;31mIndexError\u001b[0m                                Traceback (most recent call last)",
      "\u001b[0;32m<ipython-input-33-f32b56c67488>\u001b[0m in \u001b[0;36m<module>\u001b[0;34m\u001b[0m\n\u001b[1;32m     18\u001b[0m \u001b[0;32mfor\u001b[0m \u001b[0mi\u001b[0m \u001b[0;32min\u001b[0m \u001b[0mrange\u001b[0m\u001b[0;34m(\u001b[0m\u001b[0;36m0\u001b[0m\u001b[0;34m,\u001b[0m\u001b[0mlen\u001b[0m\u001b[0;34m(\u001b[0m\u001b[0my_chatbot\u001b[0m\u001b[0;34m)\u001b[0m\u001b[0;34m)\u001b[0m\u001b[0;34m:\u001b[0m\u001b[0;34m\u001b[0m\u001b[0;34m\u001b[0m\u001b[0m\n\u001b[1;32m     19\u001b[0m     print('SENTENCE:\\t{}\\n정답:\\t{}\\n예측:\\t{}\\n\\n'.format(\n\u001b[0;32m---> 20\u001b[0;31m         \u001b[0mX_chatbot\u001b[0m\u001b[0;34m[\u001b[0m\u001b[0mi\u001b[0m\u001b[0;34m]\u001b[0m\u001b[0;34m,\u001b[0m\u001b[0;34m\u001b[0m\u001b[0;34m\u001b[0m\u001b[0m\n\u001b[0m\u001b[1;32m     21\u001b[0m         \u001b[0my_chatbot_inversed\u001b[0m\u001b[0;34m[\u001b[0m\u001b[0mi\u001b[0m\u001b[0;34m]\u001b[0m\u001b[0;34m,\u001b[0m\u001b[0;34m\u001b[0m\u001b[0;34m\u001b[0m\u001b[0m\n\u001b[1;32m     22\u001b[0m         \u001b[0my_chatbot_pred_inversed\u001b[0m\u001b[0;34m[\u001b[0m\u001b[0mi\u001b[0m\u001b[0;34m]\u001b[0m\u001b[0;34m\u001b[0m\u001b[0;34m\u001b[0m\u001b[0m\n",
      "\u001b[0;31mIndexError\u001b[0m: list index out of range"
     ]
    }
   ],
   "source": [
    "# SENTENCE 데이터 전처리\n",
    "X_chatbot = [text_prepare(x) for x in X_chatbot]\n",
    "\n",
    "# tf-idf 벡터화\n",
    "X_chatbot_tfidf = tfidf_vectorizer.transform(X_chatbot)\n",
    "\n",
    "# tag 데이터 전처리\n",
    "y_chatbot = lb.transform(y_chatbot)\n",
    "\n",
    "# tag 예측\n",
    "y_chatbot_predicted_labels_tfidf = classifier_tfidf.predict(X_chatbot_tfidf)\n",
    "y_chatbot_predicted_scores_tfidf = classifier_tfidf.decision_function(X_chatbot_tfidf)\n",
    "\n",
    "# 예측된 tag를 텍스트로 변환\n",
    "y_chatbot_pred_inversed = lb.inverse_transform(y_chatbot_predicted_labels_tfidf)\n",
    "y_chatbot_inversed = lb.inverse_transform(y_chatbot)\n",
    "\n",
    "for i in range(0,len(y_chatbot)):\n",
    "    print('SENTENCE:\\t{}\\n정답:\\t{}\\n예측:\\t{}\\n\\n'.format(\n",
    "        X_chatbot[i],\n",
    "        y_chatbot_inversed[i],\n",
    "        y_chatbot_pred_inversed[i]\n",
    "    ))"
   ]
  },
  {
   "cell_type": "markdown",
   "metadata": {},
   "source": [
    "예상대로 훈련 데이터에 없던 메뉴는 정확도가 좋지 않다.\n",
    "\n",
    "이를 해결하려면 Bi-LSTM을 이용한 Named Entity Recognition 모델이 필요하다."
   ]
  },
  {
   "cell_type": "code",
   "execution_count": null,
   "metadata": {},
   "outputs": [],
   "source": []
  }
 ],
 "metadata": {
  "colab": {
   "name": "Copy of week1-MultilabelClassification.ipynb",
   "provenance": [
    {
     "file_id": "https://github.com/meunKoh/natural-language-processing/blob/master/week1/week1-MultilabelClassification.ipynb",
     "timestamp": 1574663563100
    }
   ],
   "toc_visible": true
  },
  "kernelspec": {
   "display_name": "text_anal",
   "language": "python",
   "name": "text_anal"
  },
  "language_info": {
   "codemirror_mode": {
    "name": "ipython",
    "version": 3
   },
   "file_extension": ".py",
   "mimetype": "text/x-python",
   "name": "python",
   "nbconvert_exporter": "python",
   "pygments_lexer": "ipython3",
   "version": "3.6.9"
  }
 },
 "nbformat": 4,
 "nbformat_minor": 1
}
