{
 "cells": [
  {
   "cell_type": "code",
   "execution_count": 3,
   "metadata": {},
   "outputs": [],
   "source": [
    "import re\n",
    "import pandas as pd\n",
    "import time"
   ]
  },
  {
   "cell_type": "markdown",
   "metadata": {},
   "source": [
    "### reviews_mecab 데이터 탐색"
   ]
  },
  {
   "cell_type": "code",
   "execution_count": 2,
   "metadata": {},
   "outputs": [
    {
     "name": "stdout",
     "output_type": "stream",
     "text": [
      "CPU times: user 40.5 s, sys: 4.54 s, total: 45.1 s\n",
      "Wall time: 1min 7s\n"
     ]
    }
   ],
   "source": [
    "%%time\n",
    "df_mecab = pd.read_csv('reviews_mecab_1.csv', encoding='utf-8', index_col=0)"
   ]
  },
  {
   "cell_type": "code",
   "execution_count": null,
   "metadata": {},
   "outputs": [],
   "source": [
    "df_mecab = df_mecab.iloc[:50000]"
   ]
  },
  {
   "cell_type": "code",
   "execution_count": 3,
   "metadata": {},
   "outputs": [
    {
     "data": {
      "text/html": [
       "<div>\n",
       "<style scoped>\n",
       "    .dataframe tbody tr th:only-of-type {\n",
       "        vertical-align: middle;\n",
       "    }\n",
       "\n",
       "    .dataframe tbody tr th {\n",
       "        vertical-align: top;\n",
       "    }\n",
       "\n",
       "    .dataframe thead th {\n",
       "        text-align: right;\n",
       "    }\n",
       "</style>\n",
       "<table border=\"1\" class=\"dataframe\">\n",
       "  <thead>\n",
       "    <tr style=\"text-align: right;\">\n",
       "      <th></th>\n",
       "      <th>reviewid</th>\n",
       "      <th>storeid</th>\n",
       "      <th>Link</th>\n",
       "      <th>Content</th>\n",
       "      <th>mecab</th>\n",
       "    </tr>\n",
       "  </thead>\n",
       "  <tbody>\n",
       "    <tr>\n",
       "      <th>0</th>\n",
       "      <td>0</td>\n",
       "      <td>13992</td>\n",
       "      <td>https://blog.naver.com/sjswmfwow/221188193849</td>\n",
       "      <td>#광주떡갈비맛집 #광주송정역맛집 #빛고을떡갈비광주떡갈비 맛집빛고을떡갈비광주송정리 광...</td>\n",
       "      <td>['ㅋㅋ 국물', 'ㅋㅋ 국물 으니', 'ㅋㅋ 육회', 'ㅋㅋ 육회 비빔밥', 'ㅎ...</td>\n",
       "    </tr>\n",
       "    <tr>\n",
       "      <th>1</th>\n",
       "      <td>1</td>\n",
       "      <td>13992</td>\n",
       "      <td>https://blog.naver.com/white6346/221384202338</td>\n",
       "      <td>오리빠와 광주에서 부산 오는 날 먹고 온 광주 빛고을떡갈비급여행답게 검색 끝에 현지...</td>\n",
       "      <td>['가능 시', '가능 시 겠', '각 인분', '각 인분 씩', '각 지역', '...</td>\n",
       "    </tr>\n",
       "  </tbody>\n",
       "</table>\n",
       "</div>"
      ],
      "text/plain": [
       "   reviewid  storeid                                           Link  \\\n",
       "0         0    13992  https://blog.naver.com/sjswmfwow/221188193849   \n",
       "1         1    13992  https://blog.naver.com/white6346/221384202338   \n",
       "\n",
       "                                             Content  \\\n",
       "0  #광주떡갈비맛집 #광주송정역맛집 #빛고을떡갈비광주떡갈비 맛집빛고을떡갈비광주송정리 광...   \n",
       "1  오리빠와 광주에서 부산 오는 날 먹고 온 광주 빛고을떡갈비급여행답게 검색 끝에 현지...   \n",
       "\n",
       "                                               mecab  \n",
       "0  ['ㅋㅋ 국물', 'ㅋㅋ 국물 으니', 'ㅋㅋ 육회', 'ㅋㅋ 육회 비빔밥', 'ㅎ...  \n",
       "1  ['가능 시', '가능 시 겠', '각 인분', '각 인분 씩', '각 지역', '...  "
      ]
     },
     "execution_count": 3,
     "metadata": {},
     "output_type": "execute_result"
    }
   ],
   "source": [
    "df_mecab.head(2)"
   ]
  },
  {
   "cell_type": "code",
   "execution_count": 4,
   "metadata": {},
   "outputs": [],
   "source": [
    "# mecab 컬럼이 리스트로 있지 않은 행은 모두 삭제한다.\n",
    "df_mecab = df_mecab[df_mecab.mecab != 'error']"
   ]
  },
  {
   "cell_type": "code",
   "execution_count": 5,
   "metadata": {},
   "outputs": [
    {
     "data": {
      "text/plain": [
       "(199169, 2)"
      ]
     },
     "execution_count": 5,
     "metadata": {},
     "output_type": "execute_result"
    }
   ],
   "source": [
    "# 필요한 컬럼만 남긴다.\n",
    "df_mecab = df_mecab[['reviewid','storeid','mecab']]\n",
    "df_mecab.shape"
   ]
  },
  {
   "cell_type": "code",
   "execution_count": 6,
   "metadata": {},
   "outputs": [
    {
     "data": {
      "text/html": [
       "<div>\n",
       "<style scoped>\n",
       "    .dataframe tbody tr th:only-of-type {\n",
       "        vertical-align: middle;\n",
       "    }\n",
       "\n",
       "    .dataframe tbody tr th {\n",
       "        vertical-align: top;\n",
       "    }\n",
       "\n",
       "    .dataframe thead th {\n",
       "        text-align: right;\n",
       "    }\n",
       "</style>\n",
       "<table border=\"1\" class=\"dataframe\">\n",
       "  <thead>\n",
       "    <tr style=\"text-align: right;\">\n",
       "      <th></th>\n",
       "      <th>storeid</th>\n",
       "      <th>mecab</th>\n",
       "    </tr>\n",
       "  </thead>\n",
       "  <tbody>\n",
       "    <tr>\n",
       "      <th>0</th>\n",
       "      <td>13992</td>\n",
       "      <td>['ㅋㅋ 국물', 'ㅋㅋ 국물 으니', 'ㅋㅋ 육회', 'ㅋㅋ 육회 비빔밥', 'ㅎ...</td>\n",
       "    </tr>\n",
       "  </tbody>\n",
       "</table>\n",
       "</div>"
      ],
      "text/plain": [
       "   storeid                                              mecab\n",
       "0    13992  ['ㅋㅋ 국물', 'ㅋㅋ 국물 으니', 'ㅋㅋ 육회', 'ㅋㅋ 육회 비빔밥', 'ㅎ..."
      ]
     },
     "execution_count": 6,
     "metadata": {},
     "output_type": "execute_result"
    }
   ],
   "source": [
    "df_mecab.head(1)"
   ]
  },
  {
   "cell_type": "markdown",
   "metadata": {},
   "source": [
    "'mecab' 컬럼은 'Content' 컬럼을 (2,3)그램으로 형태소 분석한 결과를 리스트 형태로 저장한 컬럼이다.<br>\n",
    "하지만 csv파일로 저장했다가 다시 불러왔으므로 현재 리스트가 스트링 타입으로 변환된 상태다.<br>\n",
    "먼저 mecab 컬럼을 스트링으로 변환해준다."
   ]
  },
  {
   "cell_type": "code",
   "execution_count": 7,
   "metadata": {},
   "outputs": [
    {
     "data": {
      "text/plain": [
       "str"
      ]
     },
     "execution_count": 7,
     "metadata": {},
     "output_type": "execute_result"
    }
   ],
   "source": [
    "type(df_mecab.mecab[0])"
   ]
  },
  {
   "cell_type": "code",
   "execution_count": 8,
   "metadata": {},
   "outputs": [
    {
     "name": "stdout",
     "output_type": "stream",
     "text": [
      "CPU times: user 5min 7s, sys: 17.8 s, total: 5min 25s\n",
      "Wall time: 5min 25s\n"
     ]
    }
   ],
   "source": [
    "%%time\n",
    "df_mecab['mecab'] = df_mecab['mecab'].apply(lambda x : eval(x))"
   ]
  },
  {
   "cell_type": "code",
   "execution_count": 9,
   "metadata": {},
   "outputs": [
    {
     "data": {
      "text/plain": [
       "list"
      ]
     },
     "execution_count": 9,
     "metadata": {},
     "output_type": "execute_result"
    }
   ],
   "source": [
    "# mecab 컬럼이 리스트 형태로 변환되었다.\n",
    "type(df_mecab.mecab[0])"
   ]
  },
  {
   "cell_type": "code",
   "execution_count": 11,
   "metadata": {},
   "outputs": [
    {
     "data": {
      "text/plain": [
       "['ㅋㅋ 국물',\n",
       " 'ㅋㅋ 국물 으니',\n",
       " 'ㅋㅋ 육회',\n",
       " 'ㅋㅋ 육회 비빔밥',\n",
       " 'ㅎㅎ 군침',\n",
       " 'ㅎㅎ 군침 돌',\n",
       " 'ㅎㅎ 맨',\n",
       " 'ㅎㅎ 맨 밥',\n",
       " 'ㅎㅎ 밑반찬',\n",
       " 'ㅎㅎ 밑반찬 넘']"
      ]
     },
     "execution_count": 11,
     "metadata": {},
     "output_type": "execute_result"
    }
   ],
   "source": [
    "df_mecab.mecab[0][:10]"
   ]
  },
  {
   "cell_type": "markdown",
   "metadata": {},
   "source": [
    "  "
   ]
  },
  {
   "cell_type": "markdown",
   "metadata": {},
   "source": [
    "### 가게/식당 감정 사전 데이터 탐색\n",
    "- taste : good/bad/etc 맛에 대한 감정사전\n",
    "- sanitation : good/bad/etc 가게 청결도에 대한 감정사전\n",
    "- cs : good/bad/etc 서비스에 대한 감정사전\n",
    "- atmosphere : good/bad/etc 가게 분위기/인테리어 대한 감정사전\n",
    "- price : good/bad/etc 음식 가격에 대한 감정사전\n",
    "- location : good/bad/etc 가게 위치에 대한 감정사전\n",
    "- prefer : good/bad/etc 인기도에 대한 감정사전\n",
    "- etc : good/bad/etc 그 외 기타 가게에 대한 감정사전\n",
    "- restaurant_category_keywords : 가게 종류\n",
    "- restaurant_category : 체인점 이름 "
   ]
  },
  {
   "cell_type": "code",
   "execution_count": 4,
   "metadata": {},
   "outputs": [
    {
     "data": {
      "text/html": [
       "<div>\n",
       "<style scoped>\n",
       "    .dataframe tbody tr th:only-of-type {\n",
       "        vertical-align: middle;\n",
       "    }\n",
       "\n",
       "    .dataframe tbody tr th {\n",
       "        vertical-align: top;\n",
       "    }\n",
       "\n",
       "    .dataframe thead th {\n",
       "        text-align: right;\n",
       "    }\n",
       "</style>\n",
       "<table border=\"1\" class=\"dataframe\">\n",
       "  <thead>\n",
       "    <tr style=\"text-align: right;\">\n",
       "      <th></th>\n",
       "      <th>taste_good_keywords</th>\n",
       "      <th>taste_bad_keywords</th>\n",
       "      <th>taste_etc_keywords</th>\n",
       "      <th>sanitation_good_keywords</th>\n",
       "      <th>sanitation_bad_keywords</th>\n",
       "      <th>sanitation_etc_keywords</th>\n",
       "      <th>cs_good_keywords</th>\n",
       "      <th>cs_bad_keywords</th>\n",
       "      <th>cs_etc_keywords</th>\n",
       "      <th>atmosphere_good_keywords</th>\n",
       "      <th>...</th>\n",
       "      <th>location_bad_keywords</th>\n",
       "      <th>location_etc_keywords</th>\n",
       "      <th>etc_good_keywords</th>\n",
       "      <th>etc_bad_keywords</th>\n",
       "      <th>etc_etc_keywords</th>\n",
       "      <th>restaurant_category_keywords</th>\n",
       "      <th>restaurant_category</th>\n",
       "      <th>prefer_good_keywords</th>\n",
       "      <th>prefer_bad_keywords</th>\n",
       "      <th>prefer_etc_keywords</th>\n",
       "    </tr>\n",
       "  </thead>\n",
       "  <tbody>\n",
       "    <tr>\n",
       "      <th>0</th>\n",
       "      <td>핵 맛집</td>\n",
       "      <td>딱딱</td>\n",
       "      <td>향 독특</td>\n",
       "      <td>잘 정돈</td>\n",
       "      <td>허름</td>\n",
       "      <td>정리 정돈</td>\n",
       "      <td>센스 굳</td>\n",
       "      <td>딱히</td>\n",
       "      <td>NaN</td>\n",
       "      <td>비주얼</td>\n",
       "      <td>...</td>\n",
       "      <td>헤맸</td>\n",
       "      <td>접근성</td>\n",
       "      <td>이쁜</td>\n",
       "      <td>개 빡</td>\n",
       "      <td>대기줄</td>\n",
       "      <td>뚝배기</td>\n",
       "      <td>맥도날드</td>\n",
       "      <td>종종 들릴</td>\n",
       "      <td>아쉽</td>\n",
       "      <td>NaN</td>\n",
       "    </tr>\n",
       "    <tr>\n",
       "      <th>1</th>\n",
       "      <td>진짜 맛있</td>\n",
       "      <td>나쁘</td>\n",
       "      <td>나쁘지 않</td>\n",
       "      <td>잘 진열</td>\n",
       "      <td>더럽</td>\n",
       "      <td>청결</td>\n",
       "      <td>가득 담겨</td>\n",
       "      <td>서비스 별로</td>\n",
       "      <td>NaN</td>\n",
       "      <td>인테리어 돋보였</td>\n",
       "      <td>...</td>\n",
       "      <td>힘들 게 찾</td>\n",
       "      <td>NaN</td>\n",
       "      <td>진짜 최고</td>\n",
       "      <td>감흥 없</td>\n",
       "      <td>누구 부담없이</td>\n",
       "      <td>피자</td>\n",
       "      <td>보노보노</td>\n",
       "      <td>줄 어마어마</td>\n",
       "      <td>이하 였</td>\n",
       "      <td>NaN</td>\n",
       "    </tr>\n",
       "    <tr>\n",
       "      <th>2</th>\n",
       "      <td>알싸</td>\n",
       "      <td>부족</td>\n",
       "      <td>달큰</td>\n",
       "      <td>상당히 깔끔</td>\n",
       "      <td>지저분</td>\n",
       "      <td>깨끗</td>\n",
       "      <td>인심 후하신</td>\n",
       "      <td>주차 길가</td>\n",
       "      <td>NaN</td>\n",
       "      <td>이쁜</td>\n",
       "      <td>...</td>\n",
       "      <td>힘들 게 찾아간</td>\n",
       "      <td>NaN</td>\n",
       "      <td>개웃</td>\n",
       "      <td>버리</td>\n",
       "      <td>놀이방 도 마련</td>\n",
       "      <td>평양냉면</td>\n",
       "      <td>쿠우 쿠우</td>\n",
       "      <td>자주 갈</td>\n",
       "      <td>아쉬운</td>\n",
       "      <td>NaN</td>\n",
       "    </tr>\n",
       "  </tbody>\n",
       "</table>\n",
       "<p>3 rows × 26 columns</p>\n",
       "</div>"
      ],
      "text/plain": [
       "  taste_good_keywords taste_bad_keywords taste_etc_keywords  \\\n",
       "0                핵 맛집                 딱딱               향 독특   \n",
       "1               진짜 맛있                 나쁘              나쁘지 않   \n",
       "2                  알싸                 부족                 달큰   \n",
       "\n",
       "  sanitation_good_keywords sanitation_bad_keywords sanitation_etc_keywords  \\\n",
       "0                     잘 정돈                      허름                   정리 정돈   \n",
       "1                     잘 진열                      더럽                      청결   \n",
       "2                   상당히 깔끔                     지저분                      깨끗   \n",
       "\n",
       "  cs_good_keywords cs_bad_keywords  cs_etc_keywords atmosphere_good_keywords  \\\n",
       "0             센스 굳              딱히              NaN                      비주얼   \n",
       "1            가득 담겨          서비스 별로              NaN                 인테리어 돋보였   \n",
       "2           인심 후하신           주차 길가              NaN                       이쁜   \n",
       "\n",
       "   ... location_bad_keywords location_etc_keywords etc_good_keywords  \\\n",
       "0  ...                    헤맸                   접근성                이쁜   \n",
       "1  ...                힘들 게 찾                   NaN             진짜 최고   \n",
       "2  ...              힘들 게 찾아간                   NaN                개웃   \n",
       "\n",
       "  etc_bad_keywords etc_etc_keywords restaurant_category_keywords  \\\n",
       "0              개 빡              대기줄                          뚝배기   \n",
       "1             감흥 없          누구 부담없이                           피자   \n",
       "2               버리         놀이방 도 마련                         평양냉면   \n",
       "\n",
       "  restaurant_category prefer_good_keywords prefer_bad_keywords  \\\n",
       "0                맥도날드                종종 들릴                  아쉽   \n",
       "1                보노보노               줄 어마어마                이하 였   \n",
       "2               쿠우 쿠우                 자주 갈                 아쉬운   \n",
       "\n",
       "  prefer_etc_keywords  \n",
       "0                 NaN  \n",
       "1                 NaN  \n",
       "2                 NaN  \n",
       "\n",
       "[3 rows x 26 columns]"
      ]
     },
     "execution_count": 4,
     "metadata": {},
     "output_type": "execute_result"
    }
   ],
   "source": [
    "# 가게/식당 감정 사전 불러오기\n",
    "df_dic = pd.read_csv(\"keywords_df.csv\", encoding='utf-8', index_col=0)\n",
    "df_dic.head(3)"
   ]
  },
  {
   "cell_type": "markdown",
   "metadata": {},
   "source": [
    "감정 사전의 총 카테고리 별 단어 개수를 살펴본다."
   ]
  },
  {
   "cell_type": "code",
   "execution_count": 16,
   "metadata": {},
   "outputs": [
    {
     "name": "stdout",
     "output_type": "stream",
     "text": [
      "taste_good_keywords 키워드 개수: (245,) 핵 맛집, 진짜 맛있, 알싸, 취향 저격, 입안 가득 육즙\n",
      "taste_bad_keywords 키워드 개수: (70,) 딱딱, 나쁘, 부족, 비린, 눅눅\n",
      "taste_etc_keywords 키워드 개수: (79,) 향 독특, 나쁘지 않, 달큰, 무난, 씹 식감\n",
      "sanitation_good_keywords 키워드 개수: (8,) 잘 정돈, 잘 진열, 상당히 깔끔, 쾌적, 반짝반짝\n",
      "sanitation_bad_keywords 키워드 개수: (4,) \n",
      "sanitation_etc_keywords 키워드 개수: (6,) 정리 정돈, 청결, 깨끗, 청소, 위생\n",
      "cs_good_keywords 키워드 개수: (61,) 센스 굳, 가득 담겨, 인심 후하신, 이미 세팅, 서비스 덤\n",
      "cs_bad_keywords 키워드 개수: (14,) 딱히, 서비스 별로, 주차 길가, 주차장 부족, 무시\n",
      "cs_etc_keywords 키워드 개수: (0,) \n",
      "atmosphere_good_keywords 키워드 개수: (108,) 비주얼, 인테리어 돋보였, 이쁜, 정원, 쾌적\n",
      "atmosphere_bad_keywords 키워드 개수: (15,) 별거 없, 협소, 정신 없는, 조명 너무 밝, 자리 비좁\n",
      "atmosphere_etc_keywords 키워드 개수: (62,) 어린, 인증 샷, 인테리어 심플, 와이프, 분위기 도\n",
      "price_good_keywords 키워드 개수: (48,) 가격 깔끔, 양 많, 가격대 싼, 쌈, 가성비 최고\n",
      "price_bad_keywords 키워드 개수: (18,) 부담 스러운, 아쉬운 가격, 창 렬, 비쌌, 비쌈\n",
      "price_etc_keywords 키워드 개수: (18,) 높 가격대, 놀라운 가격, 가격대, 가격 차이, 무한리필\n",
      "location_good_keywords 키워드 개수: (8,) 가까운, 좋은 위치, 가까이, 명당자리, 위치 좋\n",
      "location_bad_keywords 키워드 개수: (5,) 헤맸, 힘들 게 찾, 힘들 게 찾아간, 힘든 위치, 헤매\n",
      "location_etc_keywords 키워드 개수: (1,) \n",
      "etc_good_keywords 키워드 개수: (148,) 이쁜, 진짜 최고, 개웃, 무난, 취향 저격\n",
      "etc_bad_keywords 키워드 개수: (68,) 개 빡, 감흥 없, 버리, 나쁘, 안타깝\n",
      "etc_etc_keywords 키워드 개수: (61,) 대기줄, 누구 부담없이, 놀이방 도 마련, 대기, 무난\n",
      "restaurant_category_keywords 키워드 개수: (145,) 뚝배기, 피자, 평양냉면, 수제비, 아이스크림\n",
      "restaurant_category 키워드 개수: (9,) 맥도날드, 보노보노, 쿠우 쿠우, 애슐리, 홍콩 반점\n",
      "prefer_good_keywords 키워드 개수: (35,) 종종 들릴, 줄 어마어마, 자주 갈, 단골, 줄 너무 길\n",
      "prefer_bad_keywords 키워드 개수: (3,) \n",
      "prefer_etc_keywords 키워드 개수: (0,) \n",
      "\n",
      "전체 키워드 개수: 1239\n",
      "전체 카테고리 개수: 26\n"
     ]
    }
   ],
   "source": [
    "total_tags = 0\n",
    "for col in df_dic.columns:\n",
    "    curr_col = df_dic[col]\n",
    "    curr_col = curr_col[curr_col.notna()]\n",
    "    curr_tags = ''\n",
    "    try:\n",
    "        curr_tags = ', '.join([curr_col[i] for i in range(5)])\n",
    "    except:\n",
    "        pass\n",
    "    print(col, '키워드 개수:', curr_col.shape, curr_tags)\n",
    "    total_tags += curr_col.shape[0]\n",
    "    \n",
    "print('\\n전체 키워드 개수:',total_tags)\n",
    "print('전체 카테고리 개수:', len(df_dic.columns))"
   ]
  },
  {
   "cell_type": "code",
   "execution_count": 2,
   "metadata": {},
   "outputs": [
    {
     "data": {
      "text/plain": [
       "155.0"
      ]
     },
     "execution_count": 2,
     "metadata": {},
     "output_type": "execute_result"
    }
   ],
   "source": [
    "(1239-9-145)/7"
   ]
  },
  {
   "cell_type": "code",
   "execution_count": 5,
   "metadata": {},
   "outputs": [],
   "source": [
    "# 26개 컬럼을 리스트에 저장한다.\n",
    "taste_good_count_list = df_dic.taste_good_keywords.dropna().to_list() \n",
    "taste_bad_count_list = df_dic.taste_bad_keywords.dropna().to_list()\n",
    "taste_etc_count_list = df_dic.taste_etc_keywords.dropna().to_list()\n",
    "\n",
    "sanitation_good_count_list = df_dic.sanitation_good_keywords.dropna().to_list()\n",
    "sanitation_bad_count_list = df_dic.sanitation_bad_keywords.dropna().to_list()\n",
    "sanitation_etc_count_list = df_dic.sanitation_etc_keywords.dropna().to_list()\n",
    "\n",
    "cs_good_count_list = df_dic.cs_good_keywords.dropna().to_list()\n",
    "cs_bad_count_list = df_dic.cs_bad_keywords.dropna().to_list()\n",
    "cs_etc_count_list = df_dic.cs_etc_keywords.dropna().to_list()\n",
    "\n",
    "atmosphere_good_count_list = df_dic.atmosphere_good_keywords.dropna().to_list()\n",
    "atmosphere_bad_count_list = df_dic.atmosphere_bad_keywords.dropna().to_list()\n",
    "atmosphere_etc_count_list = df_dic.atmosphere_etc_keywords.dropna().to_list()\n",
    "\n",
    "price_good_count_list = df_dic.price_good_keywords.dropna().to_list()\n",
    "price_bad_count_list = df_dic.price_bad_keywords.dropna().to_list()\n",
    "price_etc_count_list = df_dic.price_etc_keywords.dropna().to_list()\n",
    "\n",
    "location_good_count_list = df_dic.location_good_keywords.dropna().to_list()\n",
    "location_bad_count_list = df_dic.location_bad_keywords.dropna().to_list()\n",
    "location_etc_count_list = df_dic.location_etc_keywords.dropna().to_list()\n",
    "\n",
    "etc_good_count_list = df_dic.etc_good_keywords.dropna().to_list()\n",
    "etc_bad_count_list = df_dic.etc_bad_keywords.dropna().to_list()\n",
    "etc_etc_count_list = df_dic.etc_etc_keywords.dropna().to_list()\n",
    "\n",
    "restaurant_category_list = df_dic.restaurant_category_keywords.dropna().to_list()\n",
    "\n",
    "prefer_good_count_list = df_dic.prefer_good_keywords.dropna().to_list()\n",
    "prefer_bad_count_list = df_dic.prefer_bad_keywords.dropna().to_list()\n",
    "prefer_etc_count_list = df_dic.prefer_etc_keywords.dropna().to_list()\n",
    "\n",
    "total_category_list = [\n",
    "        taste_good_count_list, taste_bad_count_list, taste_etc_count_list\n",
    "       , sanitation_good_count_list, sanitation_bad_count_list, sanitation_etc_count_list\n",
    "       , cs_good_count_list, cs_bad_count_list, cs_etc_count_list\n",
    "       , atmosphere_good_count_list, atmosphere_bad_count_list, atmosphere_etc_count_list\n",
    "       , price_good_count_list, price_bad_count_list, price_etc_count_list\n",
    "       , location_good_count_list, location_bad_count_list, location_etc_count_list\n",
    "       , etc_good_count_list, etc_bad_count_list, etc_etc_count_list\n",
    "       , restaurant_category_list\n",
    "       , prefer_good_count_list, prefer_bad_count_list, prefer_etc_count_list\n",
    "                      ]"
   ]
  },
  {
   "cell_type": "code",
   "execution_count": 4,
   "metadata": {},
   "outputs": [
    {
     "data": {
      "text/plain": [
       "25"
      ]
     },
     "execution_count": 4,
     "metadata": {},
     "output_type": "execute_result"
    }
   ],
   "source": [
    "# df_dic의 26개 컬럼에서 restaurant_category만 제외하고 나머지를 total_category_list에 담는다.\n",
    "len(total_category_list)"
   ]
  },
  {
   "cell_type": "code",
   "execution_count": 5,
   "metadata": {},
   "outputs": [
    {
     "data": {
      "text/plain": [
       "1230"
      ]
     },
     "execution_count": 5,
     "metadata": {},
     "output_type": "execute_result"
    }
   ],
   "source": [
    "# NaN 값은 제외하고 잘 저장되었는지 개수를 다시 확인해본다. (restaurant_category를 제외하고 1,230개)\n",
    "nums = 0\n",
    "for li in total_category_list:\n",
    "    nums += len(li)\n",
    "nums"
   ]
  },
  {
   "cell_type": "markdown",
   "metadata": {},
   "source": [
    "### 라벨링"
   ]
  },
  {
   "cell_type": "code",
   "execution_count": 20,
   "metadata": {},
   "outputs": [
    {
     "data": {
      "text/plain": [
       "196281705"
      ]
     },
     "execution_count": 20,
     "metadata": {},
     "output_type": "execute_result"
    }
   ],
   "source": [
    "# 라벨링 해야 하는 형태소 단어가 몇 개인지 살펴본다.\n",
    "total_mecabs = 0\n",
    "for mecabs in df_mecab.mecab:\n",
    "    total_mecabs += len(mecabs)\n",
    "total_mecabs"
   ]
  },
  {
   "cell_type": "markdown",
   "metadata": {},
   "source": [
    "현재 파일의 형태소 단어가 약 1억 9천개 이므로, 총 4개 파일을 다 더하면 대략 8억개다. <br>\n",
    "이것을 리스트로 for문을 돌리면 시간이 너무 오래걸리므로 mecab 컬럼을 list 타입이 아닌 str 타입으로 바꿔준다. <br>\n",
    "str 타입으로 바꾸면 list를 for문 돌릴 필요 없이 regular expression으로 한 번에 검색할 수 있기 때문에 빠르다."
   ]
  },
  {
   "cell_type": "code",
   "execution_count": 23,
   "metadata": {},
   "outputs": [
    {
     "name": "stdout",
     "output_type": "stream",
     "text": [
      "CPU times: user 4 µs, sys: 1 µs, total: 5 µs\n",
      "Wall time: 6.44 µs\n"
     ]
    }
   ],
   "source": [
    "%time\n",
    "# mecab 리스트를 원소들 사이에 '&' 문자열을 추가하여 하나의 스트링으로 바꾼다.\n",
    "df_mecab['mecab_join'] = df_mecab.mecab.apply(lambda x: '&'.join([word for word in x])) "
   ]
  },
  {
   "cell_type": "code",
   "execution_count": 25,
   "metadata": {},
   "outputs": [],
   "source": [
    "# mecab_join의 맨 왼쪽/오른쪽에 '&' 문자를 추가한다.\n",
    "df_mecab['mecab_join'] = df_mecab.mecab_join.apply(lambda x: '&' + x + '&') "
   ]
  },
  {
   "cell_type": "code",
   "execution_count": 27,
   "metadata": {},
   "outputs": [
    {
     "data": {
      "text/html": [
       "<div>\n",
       "<style scoped>\n",
       "    .dataframe tbody tr th:only-of-type {\n",
       "        vertical-align: middle;\n",
       "    }\n",
       "\n",
       "    .dataframe tbody tr th {\n",
       "        vertical-align: top;\n",
       "    }\n",
       "\n",
       "    .dataframe thead th {\n",
       "        text-align: right;\n",
       "    }\n",
       "</style>\n",
       "<table border=\"1\" class=\"dataframe\">\n",
       "  <thead>\n",
       "    <tr style=\"text-align: right;\">\n",
       "      <th></th>\n",
       "      <th>storeid</th>\n",
       "      <th>mecab</th>\n",
       "      <th>mecab_join</th>\n",
       "    </tr>\n",
       "  </thead>\n",
       "  <tbody>\n",
       "    <tr>\n",
       "      <th>0</th>\n",
       "      <td>13992</td>\n",
       "      <td>[ㅋㅋ 국물, ㅋㅋ 국물 으니, ㅋㅋ 육회, ㅋㅋ 육회 비빔밥, ㅎㅎ 군침, ㅎㅎ ...</td>\n",
       "      <td>&amp;ㅋㅋ 국물&amp;ㅋㅋ 국물 으니&amp;ㅋㅋ 육회&amp;ㅋㅋ 육회 비빔밥&amp;ㅎㅎ 군침&amp;ㅎㅎ 군침 돌&amp;...</td>\n",
       "    </tr>\n",
       "    <tr>\n",
       "      <th>1</th>\n",
       "      <td>13992</td>\n",
       "      <td>[가능 시, 가능 시 겠, 각 인분, 각 인분 씩, 각 지역, 각 지역 에, 각각 ...</td>\n",
       "      <td>&amp;가능 시&amp;가능 시 겠&amp;각 인분&amp;각 인분 씩&amp;각 지역&amp;각 지역 에&amp;각각 매력&amp;각각 ...</td>\n",
       "    </tr>\n",
       "  </tbody>\n",
       "</table>\n",
       "</div>"
      ],
      "text/plain": [
       "   storeid                                              mecab  \\\n",
       "0    13992  [ㅋㅋ 국물, ㅋㅋ 국물 으니, ㅋㅋ 육회, ㅋㅋ 육회 비빔밥, ㅎㅎ 군침, ㅎㅎ ...   \n",
       "1    13992  [가능 시, 가능 시 겠, 각 인분, 각 인분 씩, 각 지역, 각 지역 에, 각각 ...   \n",
       "\n",
       "                                          mecab_join  \n",
       "0  &ㅋㅋ 국물&ㅋㅋ 국물 으니&ㅋㅋ 육회&ㅋㅋ 육회 비빔밥&ㅎㅎ 군침&ㅎㅎ 군침 돌&...  \n",
       "1  &가능 시&가능 시 겠&각 인분&각 인분 씩&각 지역&각 지역 에&각각 매력&각각 ...  "
      ]
     },
     "execution_count": 27,
     "metadata": {},
     "output_type": "execute_result"
    }
   ],
   "source": [
    "df_mecab.head(2)"
   ]
  },
  {
   "cell_type": "markdown",
   "metadata": {},
   "source": [
    "#### `col`에서 `keyword_list`의 `keyword`들을 포함하는 형태소 단어의 리스트를 반환하는 함수 `detect_mecab`을 정의한다."
   ]
  },
  {
   "cell_type": "code",
   "execution_count": 6,
   "metadata": {},
   "outputs": [],
   "source": [
    "def detect_mecab(col, keyword_list):\n",
    "    matched_keyword_list = []\n",
    "    \n",
    "    for keyword in keyword_list:\n",
    "        \n",
    "        # mecab_join 컬럼은 '&형태소 단어&형태소 단어&형태소 단어&' 형태의 str이다.\n",
    "        # keyword를 포함하는 형태소 단어 전체를 가져오는 regex를 compile 한 후,\n",
    "        KEYWORD_RE = re.compile('[ ㄱ-ㅣ가-힣]*'+keyword+'[ ㄱ-ㅣ가-힣]*')\n",
    "        \n",
    "        # keyword를 발견하면 해당 keyword를 matched_keyword_list에 저장한다.\n",
    "        if KEYWORD_RE.search(col) is not None:\n",
    "            matched_keyword_list.append(keyword)\n",
    "            \n",
    "    return matched_keyword_list"
   ]
  },
  {
   "cell_type": "code",
   "execution_count": 57,
   "metadata": {},
   "outputs": [],
   "source": [
    "# 25개 컬럼 중 한 컬럼을 먼저 돌려본다.\n",
    "%timeit\n",
    "loc_good_test = df_mecab.mecab_join.apply(detect_mecab, args=(location_good_count_list,))"
   ]
  },
  {
   "cell_type": "markdown",
   "metadata": {},
   "source": [
    "# 함수로 한번에"
   ]
  },
  {
   "cell_type": "code",
   "execution_count": 9,
   "metadata": {},
   "outputs": [],
   "source": [
    "def read_reviews_mecab(filepath):\n",
    "    \"\"\"\n",
    "        filepath : reviews_mecab.csv\n",
    "        return : 정제된 reviews_mecab (DataFrame)\n",
    "    \"\"\"\n",
    "    \n",
    "    # reviews_mecab.csv 파일을 읽고 필요 컬럼만 저장한다.\n",
    "    df_mecab = pd.read_csv(filepath, encoding='utf-8', index_col=0)[['reviewid','storeid','mecab']]\n",
    "    \n",
    "    # mecab 컬럼이 리스트로 있지 않은 행은 모두 삭제한다.\n",
    "    df_mecab = df_mecab[df_mecab.mecab != 'error']\n",
    "    \n",
    "    # mecab 컬럼의 타입을 str에서 list로 바꾼다.\n",
    "    df_mecab['mecab'] = df_mecab['mecab'].apply(lambda x : eval(x))\n",
    "    \n",
    "    df_mecab['mecab'] = df_mecab.mecab.apply(lambda x: '&'.join([word for word in x])) \n",
    "    df_mecab['mecab'] = df_mecab.mecab.apply(lambda x: '&' + x + '&') \n",
    "    \n",
    "    return df_mecab"
   ]
  },
  {
   "cell_type": "code",
   "execution_count": null,
   "metadata": {},
   "outputs": [
    {
     "name": "stdout",
     "output_type": "stream",
     "text": [
      "taste_good_count_list 0//25\n"
     ]
    }
   ],
   "source": [
    "# 본격 라벨링 하는 코드!\n",
    "%%time\n",
    "df = read_reviews_mecab('./reviews_mecab_1.csv')\n",
    "\n",
    "category_names = ['taste_good_count_list', 'taste_bad_count_list', 'taste_etc_count_list'\n",
    "                 , 'sanitation_good_count_list', 'sanitation_bad_count_list', 'sanitation_etc_count_list'\n",
    "                 , 'cs_good_count_list', 'cs_bad_count_list', 'cs_etc_count_list'\n",
    "                 , 'atmosphere_good_count_list', 'atmosphere_bad_count_list', 'atmosphere_etc_count_list'\n",
    "                 , 'price_good_count_list', 'price_bad_count_list', 'price_etc_count_list'\n",
    "                 , 'location_good_count_list', 'location_bad_count_list', 'location_etc_count_list'\n",
    "                 , 'etc_good_count_list', 'etc_bad_count_list', 'etc_etc_count_list'\n",
    "                 , 'restaurant_category_list', 'prefer_good_count_list', 'prefer_bad_count_list', 'prefer_etc_count_list']\n",
    "\n",
    "print('라벨링 시작:', time.asctime())\n",
    "for i, category in zip(range(0,25),category_names):\n",
    "    print(category, str(i+1)+'/25', time.asctime())\n",
    "    df[category] = df.mecab.apply(detect_mecab, args=(total_category_list[i],))\n",
    "print('라벨링 완료:', time.asctime())\n",
    "\n",
    "df.drop('mecab', axis=1, inplace=True)\n",
    "df.to_csv('./reviews_label_1.csv', encoding='utf-8')"
   ]
  },
  {
   "cell_type": "code",
   "execution_count": null,
   "metadata": {},
   "outputs": [],
   "source": [
    "%%time\n",
    "df = read_reviews_mecab('./reviews_mecab_2.csv')\n",
    "\n",
    "category_names = ['taste_good_count_list', 'taste_bad_count_list', 'taste_etc_count_list'\n",
    "                 , 'sanitation_good_count_list', 'sanitation_bad_count_list', 'sanitation_etc_count_list'\n",
    "                 , 'cs_good_count_list', 'cs_bad_count_list', 'cs_etc_count_list'\n",
    "                 , 'atmosphere_good_count_list', 'atmosphere_bad_count_list', 'atmosphere_etc_count_list'\n",
    "                 , 'price_good_count_list', 'price_bad_count_list', 'price_etc_count_list'\n",
    "                 , 'location_good_count_list', 'location_bad_count_list', 'location_etc_count_list'\n",
    "                 , 'etc_good_count_list', 'etc_bad_count_list', 'etc_etc_count_list'\n",
    "                 , 'restaurant_category_list', 'prefer_good_count_list', 'prefer_bad_count_list', 'prefer_etc_count_list']\n",
    "\n",
    "print('라벨링 시작:', time.asctime())\n",
    "for i, category in zip(range(0,25),category_names):\n",
    "    print(category, str(i+1)+'/25', time.asctime())\n",
    "    df[category] = df.mecab.apply(detect_mecab, args=(total_category_list[i],))\n",
    "print('라벨링 완료:', time.asctime())\n",
    "\n",
    "df.drop('mecab', axis=1, inplace=True)\n",
    "df.to_csv('./reviews_label_1.csv', encoding='utf-8')"
   ]
  }
 ],
 "metadata": {
  "kernelspec": {
   "display_name": "text_anal",
   "language": "python",
   "name": "text_anal"
  },
  "language_info": {
   "codemirror_mode": {
    "name": "ipython",
    "version": 3
   },
   "file_extension": ".py",
   "mimetype": "text/x-python",
   "name": "python",
   "nbconvert_exporter": "python",
   "pygments_lexer": "ipython3",
   "version": "3.6.9"
  }
 },
 "nbformat": 4,
 "nbformat_minor": 2
}
