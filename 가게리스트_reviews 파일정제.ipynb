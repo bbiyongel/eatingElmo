{
 "cells": [
  {
   "cell_type": "code",
   "execution_count": 3,
   "metadata": {},
   "outputs": [],
   "source": [
    "import pandas as pd, numpy as np\n",
    "import re\n",
    "import time"
   ]
  },
  {
   "cell_type": "markdown",
   "metadata": {},
   "source": [
    "### 1. 가게리스트_reviews.csv 파일 불러오기\n",
    "- storeid : 가게id\n",
    "- Title : 공공데이터포털에 등록된 가게명\n",
    "- storename : Title에서 공백을 제거함\n",
    "- search_area : \n",
    "    - Sigungu가 2글자 이하일 경우(ex.광주 동구,서울 중구) -> Region (ex.광주,서울)\n",
    "    - Sigungu가 2글자보다 많을 경우(ex.서울 종로구,경기도 수원시) -> Sigungu (ex.종로,수원)\n",
    "- Category1 : 한식,중국식,일식,서양식,아시아식,기타외국음식 - 음식점 대분류\n",
    "- Category2 : 냉면/쌀국수/치킨 등 음식점 소분류\n",
    "- menu : 떡갈비,비빔밥/갈비살,안창살/장어구이 등 가게의 (대표)메뉴\n",
    "    - Category2와 menu는 겹쳐도 됨, 둘 중 한 컬럼만 있어도 됨\n",
    "- Blog : 가게명으로 네이버 상세검색 했을 때 나온 블로그 리뷰의 개수\n",
    "- reviews_num : 정제한 리뷰 데이터 79만개 중, 해당 가게의 리뷰의 개수"
   ]
  },
  {
   "cell_type": "code",
   "execution_count": 15,
   "metadata": {},
   "outputs": [
    {
     "data": {
      "text/plain": [
       "(22782, 11)"
      ]
     },
     "execution_count": 15,
     "metadata": {},
     "output_type": "execute_result"
    }
   ],
   "source": [
    "stores = pd.read_csv('./train/data/가게리스트_reviews.csv', encoding='utf-8')\n",
    "stores.drop('Unnamed: 0', axis=1, inplace=True)\n",
    "stores.shape"
   ]
  },
  {
   "cell_type": "code",
   "execution_count": 17,
   "metadata": {},
   "outputs": [
    {
     "data": {
      "text/html": [
       "<div>\n",
       "<style scoped>\n",
       "    .dataframe tbody tr th:only-of-type {\n",
       "        vertical-align: middle;\n",
       "    }\n",
       "\n",
       "    .dataframe tbody tr th {\n",
       "        vertical-align: top;\n",
       "    }\n",
       "\n",
       "    .dataframe thead th {\n",
       "        text-align: right;\n",
       "    }\n",
       "</style>\n",
       "<table border=\"1\" class=\"dataframe\">\n",
       "  <thead>\n",
       "    <tr style=\"text-align: right;\">\n",
       "      <th></th>\n",
       "      <th>storeid</th>\n",
       "      <th>Title</th>\n",
       "      <th>storename</th>\n",
       "      <th>Region</th>\n",
       "      <th>Sigungu</th>\n",
       "      <th>search_area</th>\n",
       "      <th>Category1</th>\n",
       "      <th>Category2</th>\n",
       "      <th>menu</th>\n",
       "      <th>Blog</th>\n",
       "      <th>reviews_num</th>\n",
       "    </tr>\n",
       "  </thead>\n",
       "  <tbody>\n",
       "    <tr>\n",
       "      <th>0</th>\n",
       "      <td>13992</td>\n",
       "      <td>빛고을떡갈비</td>\n",
       "      <td>빛고을떡갈비</td>\n",
       "      <td>광주</td>\n",
       "      <td>광산구</td>\n",
       "      <td>광산</td>\n",
       "      <td>한식</td>\n",
       "      <td>떡갈비,비빔밥</td>\n",
       "      <td>NaN</td>\n",
       "      <td>24</td>\n",
       "      <td>2</td>\n",
       "    </tr>\n",
       "    <tr>\n",
       "      <th>1</th>\n",
       "      <td>13995</td>\n",
       "      <td>착한소장수</td>\n",
       "      <td>착한소장수</td>\n",
       "      <td>광주</td>\n",
       "      <td>동구</td>\n",
       "      <td>광주</td>\n",
       "      <td>NaN</td>\n",
       "      <td>갈비살, 안창살</td>\n",
       "      <td>NaN</td>\n",
       "      <td>4155</td>\n",
       "      <td>7</td>\n",
       "    </tr>\n",
       "    <tr>\n",
       "      <th>2</th>\n",
       "      <td>14000</td>\n",
       "      <td>고흥나루터</td>\n",
       "      <td>고흥나루터</td>\n",
       "      <td>광주</td>\n",
       "      <td>동구</td>\n",
       "      <td>광주</td>\n",
       "      <td>NaN</td>\n",
       "      <td>장어구이</td>\n",
       "      <td>NaN</td>\n",
       "      <td>116</td>\n",
       "      <td>3</td>\n",
       "    </tr>\n",
       "  </tbody>\n",
       "</table>\n",
       "</div>"
      ],
      "text/plain": [
       "   storeid   Title storename Region Sigungu search_area Category1 Category2  \\\n",
       "0    13992  빛고을떡갈비    빛고을떡갈비     광주     광산구          광산        한식   떡갈비,비빔밥   \n",
       "1    13995   착한소장수     착한소장수     광주      동구          광주       NaN  갈비살, 안창살   \n",
       "2    14000   고흥나루터     고흥나루터     광주      동구          광주       NaN      장어구이   \n",
       "\n",
       "   menu  Blog  reviews_num  \n",
       "0   NaN    24            2  \n",
       "1   NaN  4155            7  \n",
       "2   NaN   116            3  "
      ]
     },
     "execution_count": 17,
     "metadata": {},
     "output_type": "execute_result"
    }
   ],
   "source": [
    "# 가게는 총 22,782개\n",
    "stores.head(3)"
   ]
  },
  {
   "cell_type": "code",
   "execution_count": 113,
   "metadata": {},
   "outputs": [
    {
     "data": {
      "text/html": [
       "<div>\n",
       "<style scoped>\n",
       "    .dataframe tbody tr th:only-of-type {\n",
       "        vertical-align: middle;\n",
       "    }\n",
       "\n",
       "    .dataframe tbody tr th {\n",
       "        vertical-align: top;\n",
       "    }\n",
       "\n",
       "    .dataframe thead th {\n",
       "        text-align: right;\n",
       "    }\n",
       "</style>\n",
       "<table border=\"1\" class=\"dataframe\">\n",
       "  <thead>\n",
       "    <tr style=\"text-align: right;\">\n",
       "      <th></th>\n",
       "      <th>Title</th>\n",
       "      <th>storename</th>\n",
       "      <th>Region</th>\n",
       "      <th>Sigungu</th>\n",
       "      <th>search_area</th>\n",
       "      <th>Category1</th>\n",
       "      <th>Category2</th>\n",
       "      <th>menu</th>\n",
       "      <th>Blog</th>\n",
       "      <th>reviews_num</th>\n",
       "    </tr>\n",
       "    <tr>\n",
       "      <th>storeid</th>\n",
       "      <th></th>\n",
       "      <th></th>\n",
       "      <th></th>\n",
       "      <th></th>\n",
       "      <th></th>\n",
       "      <th></th>\n",
       "      <th></th>\n",
       "      <th></th>\n",
       "      <th></th>\n",
       "      <th></th>\n",
       "    </tr>\n",
       "  </thead>\n",
       "  <tbody>\n",
       "    <tr>\n",
       "      <th>13992</th>\n",
       "      <td>빛고을떡갈비</td>\n",
       "      <td>빛고을떡갈비</td>\n",
       "      <td>광주</td>\n",
       "      <td>광산구</td>\n",
       "      <td>광산</td>\n",
       "      <td>한식</td>\n",
       "      <td>떡갈비,비빔밥</td>\n",
       "      <td>떡갈비,비빔밥</td>\n",
       "      <td>24</td>\n",
       "      <td>2</td>\n",
       "    </tr>\n",
       "    <tr>\n",
       "      <th>13995</th>\n",
       "      <td>착한소장수</td>\n",
       "      <td>착한소장수</td>\n",
       "      <td>광주</td>\n",
       "      <td>동구</td>\n",
       "      <td>광주</td>\n",
       "      <td>NaN</td>\n",
       "      <td>갈비살, 안창살</td>\n",
       "      <td>갈비살, 안창살</td>\n",
       "      <td>4155</td>\n",
       "      <td>7</td>\n",
       "    </tr>\n",
       "    <tr>\n",
       "      <th>14000</th>\n",
       "      <td>고흥나루터</td>\n",
       "      <td>고흥나루터</td>\n",
       "      <td>광주</td>\n",
       "      <td>동구</td>\n",
       "      <td>광주</td>\n",
       "      <td>NaN</td>\n",
       "      <td>장어구이</td>\n",
       "      <td>장어구이</td>\n",
       "      <td>116</td>\n",
       "      <td>3</td>\n",
       "    </tr>\n",
       "  </tbody>\n",
       "</table>\n",
       "</div>"
      ],
      "text/plain": [
       "          Title storename Region Sigungu search_area Category1 Category2  \\\n",
       "storeid                                                                    \n",
       "13992    빛고을떡갈비    빛고을떡갈비     광주     광산구          광산        한식   떡갈비,비빔밥   \n",
       "13995     착한소장수     착한소장수     광주      동구          광주       NaN  갈비살, 안창살   \n",
       "14000     고흥나루터     고흥나루터     광주      동구          광주       NaN      장어구이   \n",
       "\n",
       "             menu  Blog  reviews_num  \n",
       "storeid                               \n",
       "13992     떡갈비,비빔밥    24            2  \n",
       "13995    갈비살, 안창살  4155            7  \n",
       "14000        장어구이   116            3  "
      ]
     },
     "execution_count": 113,
     "metadata": {},
     "output_type": "execute_result"
    }
   ],
   "source": [
    "# 여러명이 작업하는 경우 나중에 통합을 쉽게 하기 위해서 인덱스를 storeid로 부여한다.\n",
    "# storeid는 각 가게당 고유한 값을 갖는 id이다.\n",
    "stores.set_index('storeid',inplace=True)\n",
    "stores.head(3)"
   ]
  },
  {
   "cell_type": "code",
   "execution_count": 115,
   "metadata": {},
   "outputs": [
    {
     "data": {
      "text/plain": [
       "Int64Index([ 13992,  13995,  14000,  14001,  14002,  14005,  14006,  14008,\n",
       "             14010,  14012,\n",
       "            ...\n",
       "            173613, 167542, 172875, 180834, 154810, 151855, 130419, 113445,\n",
       "            164368, 140758],\n",
       "           dtype='int64', name='storeid', length=22782)"
      ]
     },
     "execution_count": 115,
     "metadata": {},
     "output_type": "execute_result"
    }
   ],
   "source": [
    "# 가게 리스트가 총 22,782개이므로 index의 unique값도 22,782이다.\n",
    "stores.index.unique()"
   ]
  },
  {
   "cell_type": "markdown",
   "metadata": {},
   "source": [
    "### 2. 챗봇을 위한 가게리스트 데이터 전처리\n",
    "- Category1 음식점 대분류(한식,중식,일식,서양식,기타아시아식,기타외국음식) 통일 (nan 있으면 안됨)\n",
    "- Category2 음식점 소분류(분식,경양식,치킨,횟집,뷔페,패밀리레스토랑,고기구이,푸드트럭 등등) 최대한 nan 제거\n",
    "- menu 음식점 대표메뉴 (떡갈비,비빔밥,갈비살,안창살 등등) 쉼표로 구분하여 한 가게 당 여러 개 있어도 됨"
   ]
  },
  {
   "cell_type": "markdown",
   "metadata": {},
   "source": [
    "#### 2-1. 먼저 Category1, Category2, menu 컬럼을 살펴보자!"
   ]
  },
  {
   "cell_type": "code",
   "execution_count": 20,
   "metadata": {},
   "outputs": [
    {
     "data": {
      "text/plain": [
       "array([nan])"
      ]
     },
     "execution_count": 20,
     "metadata": {},
     "output_type": "execute_result"
    }
   ],
   "source": [
    "# 현재 menu 컬럼은 값이 없다.\n",
    "stores.menu.unique()"
   ]
  },
  {
   "cell_type": "code",
   "execution_count": 6,
   "metadata": {},
   "outputs": [
    {
     "data": {
      "text/plain": [
       "array(['한식', nan, '경양식', '기타', '김밥(도시락)', '분식', '뷔페식', '식육(숯불구이)', '일식',\n",
       "       '중국식', '통닭(치킨)', '회집', '양식', '식육', '중식', '일반음식점', '탕류(보신용)',\n",
       "       '패스트푸드', '외국음식전문점(인도,태국등)', '외국음식전문점', '푸드트럭', '이색음식점', '모범음식점',\n",
       "       '복어취급', '아시아식', '뷔페', '냉면집', '패밀리레스트랑', '횟집', '채식전문점', '서양식',\n",
       "       '분식점', '음식(한식)', '찜갈비', '별식', '패밀리레스토랑', '라이브카페'], dtype=object)"
      ]
     },
     "execution_count": 6,
     "metadata": {},
     "output_type": "execute_result"
    }
   ],
   "source": [
    "# Category1 컬럼\n",
    "stores.Category1.unique()"
   ]
  },
  {
   "cell_type": "code",
   "execution_count": 18,
   "metadata": {},
   "outputs": [
    {
     "data": {
      "text/plain": [
       "array(['떡갈비,비빔밥', '갈비살, 안창살', '장어구이', '통오리구이', '복탕', '비빔밥', '돼지갈비', '짜장면',\n",
       "       '콩나물국밥', '순두부찌개', '민물장어구이', nan, '김치찌개', '장어탕', '삼겹살', '자장면', '커트',\n",
       "       '민어', '생선찜', '생선회', '아구탕', '생선회,찜', '전복', '활어회', '갈매기살', '꽃게탕',\n",
       "       '꽃게, 돌게정식', '묵은지감자탕', '생태탕', '오리불고기', '아귀찜,탕', '삼계탕', '생선구이',\n",
       "       '함박스테이크', '일식', '게장', '갈비탕', '차돌박이갓삼합', '꽃게게장정식', '머리국밥,머리수육',\n",
       "       '꼬막', '국밥', '염소고기', '백반', '회', '도토리요리', '한정식', '낙지요리', '샤브샤브',\n",
       "       '닭요리', '대구찜', '떡갈비', '소고기', '산낙지비빔밥', '장어요리', '양식', '쌈밥', '냉면',\n",
       "       '낙지', '곱창', '영양솥밥', '감자탕', '장어', '복탕,복찜,아구찜', '장어구이,장어탕',\n",
       "       '한정식,매생이국', '홍어정식,삼합,보리애국', '한정식,코스요리,굴비정식', '흑염소탕, 전골', '떡갈비  정식',\n",
       "       '쌈밥정식', '죽순나물밥 정식', '대통밥', '보쌈, 부대찌개', '능이닭곰탕', '매운탕',\n",
       "       '한우구이, 삼겹살구이', '대구탕, 장어구이', '쏘가리탕', '활어회, 매운탕, 된장물회',\n",
       "       '돌솥밥, 오리로스구이, 오리탕', '활어회, 바지락회, 키조개구이', '등심,꽃살구이,갈비탕,육개장', '한식뷔페',\n",
       "       '생선회,매운탕', '떡갈비정식', '토종닭', '쌈밥/오삼불고기/오리.삼겹살.닭구이',\n",
       "       '돼지국밥/뼈해장국/삼겹살수육', '삼겹살/오리구이.탕/돼지갈비.찜/백반',\n",
       "       '한정식/영양돌솥밥/고등어쌈밥정식/약선육낙전골/육낙', '묵은지찜', '꽃게무침', '설렁탕',\n",
       "       '생고기,곰탕,쇠고기구이,샤브샤브,비빔밥', '굴비한정식', '백반, 전복죽', '스테이크', '파스타, 돈까스',\n",
       "       '오리전골', '바지락 칼국수', '돼지갈비구이', '중화요리', '순두부백반', '한우떡갈비', '묵은지닭매운탕',\n",
       "       '한우생갈비', '불고기 산채정식', '한우구이', '흑염소탕', '순대국밥', '볼테기탕', '갈비. 삼겹살, 냉면',\n",
       "       '생선회,해물탕', '꽃게장', '냉면, 콩나물국밥', '바지락죽', '오리누룽지백숙', '한정식,꽃게장',\n",
       "       '민물매운탕', '파스타 등', '다슬기탕, 국밥', '찌게', '한식', '경양식', '분식', '식육(숯불구이)',\n",
       "       '호프/통닭', '기타', '인도, 태국', '두루치기정식,육회비빔밥', '전골류', '소고기구이, 갈비탕',\n",
       "       '생고기', '갈비', '백숙', '해장국', '숯불갈비', '칼국수', '자연산회', '초당순두부, 황태구이',\n",
       "       '궁보계정, 북경식탕수육', '소갈비', '복매운탕', '회집', '해산물', '소갈비,회일식', '뷔페',\n",
       "       '김밥(도시락)', '오리고기', '참숯갈비', '바다회', '현미채식', '뷔페식', '곤드레밥', '밀면',\n",
       "       '회무침', '생삼겹', '붕어찜', '패스트푸드', '돼지갈비,돌솥밥', '외국음식전문점(인도,태국등)',\n",
       "       '쏘가리매운탕, 메기매운탕', '돈까스', '오리모듬세트. 생주물럭', '칡냉면', '올갱이해장국',\n",
       "       '한우구이,한우불고기', '탕류(보신용)', '한우불고기,한우등심', '동태찜,해물찜',\n",
       "       '삼겹살(8,000원), 김치찌개(5,000원)', '정종/대포집/소주방', '생오리,생삼겹',\n",
       "       '삼겹살, 돼지갈비, 소갈비살', '남도요리', '닭백숙', '갈치요리', '통닭(치킨)', '초밥',\n",
       "       '소갈비, 돼지갈비', '돼지갈비, 삼겹살', '양곱창', '중국식', '회초밥', '회정식', '굴밥,굴요리',\n",
       "       '쭈꾸미 낙지', '복어탕, 복지리, 복불고기', '더덕정식', '꼬리곰탕', '모듬똥집', '갈비살',\n",
       "       '한정식, 한우육개장', '갈치조림. 고등어조림', '초밥, 스시', '까페', '한우등심, 돼지고기 등',\n",
       "       '구이(쇠고기/삼겹살/돼지갈비)', '한정식, 제주은갈치구이', '베이징덕, 딤섬', '동태탕', '흑돼지구이',\n",
       "       '두부', '장어탕,전복탕,장어구이', '정식', '국수', '모듬회등', '곰탕', '흑돼지구이. 김치찌개',\n",
       "       '생고기,육회', '해물뚝배기', '민어탕', '돼지국밥', '활어회, 매운탕', '순대국', '갈비정식', '활어',\n",
       "       '버섯요리', '대구탕', '아구찜', '멸치회, 쌈밥정식', '고기류', '전통찻집', '한식코스', '불고기',\n",
       "       '대방어회. 갈치조림', '오리양념불고기/오리탕/오리생소금구이', '곱창구이', '짜장', '한우고기',\n",
       "       '해장국,부대찌개,뼈마시전골', '뼈다귀해장국, 등뼈찜', '찌개', '짜장. 짬뽕', '묵밥, 묵무침, 묵빈대떡',\n",
       "       '갈비살등', '해물전골', '밀냉면', '아구찜,오리고기', '한우특수부위, 갈비탕', '흑돼지구이. 갈비탕',\n",
       "       '냉면집', '흑돼지구이. 해물찜', '숙성 한우구이', '곰탕,설렁탕', '소갈비살,산채비빔밥', '등심',\n",
       "       '오리훈제/소갈비살', '청국장', '복요리.시래기갈치고등어조림', '마늘약선정식', '돼지불고기',\n",
       "       '돼지막창, 양념돼지갈비, 삼겹살', '돼지고기정식', '고기뷔페', '생고기, 삼겹살', '황태구이백반',\n",
       "       '비빔국수/칼국수', '돼지갈비, 정식', '정식, 갈비, 삼겹살', '송정스페셜, 참치스페셜',\n",
       "       '수구레국밥,소머리국밥', '게국지, 간장게장, 꽃게탕', '전복뚝배기. 조림', '쌈제육정식', '감성주점',\n",
       "       '흑돼지구이. 동치미국수', '피라미드 동파육, 매운갈비누룽지, 유린기', '소고기 코스요리', '활어회.매운탕',\n",
       "       '불고기,백숙', '아구해물찜', '생선초밥', '갈치조림', '순대국,돼지갈비', '자연산버섯찌개',\n",
       "       '활어회. 매운탕', '추어탕, 닭도리탕', '샐러드,피자,파스타,커피', '곱창 등', '구이류, 버섯전골',\n",
       "       '소갈비, 냉면', '고기국수. 비빔국수', '인삼정식+삼계탕', '생선회,초밥', '훈제오리', '해물탕',\n",
       "       '우렁쌈밥정식', '찜닭,치킨,똥집', '순두부찌게', '미역국', '전복죽', '라이브카페', '보말국. 보말칼국수',\n",
       "       '한우 한돈', '수제비 / 국수 / 국시기', '약채밥상', '칼국수, 수육', '생선회/매운탕', '굴비정식',\n",
       "       '갈비류', '고기', '소곱창', '피자', '곱창전골', '구이류,국밥', '석쇠구이,국밥', '조개및삼겹살구이',\n",
       "       '모듬회, 매운탕', '쌈정식, 코다리정식, 약채정식', '추어탕,장어탕', '닭한마리', '짜글이찌개',\n",
       "       '소,돼지갈비', '오겹살, 항정살', '불고기, 양대창구이', '순대전골, 모듬순대', '참치회', '전복코스요리',\n",
       "       '정식코스', '울금떡갈비정식, 버섯불고기정식', '능이오리백숙, 자연산버섯찌개, 김치찌개, 된장찌개',\n",
       "       '터키음식, 케밥', '아나고탕, 닭볶음탕', '샤브샤브,월남쌈', '인도,태국', '짬뽕', '도루묵,가자미찌개',\n",
       "       '청돼지, 돌돼지, 토마토 청국장', '돈까스, 초계국수', '돌솥밥', '굴요리전문', '화덕피자, 수제파스타',\n",
       "       '냉면,불고기,어복쟁반', '돼지고기', '파스타', '참복국, 복매운탕', '소, 돼지갈비', '민물장어/간장게장',\n",
       "       '한우불고기, 꽃등심', '팔도면요리', '충무김밥', '능이백숙코스', '쭈꾸미정식', '오리훈제', '해산물한정식',\n",
       "       '모듬초밥', '돼지고기, 주꾸미, 냉면', '초밥/대구탕/코스요리', '모듬회', '고등어조림', '참치/참가자미회',\n",
       "       '추어탕', '촌닭,오리백숙,송이백숙', '돼지갈비,소갈비'], dtype=object)"
      ]
     },
     "execution_count": 18,
     "metadata": {},
     "output_type": "execute_result"
    }
   ],
   "source": [
    "# Category2 컬럼은 현재 음식 메뉴가 들어가있다.\n",
    "stores.Category2.unique()"
   ]
  },
  {
   "cell_type": "code",
   "execution_count": 21,
   "metadata": {},
   "outputs": [],
   "source": [
    "# Category2 컬럼을 복붙하여 menu로 옮긴다.\n",
    "stores['menu'] = stores['Category2']"
   ]
  },
  {
   "cell_type": "code",
   "execution_count": 116,
   "metadata": {},
   "outputs": [
    {
     "data": {
      "text/html": [
       "<div>\n",
       "<style scoped>\n",
       "    .dataframe tbody tr th:only-of-type {\n",
       "        vertical-align: middle;\n",
       "    }\n",
       "\n",
       "    .dataframe tbody tr th {\n",
       "        vertical-align: top;\n",
       "    }\n",
       "\n",
       "    .dataframe thead th {\n",
       "        text-align: right;\n",
       "    }\n",
       "</style>\n",
       "<table border=\"1\" class=\"dataframe\">\n",
       "  <thead>\n",
       "    <tr style=\"text-align: right;\">\n",
       "      <th></th>\n",
       "      <th>Title</th>\n",
       "      <th>storename</th>\n",
       "      <th>Region</th>\n",
       "      <th>Sigungu</th>\n",
       "      <th>search_area</th>\n",
       "      <th>Category1</th>\n",
       "      <th>Category2</th>\n",
       "      <th>menu</th>\n",
       "      <th>Blog</th>\n",
       "      <th>reviews_num</th>\n",
       "    </tr>\n",
       "    <tr>\n",
       "      <th>storeid</th>\n",
       "      <th></th>\n",
       "      <th></th>\n",
       "      <th></th>\n",
       "      <th></th>\n",
       "      <th></th>\n",
       "      <th></th>\n",
       "      <th></th>\n",
       "      <th></th>\n",
       "      <th></th>\n",
       "      <th></th>\n",
       "    </tr>\n",
       "  </thead>\n",
       "  <tbody>\n",
       "    <tr>\n",
       "      <th>13992</th>\n",
       "      <td>빛고을떡갈비</td>\n",
       "      <td>빛고을떡갈비</td>\n",
       "      <td>광주</td>\n",
       "      <td>광산구</td>\n",
       "      <td>광산</td>\n",
       "      <td>한식</td>\n",
       "      <td>떡갈비,비빔밥</td>\n",
       "      <td>떡갈비,비빔밥</td>\n",
       "      <td>24</td>\n",
       "      <td>2</td>\n",
       "    </tr>\n",
       "    <tr>\n",
       "      <th>13995</th>\n",
       "      <td>착한소장수</td>\n",
       "      <td>착한소장수</td>\n",
       "      <td>광주</td>\n",
       "      <td>동구</td>\n",
       "      <td>광주</td>\n",
       "      <td>NaN</td>\n",
       "      <td>갈비살, 안창살</td>\n",
       "      <td>갈비살, 안창살</td>\n",
       "      <td>4155</td>\n",
       "      <td>7</td>\n",
       "    </tr>\n",
       "    <tr>\n",
       "      <th>14000</th>\n",
       "      <td>고흥나루터</td>\n",
       "      <td>고흥나루터</td>\n",
       "      <td>광주</td>\n",
       "      <td>동구</td>\n",
       "      <td>광주</td>\n",
       "      <td>NaN</td>\n",
       "      <td>장어구이</td>\n",
       "      <td>장어구이</td>\n",
       "      <td>116</td>\n",
       "      <td>3</td>\n",
       "    </tr>\n",
       "  </tbody>\n",
       "</table>\n",
       "</div>"
      ],
      "text/plain": [
       "          Title storename Region Sigungu search_area Category1 Category2  \\\n",
       "storeid                                                                    \n",
       "13992    빛고을떡갈비    빛고을떡갈비     광주     광산구          광산        한식   떡갈비,비빔밥   \n",
       "13995     착한소장수     착한소장수     광주      동구          광주       NaN  갈비살, 안창살   \n",
       "14000     고흥나루터     고흥나루터     광주      동구          광주       NaN      장어구이   \n",
       "\n",
       "             menu  Blog  reviews_num  \n",
       "storeid                               \n",
       "13992     떡갈비,비빔밥    24            2  \n",
       "13995    갈비살, 안창살  4155            7  \n",
       "14000        장어구이   116            3  "
      ]
     },
     "execution_count": 116,
     "metadata": {},
     "output_type": "execute_result"
    }
   ],
   "source": [
    "# 복붙이 잘 되었는지 확인\n",
    "stores.head(3)"
   ]
  },
  {
   "cell_type": "markdown",
   "metadata": {},
   "source": [
    "#### 2-2. Category1 컬럼 정제\n",
    "- 한식,중국식,일식,서양식,아시아식,기타외국음식 \n",
    "- 6개로 대분류한다."
   ]
  },
  {
   "cell_type": "code",
   "execution_count": 23,
   "metadata": {},
   "outputs": [
    {
     "data": {
      "text/plain": [
       "(2194, 11)"
      ]
     },
     "execution_count": 23,
     "metadata": {},
     "output_type": "execute_result"
    }
   ],
   "source": [
    "# na 값을 살펴보자. na는 Category2와 menu의 정제가 어느 정도 완료되면 그 때 채우도록 한다.\n",
    "stores[stores.Category1.isna()].shape"
   ]
  },
  {
   "cell_type": "code",
   "execution_count": 25,
   "metadata": {
    "scrolled": false
   },
   "outputs": [
    {
     "data": {
      "text/plain": [
       "Category1\n",
       "한식                 12542\n",
       "일반음식점               1635\n",
       "분식                  1505\n",
       "식육(숯불구이)            1124\n",
       "경양식                  933\n",
       "일식                   849\n",
       "회집                   368\n",
       "기타                   250\n",
       "중국식                  220\n",
       "뷔페식                  182\n",
       "통닭(치킨)               173\n",
       "탕류(보신용)              115\n",
       "양식                   105\n",
       "중식                   104\n",
       "외국음식전문점(인도,태국등)       91\n",
       "김밥(도시락)               86\n",
       "서양식                   73\n",
       "패스트푸드                 63\n",
       "냉면집                   27\n",
       "푸드트럭                  20\n",
       "아시아식                  16\n",
       "복어취급                  13\n",
       "외국음식전문점               13\n",
       "뷔페                    12\n",
       "분식점                   12\n",
       "모범음식점                 12\n",
       "패밀리레스트랑               10\n",
       "별식                     8\n",
       "이색음식점                  7\n",
       "채식전문점                  7\n",
       "패밀리레스토랑                5\n",
       "식육                     2\n",
       "찜갈비                    2\n",
       "라이브카페                  2\n",
       "음식(한식)                 1\n",
       "횟집                     1\n",
       "Name: storeid, dtype: int64"
      ]
     },
     "execution_count": 25,
     "metadata": {},
     "output_type": "execute_result"
    }
   ],
   "source": [
    "# Category1의 종류가 현재 몇 개 있는지 살펴보자!\n",
    "stores.groupby('Category1').count().storeid.sort_values(ascending=False)"
   ]
  },
  {
   "cell_type": "markdown",
   "metadata": {},
   "source": [
    "#### 1)"
   ]
  },
  {
   "cell_type": "code",
   "execution_count": 40,
   "metadata": {},
   "outputs": [],
   "source": [
    "# '중식' -> '중국식'으로 통일\n",
    "stores.loc[stores[stores.Category1=='중식'].index,'Category1'] = '중국식'\n",
    "# '음식(한식)' -> '한식'\n",
    "stores.loc[stores[stores.Category1=='음식(한식)'].index,'Category1'] = '한식'\n",
    "# '양식' -> '서양식'\n",
    "stores.loc[stores[stores.Category1=='양식'].index,'Category1'] = '서양식'"
   ]
  },
  {
   "cell_type": "code",
   "execution_count": 41,
   "metadata": {},
   "outputs": [
    {
     "data": {
      "text/plain": [
       "array(['한식', nan, '경양식', '기타', '김밥(도시락)', '분식', '뷔페식', '식육(숯불구이)', '일식',\n",
       "       '중국식', '통닭(치킨)', '회집', '서양식', '식육', '일반음식점', '탕류(보신용)', '패스트푸드',\n",
       "       '외국음식전문점(인도,태국등)', '외국음식전문점', '푸드트럭', '이색음식점', '모범음식점', '복어취급',\n",
       "       '아시아식', '뷔페', '냉면집', '패밀리레스트랑', '횟집', '채식전문점', '분식점', '찜갈비', '별식',\n",
       "       '패밀리레스토랑', '라이브카페'], dtype=object)"
      ]
     },
     "execution_count": 41,
     "metadata": {},
     "output_type": "execute_result"
    }
   ],
   "source": [
    "stores.Category1.unique()"
   ]
  },
  {
   "cell_type": "markdown",
   "metadata": {},
   "source": [
    "##### 2) Category2로 이동할 값들 찾기\n",
    "- 경양식, 김밥(도시락), 분식, 뷔페식, 식육(숯불구이) 등등 \n",
    "- 위와 같은 소분류는 모두 Category2로 복붙하고 Category1은 '한식'으로 분류한다.\n",
    "- Category2에 있던 값이 사라지면 어떻게 될지 걱정하지 않아도 된다.\n",
    "- Category2는 menu와 현재 동일한 값을 가지고 있으니 상관 없다."
   ]
  },
  {
   "cell_type": "code",
   "execution_count": 117,
   "metadata": {},
   "outputs": [
    {
     "data": {
      "text/html": [
       "<div>\n",
       "<style scoped>\n",
       "    .dataframe tbody tr th:only-of-type {\n",
       "        vertical-align: middle;\n",
       "    }\n",
       "\n",
       "    .dataframe tbody tr th {\n",
       "        vertical-align: top;\n",
       "    }\n",
       "\n",
       "    .dataframe thead th {\n",
       "        text-align: right;\n",
       "    }\n",
       "</style>\n",
       "<table border=\"1\" class=\"dataframe\">\n",
       "  <thead>\n",
       "    <tr style=\"text-align: right;\">\n",
       "      <th></th>\n",
       "      <th>Title</th>\n",
       "      <th>storename</th>\n",
       "      <th>Region</th>\n",
       "      <th>Sigungu</th>\n",
       "      <th>search_area</th>\n",
       "      <th>Category1</th>\n",
       "      <th>Category2</th>\n",
       "      <th>menu</th>\n",
       "      <th>Blog</th>\n",
       "      <th>reviews_num</th>\n",
       "    </tr>\n",
       "    <tr>\n",
       "      <th>storeid</th>\n",
       "      <th></th>\n",
       "      <th></th>\n",
       "      <th></th>\n",
       "      <th></th>\n",
       "      <th></th>\n",
       "      <th></th>\n",
       "      <th></th>\n",
       "      <th></th>\n",
       "      <th></th>\n",
       "      <th></th>\n",
       "    </tr>\n",
       "  </thead>\n",
       "  <tbody>\n",
       "  </tbody>\n",
       "</table>\n",
       "</div>"
      ],
      "text/plain": [
       "Empty DataFrame\n",
       "Columns: [Title, storename, Region, Sigungu, search_area, Category1, Category2, menu, Blog, reviews_num]\n",
       "Index: []"
      ]
     },
     "execution_count": 117,
     "metadata": {},
     "output_type": "execute_result"
    }
   ],
   "source": [
    "# Category1이 '경양식'으로 분류된 애들은 'Category2' 값으로 '경양식'을 주고 'Category1'은 '한식'으로 바꾼다.\n",
    "stores[stores.Category1 == '경양식'].head(3)"
   ]
  },
  {
   "cell_type": "code",
   "execution_count": 46,
   "metadata": {},
   "outputs": [],
   "source": [
    "# stores.loc[바꿀 행의 인덱스, 바꿀 컬럼] = 바꿀 값\n",
    "\n",
    "# 먼저 Category2 값을 바꾼다.\n",
    "stores.loc[stores[stores.Category1=='경양식'].index,'Category2'] = '경양식'\n",
    "# 그 다음에 Category1 값을 바꾼다.\n",
    "stores.loc[stores[stores.Category1=='경양식'].index, 'Category1'] = '한식'"
   ]
  },
  {
   "cell_type": "code",
   "execution_count": 47,
   "metadata": {},
   "outputs": [
    {
     "data": {
      "text/plain": [
       "array(['한식', nan, '기타', '김밥(도시락)', '분식', '뷔페식', '식육(숯불구이)', '일식', '중국식',\n",
       "       '통닭(치킨)', '회집', '서양식', '식육', '일반음식점', '탕류(보신용)', '패스트푸드',\n",
       "       '외국음식전문점(인도,태국등)', '외국음식전문점', '푸드트럭', '이색음식점', '모범음식점', '복어취급',\n",
       "       '아시아식', '뷔페', '냉면집', '패밀리레스트랑', '횟집', '채식전문점', '분식점', '찜갈비', '별식',\n",
       "       '패밀리레스토랑', '라이브카페'], dtype=object)"
      ]
     },
     "execution_count": 47,
     "metadata": {},
     "output_type": "execute_result"
    }
   ],
   "source": [
    "stores.Category1.unique()"
   ]
  },
  {
   "cell_type": "code",
   "execution_count": 59,
   "metadata": {},
   "outputs": [],
   "source": [
    "# 경양식이 정리되었다.\n",
    "# 같은 방식으로 다른 모든 Category1을 대분류 6가지로 나눈다. (nan 값 제외)\n",
    "# 대분류 : 한식,중국식,일식,서양식,아시아식,기타외국음식  (6개) *추가할 필요가 있으면 회의해서 추가하세요!\n",
    "# 일반음식점,모범음식점 같이 애매한 건 그냥 '한식'으로 분류해도 상관없다."
   ]
  },
  {
   "cell_type": "code",
   "execution_count": null,
   "metadata": {},
   "outputs": [],
   "source": []
  },
  {
   "cell_type": "code",
   "execution_count": null,
   "metadata": {},
   "outputs": [],
   "source": []
  },
  {
   "cell_type": "markdown",
   "metadata": {},
   "source": [
    "<br><br>"
   ]
  },
  {
   "cell_type": "markdown",
   "metadata": {},
   "source": [
    "#### 2-3. 가게이름으로 'Category2' 채우기 "
   ]
  },
  {
   "cell_type": "code",
   "execution_count": 102,
   "metadata": {},
   "outputs": [
    {
     "name": "stdout",
     "output_type": "stream",
     "text": [
      "None\n",
      "<_sre.SRE_Match object; span=(2, 4), match='고기'>\n"
     ]
    }
   ],
   "source": [
    "# re 사용법 익히기\n",
    "# re.search(키워드,검색할스트링) -> '검색할스트링'에서 '키워드'를 찾는다.\n",
    "#                           -> '키워드'를 발견하면 첫 번째 발견한 키워드의 위치를 반환한다.\n",
    "#                           ->  첫 번째 키워드를 발견했다면 즉시 re.search 메소드가 종료된다. 두 번째 키워드까지 찾지 않는다는 뜻.\n",
    "#                           -> '키워드'를 발견하지 못하면 None을 반환한다.\n",
    "\n",
    "ss='오리고기 돼지고기 양고기'\n",
    "rr = re.search('고기고기',ss)\n",
    "print(rr)\n",
    "rr = re.search('고기',ss)\n",
    "print(rr)"
   ]
  },
  {
   "cell_type": "code",
   "execution_count": 106,
   "metadata": {},
   "outputs": [
    {
     "data": {
      "text/html": [
       "<div>\n",
       "<style scoped>\n",
       "    .dataframe tbody tr th:only-of-type {\n",
       "        vertical-align: middle;\n",
       "    }\n",
       "\n",
       "    .dataframe tbody tr th {\n",
       "        vertical-align: top;\n",
       "    }\n",
       "\n",
       "    .dataframe thead th {\n",
       "        text-align: right;\n",
       "    }\n",
       "</style>\n",
       "<table border=\"1\" class=\"dataframe\">\n",
       "  <thead>\n",
       "    <tr style=\"text-align: right;\">\n",
       "      <th></th>\n",
       "      <th>ss</th>\n",
       "      <th>find</th>\n",
       "    </tr>\n",
       "  </thead>\n",
       "  <tbody>\n",
       "    <tr>\n",
       "      <th>0</th>\n",
       "      <td>오리고기</td>\n",
       "      <td>2</td>\n",
       "    </tr>\n",
       "    <tr>\n",
       "      <th>1</th>\n",
       "      <td>양고기</td>\n",
       "      <td>1</td>\n",
       "    </tr>\n",
       "    <tr>\n",
       "      <th>2</th>\n",
       "      <td>스타벅스</td>\n",
       "      <td>-1</td>\n",
       "    </tr>\n",
       "    <tr>\n",
       "      <th>3</th>\n",
       "      <td>돼지고기</td>\n",
       "      <td>2</td>\n",
       "    </tr>\n",
       "    <tr>\n",
       "      <th>4</th>\n",
       "      <td>냉면</td>\n",
       "      <td>-1</td>\n",
       "    </tr>\n",
       "    <tr>\n",
       "      <th>5</th>\n",
       "      <td>양장피</td>\n",
       "      <td>-1</td>\n",
       "    </tr>\n",
       "    <tr>\n",
       "      <th>6</th>\n",
       "      <td>맛있는고기</td>\n",
       "      <td>3</td>\n",
       "    </tr>\n",
       "    <tr>\n",
       "      <th>7</th>\n",
       "      <td>고기전문점</td>\n",
       "      <td>0</td>\n",
       "    </tr>\n",
       "  </tbody>\n",
       "</table>\n",
       "</div>"
      ],
      "text/plain": [
       "      ss  find\n",
       "0   오리고기     2\n",
       "1    양고기     1\n",
       "2   스타벅스    -1\n",
       "3   돼지고기     2\n",
       "4     냉면    -1\n",
       "5    양장피    -1\n",
       "6  맛있는고기     3\n",
       "7  고기전문점     0"
      ]
     },
     "execution_count": 106,
     "metadata": {},
     "output_type": "execute_result"
    }
   ],
   "source": [
    "# 이 메소드를 Series에 사용하려면? Series.str.find 메소드를 써야한다. \n",
    "# (Series.str : 시리즈안의 값이 str일 때 스트링메소드를 적용하기 위해 쓰는 메소드)\n",
    "dd = pd.DataFrame({\n",
    "    'ss' : ['오리고기', '양고기', '스타벅스', '돼지고기', '냉면', '양장피', '맛있는고기', '고기전문점']\n",
    "})\n",
    "\n",
    "# Series.str.find(키워드) 메소드는 키워드를 발견하면 그 키워드의 시작 위치를 반환한다.\n",
    "# 키워드를 발견하지 못하면 -1을 반환한다.\n",
    "dd['find'] = dd.ss.str.find('고기')\n",
    "dd"
   ]
  },
  {
   "cell_type": "code",
   "execution_count": 105,
   "metadata": {},
   "outputs": [
    {
     "data": {
      "text/html": [
       "<div>\n",
       "<style scoped>\n",
       "    .dataframe tbody tr th:only-of-type {\n",
       "        vertical-align: middle;\n",
       "    }\n",
       "\n",
       "    .dataframe tbody tr th {\n",
       "        vertical-align: top;\n",
       "    }\n",
       "\n",
       "    .dataframe thead th {\n",
       "        text-align: right;\n",
       "    }\n",
       "</style>\n",
       "<table border=\"1\" class=\"dataframe\">\n",
       "  <thead>\n",
       "    <tr style=\"text-align: right;\">\n",
       "      <th></th>\n",
       "      <th>ss</th>\n",
       "      <th>find</th>\n",
       "    </tr>\n",
       "  </thead>\n",
       "  <tbody>\n",
       "    <tr>\n",
       "      <th>0</th>\n",
       "      <td>오리고기</td>\n",
       "      <td>2</td>\n",
       "    </tr>\n",
       "    <tr>\n",
       "      <th>1</th>\n",
       "      <td>양고기</td>\n",
       "      <td>1</td>\n",
       "    </tr>\n",
       "    <tr>\n",
       "      <th>3</th>\n",
       "      <td>돼지고기</td>\n",
       "      <td>2</td>\n",
       "    </tr>\n",
       "    <tr>\n",
       "      <th>6</th>\n",
       "      <td>맛있는고기</td>\n",
       "      <td>3</td>\n",
       "    </tr>\n",
       "    <tr>\n",
       "      <th>7</th>\n",
       "      <td>고기전문점</td>\n",
       "      <td>0</td>\n",
       "    </tr>\n",
       "  </tbody>\n",
       "</table>\n",
       "</div>"
      ],
      "text/plain": [
       "      ss  find\n",
       "0   오리고기     2\n",
       "1    양고기     1\n",
       "3   돼지고기     2\n",
       "6  맛있는고기     3\n",
       "7  고기전문점     0"
      ]
     },
     "execution_count": 105,
     "metadata": {},
     "output_type": "execute_result"
    }
   ],
   "source": [
    "# 데이터프레임의 ss컬럼에서 '고기'를 포함한 결과만 추출하고 싶다면?\n",
    "# '불리언 색인'과 'Series.str.find' 메소드를 이용한다.\n",
    "dd[dd['ss'].str.find('고기') != -1]"
   ]
  },
  {
   "cell_type": "code",
   "execution_count": 63,
   "metadata": {},
   "outputs": [
    {
     "data": {
      "text/plain": [
       "(19538, 11)"
      ]
     },
     "execution_count": 63,
     "metadata": {},
     "output_type": "execute_result"
    }
   ],
   "source": [
    "# Category2 na값을 살펴보자. 엄청 많다.. 이걸 웬만하면 다 채우는 것이 좋다.\n",
    "# Category2는 매우 중요하다 '경양식'집 추천해줘 할 때 Category2에 '경양식' 값이 들어있어야 검색이 되어서 추천이 가능하기 때문이다.\n",
    "stores[stores.Category2.isna()].shape"
   ]
  },
  {
   "cell_type": "code",
   "execution_count": 118,
   "metadata": {},
   "outputs": [
    {
     "data": {
      "text/html": [
       "<div>\n",
       "<style scoped>\n",
       "    .dataframe tbody tr th:only-of-type {\n",
       "        vertical-align: middle;\n",
       "    }\n",
       "\n",
       "    .dataframe tbody tr th {\n",
       "        vertical-align: top;\n",
       "    }\n",
       "\n",
       "    .dataframe thead th {\n",
       "        text-align: right;\n",
       "    }\n",
       "</style>\n",
       "<table border=\"1\" class=\"dataframe\">\n",
       "  <thead>\n",
       "    <tr style=\"text-align: right;\">\n",
       "      <th></th>\n",
       "      <th>Title</th>\n",
       "      <th>storename</th>\n",
       "      <th>Region</th>\n",
       "      <th>Sigungu</th>\n",
       "      <th>search_area</th>\n",
       "      <th>Category1</th>\n",
       "      <th>Category2</th>\n",
       "      <th>menu</th>\n",
       "      <th>Blog</th>\n",
       "      <th>reviews_num</th>\n",
       "    </tr>\n",
       "    <tr>\n",
       "      <th>storeid</th>\n",
       "      <th></th>\n",
       "      <th></th>\n",
       "      <th></th>\n",
       "      <th></th>\n",
       "      <th></th>\n",
       "      <th></th>\n",
       "      <th></th>\n",
       "      <th></th>\n",
       "      <th></th>\n",
       "      <th></th>\n",
       "    </tr>\n",
       "  </thead>\n",
       "  <tbody>\n",
       "    <tr>\n",
       "      <th>14664</th>\n",
       "      <td>오대옥천냉면</td>\n",
       "      <td>오대옥천냉면</td>\n",
       "      <td>전라남도</td>\n",
       "      <td>순천시</td>\n",
       "      <td>순천</td>\n",
       "      <td>NaN</td>\n",
       "      <td>냉면</td>\n",
       "      <td>냉면</td>\n",
       "      <td>15</td>\n",
       "      <td>4</td>\n",
       "    </tr>\n",
       "    <tr>\n",
       "      <th>16083</th>\n",
       "      <td>설악냉면</td>\n",
       "      <td>설악냉면</td>\n",
       "      <td>전라북도</td>\n",
       "      <td>부안군</td>\n",
       "      <td>부안</td>\n",
       "      <td>한식</td>\n",
       "      <td>냉면</td>\n",
       "      <td>냉면, 콩나물국밥</td>\n",
       "      <td>97</td>\n",
       "      <td>2</td>\n",
       "    </tr>\n",
       "    <tr>\n",
       "      <th>17035</th>\n",
       "      <td>청수골냉면</td>\n",
       "      <td>청수골냉면</td>\n",
       "      <td>전라북도</td>\n",
       "      <td>임실군</td>\n",
       "      <td>임실</td>\n",
       "      <td>NaN</td>\n",
       "      <td>냉면</td>\n",
       "      <td>NaN</td>\n",
       "      <td>17</td>\n",
       "      <td>6</td>\n",
       "    </tr>\n",
       "    <tr>\n",
       "      <th>121055</th>\n",
       "      <td>(주)팔당냉면</td>\n",
       "      <td>(주)팔당냉면</td>\n",
       "      <td>경기도</td>\n",
       "      <td>양주시</td>\n",
       "      <td>양주</td>\n",
       "      <td>한식</td>\n",
       "      <td>냉면</td>\n",
       "      <td>NaN</td>\n",
       "      <td>50</td>\n",
       "      <td>1</td>\n",
       "    </tr>\n",
       "    <tr>\n",
       "      <th>144896</th>\n",
       "      <td>30년전통 속초코다리 냉면</td>\n",
       "      <td>30년전통속초코다리냉면</td>\n",
       "      <td>부산</td>\n",
       "      <td>사상구</td>\n",
       "      <td>사상</td>\n",
       "      <td>NaN</td>\n",
       "      <td>냉면</td>\n",
       "      <td>NaN</td>\n",
       "      <td>23</td>\n",
       "      <td>4</td>\n",
       "    </tr>\n",
       "    <tr>\n",
       "      <th>...</th>\n",
       "      <td>...</td>\n",
       "      <td>...</td>\n",
       "      <td>...</td>\n",
       "      <td>...</td>\n",
       "      <td>...</td>\n",
       "      <td>...</td>\n",
       "      <td>...</td>\n",
       "      <td>...</td>\n",
       "      <td>...</td>\n",
       "      <td>...</td>\n",
       "    </tr>\n",
       "    <tr>\n",
       "      <th>120993</th>\n",
       "      <td>홍경백함흥냉면</td>\n",
       "      <td>홍경백함흥냉면</td>\n",
       "      <td>경기도</td>\n",
       "      <td>안양시</td>\n",
       "      <td>안양</td>\n",
       "      <td>분식</td>\n",
       "      <td>냉면</td>\n",
       "      <td>NaN</td>\n",
       "      <td>16</td>\n",
       "      <td>6</td>\n",
       "    </tr>\n",
       "    <tr>\n",
       "      <th>140458</th>\n",
       "      <td>화성냉면</td>\n",
       "      <td>화성냉면</td>\n",
       "      <td>경기도</td>\n",
       "      <td>화성시</td>\n",
       "      <td>화성</td>\n",
       "      <td>한식</td>\n",
       "      <td>냉면</td>\n",
       "      <td>NaN</td>\n",
       "      <td>22</td>\n",
       "      <td>3</td>\n",
       "    </tr>\n",
       "    <tr>\n",
       "      <th>95444</th>\n",
       "      <td>화정함흥냉면</td>\n",
       "      <td>화정함흥냉면</td>\n",
       "      <td>경기도</td>\n",
       "      <td>고양시</td>\n",
       "      <td>고양</td>\n",
       "      <td>한식</td>\n",
       "      <td>냉면</td>\n",
       "      <td>한식</td>\n",
       "      <td>63</td>\n",
       "      <td>13</td>\n",
       "    </tr>\n",
       "    <tr>\n",
       "      <th>173613</th>\n",
       "      <td>화평동 할머니 냉면</td>\n",
       "      <td>화평동할머니냉면</td>\n",
       "      <td>인천</td>\n",
       "      <td>남동구</td>\n",
       "      <td>남동</td>\n",
       "      <td>한식</td>\n",
       "      <td>냉면</td>\n",
       "      <td>NaN</td>\n",
       "      <td>23</td>\n",
       "      <td>1</td>\n",
       "    </tr>\n",
       "    <tr>\n",
       "      <th>167542</th>\n",
       "      <td>화평동세숫대야냉면</td>\n",
       "      <td>화평동세숫대야냉면</td>\n",
       "      <td>인천</td>\n",
       "      <td>중구</td>\n",
       "      <td>인천</td>\n",
       "      <td>분식</td>\n",
       "      <td>냉면</td>\n",
       "      <td>NaN</td>\n",
       "      <td>32</td>\n",
       "      <td>10</td>\n",
       "    </tr>\n",
       "  </tbody>\n",
       "</table>\n",
       "<p>135 rows × 10 columns</p>\n",
       "</div>"
      ],
      "text/plain": [
       "                  Title     storename Region Sigungu search_area Category1  \\\n",
       "storeid                                                                      \n",
       "14664            오대옥천냉면        오대옥천냉면   전라남도     순천시          순천       NaN   \n",
       "16083              설악냉면          설악냉면   전라북도     부안군          부안        한식   \n",
       "17035             청수골냉면         청수골냉면   전라북도     임실군          임실       NaN   \n",
       "121055          (주)팔당냉면       (주)팔당냉면    경기도     양주시          양주        한식   \n",
       "144896   30년전통 속초코다리 냉면  30년전통속초코다리냉면     부산     사상구          사상       NaN   \n",
       "...                 ...           ...    ...     ...         ...       ...   \n",
       "120993          홍경백함흥냉면       홍경백함흥냉면    경기도     안양시          안양        분식   \n",
       "140458             화성냉면          화성냉면    경기도     화성시          화성        한식   \n",
       "95444            화정함흥냉면        화정함흥냉면    경기도     고양시          고양        한식   \n",
       "173613       화평동 할머니 냉면      화평동할머니냉면     인천     남동구          남동        한식   \n",
       "167542        화평동세숫대야냉면     화평동세숫대야냉면     인천      중구          인천        분식   \n",
       "\n",
       "        Category2       menu  Blog  reviews_num  \n",
       "storeid                                          \n",
       "14664          냉면         냉면    15            4  \n",
       "16083          냉면  냉면, 콩나물국밥    97            2  \n",
       "17035          냉면        NaN    17            6  \n",
       "121055         냉면        NaN    50            1  \n",
       "144896         냉면        NaN    23            4  \n",
       "...           ...        ...   ...          ...  \n",
       "120993         냉면        NaN    16            6  \n",
       "140458         냉면        NaN    22            3  \n",
       "95444          냉면         한식    63           13  \n",
       "173613         냉면        NaN    23            1  \n",
       "167542         냉면        NaN    32           10  \n",
       "\n",
       "[135 rows x 10 columns]"
      ]
     },
     "execution_count": 118,
     "metadata": {},
     "output_type": "execute_result"
    }
   ],
   "source": [
    "# 가게명에 '냉면'이 들어간 집은 냉면 전문점일 것이다.\n",
    "keyword = '냉면'\n",
    "stores[stores.Title.str.find(keyword) != -1]"
   ]
  },
  {
   "cell_type": "code",
   "execution_count": 108,
   "metadata": {},
   "outputs": [],
   "source": [
    "# 위 135개 row의 Category2에 '냉면'을 입력하면 된다!\n",
    "# '설악냉면'의 Category2에는 '냉면, 콩나물국밥' 이렇게 2개가 있지만,\n",
    "# '콩나물국밥'은 '설악냉면'의 menu에 이미 있기 때문에 Category2에서 지워도 상관없다.\n",
    "# Category2는 이 가게의 정체성이라고 할 수 있는 '냉면'만 입력하는 것이 바람직하다.\n",
    "\n",
    "# 데이터프레임 속에서 특정 row를 추출하고 그 row의 특정 컬럼 값을 바꾸고 싶을 때 쓰는 방법:\n",
    "# 데이터프레임.loc[특정row의 index, 특정컬럼명] = 바꿀값\n",
    "\n",
    "keyword = '냉면'\n",
    "# Title에서 keyword인 '냉면'을 포함하는 row들의 index를 모두 idxs에 저장한다.\n",
    "idxs = stores[stores.Title.str.find(keyword) != -1].index\n",
    "stores.loc[idxs, 'Category2'] = '냉면'"
   ]
  },
  {
   "cell_type": "code",
   "execution_count": 119,
   "metadata": {},
   "outputs": [
    {
     "data": {
      "text/html": [
       "<div>\n",
       "<style scoped>\n",
       "    .dataframe tbody tr th:only-of-type {\n",
       "        vertical-align: middle;\n",
       "    }\n",
       "\n",
       "    .dataframe tbody tr th {\n",
       "        vertical-align: top;\n",
       "    }\n",
       "\n",
       "    .dataframe thead th {\n",
       "        text-align: right;\n",
       "    }\n",
       "</style>\n",
       "<table border=\"1\" class=\"dataframe\">\n",
       "  <thead>\n",
       "    <tr style=\"text-align: right;\">\n",
       "      <th></th>\n",
       "      <th>Title</th>\n",
       "      <th>storename</th>\n",
       "      <th>Region</th>\n",
       "      <th>Sigungu</th>\n",
       "      <th>search_area</th>\n",
       "      <th>Category1</th>\n",
       "      <th>Category2</th>\n",
       "      <th>menu</th>\n",
       "      <th>Blog</th>\n",
       "      <th>reviews_num</th>\n",
       "    </tr>\n",
       "    <tr>\n",
       "      <th>storeid</th>\n",
       "      <th></th>\n",
       "      <th></th>\n",
       "      <th></th>\n",
       "      <th></th>\n",
       "      <th></th>\n",
       "      <th></th>\n",
       "      <th></th>\n",
       "      <th></th>\n",
       "      <th></th>\n",
       "      <th></th>\n",
       "    </tr>\n",
       "  </thead>\n",
       "  <tbody>\n",
       "    <tr>\n",
       "      <th>16083</th>\n",
       "      <td>설악냉면</td>\n",
       "      <td>설악냉면</td>\n",
       "      <td>전라북도</td>\n",
       "      <td>부안군</td>\n",
       "      <td>부안</td>\n",
       "      <td>한식</td>\n",
       "      <td>냉면</td>\n",
       "      <td>냉면, 콩나물국밥</td>\n",
       "      <td>97</td>\n",
       "      <td>2</td>\n",
       "    </tr>\n",
       "  </tbody>\n",
       "</table>\n",
       "</div>"
      ],
      "text/plain": [
       "        Title storename Region Sigungu search_area Category1 Category2  \\\n",
       "storeid                                                                  \n",
       "16083    설악냉면      설악냉면   전라북도     부안군          부안        한식        냉면   \n",
       "\n",
       "              menu  Blog  reviews_num  \n",
       "storeid                                \n",
       "16083    냉면, 콩나물국밥    97            2  "
      ]
     },
     "execution_count": 119,
     "metadata": {},
     "output_type": "execute_result"
    }
   ],
   "source": [
    "# 다시 설악냉면이 잘 바꿔졌는지 살펴본다.\n",
    "stores[stores.Title=='설악냉면']"
   ]
  },
  {
   "cell_type": "code",
   "execution_count": 110,
   "metadata": {},
   "outputs": [],
   "source": [
    "# 이런식으로 최대한 Category2를 채운다.\n",
    "# 하다가 다시 되돌려야할 때도 있으니까 중간중간 저장을 해준다.\n",
    "stores.to_csv('./가게리스트_reviews_정제중.csv', encoding='utf-8')"
   ]
  },
  {
   "cell_type": "code",
   "execution_count": 121,
   "metadata": {},
   "outputs": [
    {
     "data": {
      "text/plain": [
       "array(['갈매기살', '갈비', '갈비. 삼겹살, 냉면', '갈비류', '갈비살', '갈비살, 안창살', '갈비살등',\n",
       "       '갈비정식', '갈비탕', '갈치요리', '갈치조림', '갈치조림. 고등어조림', '감성주점', '감자탕',\n",
       "       '게국지, 간장게장, 꽃게탕', '게장', '경양식', '고기', '고기국수. 비빔국수', '고기류', '고기뷔페',\n",
       "       '고등어조림', '곤드레밥', '곰탕', '곰탕,설렁탕', '곱창', '곱창 등', '곱창구이', '곱창전골',\n",
       "       '구이(쇠고기/삼겹살/돼지갈비)', '구이류, 버섯전골', '구이류,국밥', '국밥', '국수', '굴밥,굴요리',\n",
       "       '굴비정식', '굴비한정식', '굴요리전문', '궁보계정, 북경식탕수육', '기타', '김밥(도시락)', '김치찌개',\n",
       "       '까페', '꼬리곰탕', '꼬막', '꽃게, 돌게정식', '꽃게게장정식', '꽃게무침', '꽃게장', '꽃게탕',\n",
       "       '낙지', '낙지요리', '남도요리', '냉면', '냉면집', '능이닭곰탕', '능이백숙코스',\n",
       "       '능이오리백숙, 자연산버섯찌개, 김치찌개, 된장찌개', '다슬기탕, 국밥', '닭백숙', '닭요리', '닭한마리',\n",
       "       '대구찜', '대구탕', '대구탕, 장어구이', '대방어회. 갈치조림', '대통밥', '더덕정식',\n",
       "       '도루묵,가자미찌개', '도토리요리', '돈까스', '돈까스, 초계국수', '돌솥밥',\n",
       "       '돌솥밥, 오리로스구이, 오리탕', '동태찜,해물찜', '동태탕', '돼지갈비', '돼지갈비, 삼겹살',\n",
       "       '돼지갈비, 정식', '돼지갈비,돌솥밥', '돼지갈비,소갈비', '돼지갈비구이', '돼지고기',\n",
       "       '돼지고기, 주꾸미, 냉면', '돼지고기정식', '돼지국밥', '돼지국밥/뼈해장국/삼겹살수육',\n",
       "       '돼지막창, 양념돼지갈비, 삼겹살', '돼지불고기', '두루치기정식,육회비빔밥', '두부', '등심',\n",
       "       '등심,꽃살구이,갈비탕,육개장', '떡갈비', '떡갈비  정식', '떡갈비,비빔밥', '떡갈비정식', '라이브카페',\n",
       "       '마늘약선정식', '매운탕', '머리국밥,머리수육', '멸치회, 쌈밥정식', '모듬똥집', '모듬초밥', '모듬회',\n",
       "       '모듬회, 매운탕', '모듬회등', '묵밥, 묵무침, 묵빈대떡', '묵은지감자탕', '묵은지닭매운탕', '묵은지찜',\n",
       "       '미역국', '민물매운탕', '민물장어/간장게장', '민물장어구이', '민어', '민어탕', '밀냉면', '밀면',\n",
       "       '바다회', '바지락 칼국수', '바지락죽', '백반', '백반, 전복죽', '백숙', '버섯요리',\n",
       "       '베이징덕, 딤섬', '보말국. 보말칼국수', '보쌈, 부대찌개', '복매운탕', '복어탕, 복지리, 복불고기',\n",
       "       '복요리.시래기갈치고등어조림', '복탕', '복탕,복찜,아구찜', '볼테기탕', '분식', '불고기',\n",
       "       '불고기 산채정식', '불고기, 양대창구이', '불고기,백숙', '붕어찜', '뷔페', '뷔페식', '비빔국수/칼국수',\n",
       "       '비빔밥', '뼈다귀해장국, 등뼈찜', '산낙지비빔밥', '삼겹살', '삼겹살(8,000원), 김치찌개(5,000원)',\n",
       "       '삼겹살, 돼지갈비, 소갈비살', '삼겹살/오리구이.탕/돼지갈비.찜/백반', '삼계탕', '샐러드,피자,파스타,커피',\n",
       "       '생고기', '생고기, 삼겹살', '생고기,곰탕,쇠고기구이,샤브샤브,비빔밥', '생고기,육회', '생삼겹',\n",
       "       '생선구이', '생선찜', '생선초밥', '생선회', '생선회,매운탕', '생선회,찜', '생선회,초밥',\n",
       "       '생선회,해물탕', '생선회/매운탕', '생오리,생삼겹', '생태탕', '샤브샤브', '샤브샤브,월남쌈',\n",
       "       '석쇠구이,국밥', '설렁탕', '소, 돼지갈비', '소,돼지갈비', '소갈비', '소갈비, 냉면',\n",
       "       '소갈비, 돼지갈비', '소갈비,회일식', '소갈비살,산채비빔밥', '소고기', '소고기 코스요리',\n",
       "       '소고기구이, 갈비탕', '소곱창', '송정스페셜, 참치스페셜', '수구레국밥,소머리국밥',\n",
       "       '수제비 / 국수 / 국시기', '숙성 한우구이', '순대국', '순대국,돼지갈비', '순대국밥',\n",
       "       '순대전골, 모듬순대', '순두부백반', '순두부찌개', '순두부찌게', '숯불갈비', '스테이크',\n",
       "       '식육(숯불구이)', '쌈밥', '쌈밥/오삼불고기/오리.삼겹살.닭구이', '쌈밥정식',\n",
       "       '쌈정식, 코다리정식, 약채정식', '쌈제육정식', '쏘가리매운탕, 메기매운탕', '쏘가리탕', '아구찜',\n",
       "       '아구찜,오리고기', '아구탕', '아구해물찜', '아귀찜,탕', '아나고탕, 닭볶음탕', '약채밥상', '양곱창',\n",
       "       '양식', '염소고기', '영양솥밥', '오겹살, 항정살', '오리고기', '오리누룽지백숙',\n",
       "       '오리모듬세트. 생주물럭', '오리불고기', '오리양념불고기/오리탕/오리생소금구이', '오리전골', '오리훈제',\n",
       "       '오리훈제/소갈비살', '올갱이해장국', '외국음식전문점(인도,태국등)', '우렁쌈밥정식',\n",
       "       '울금떡갈비정식, 버섯불고기정식', '인도, 태국', '인도,태국', '인삼정식+삼계탕', '일식', '자연산버섯찌개',\n",
       "       '자연산회', '자장면', '장어', '장어구이', '장어구이,장어탕', '장어요리', '장어탕',\n",
       "       '장어탕,전복탕,장어구이', '전골류', '전복', '전복뚝배기. 조림', '전복죽', '전복코스요리', '전통찻집',\n",
       "       '정식', '정식, 갈비, 삼겹살', '정식코스', '정종/대포집/소주방', '조개및삼겹살구이', '죽순나물밥 정식',\n",
       "       '중국식', '중화요리', '짜글이찌개', '짜장', '짜장. 짬뽕', '짜장면', '짬뽕', '쭈꾸미 낙지',\n",
       "       '쭈꾸미정식', '찌개', '찌게', '찜닭,치킨,똥집', '차돌박이갓삼합', '참복국, 복매운탕', '참숯갈비',\n",
       "       '참치/참가자미회', '참치회', '청국장', '청돼지, 돌돼지, 토마토 청국장', '초당순두부, 황태구이', '초밥',\n",
       "       '초밥, 스시', '초밥/대구탕/코스요리', '촌닭,오리백숙,송이백숙', '추어탕', '추어탕, 닭도리탕',\n",
       "       '추어탕,장어탕', '충무김밥', '칼국수', '칼국수, 수육', '커트', '콩나물국밥', '탕류(보신용)',\n",
       "       '터키음식, 케밥', '토종닭', '통닭(치킨)', '통오리구이', '파스타', '파스타 등', '파스타, 돈까스',\n",
       "       '팔도면요리', '패스트푸드', '피라미드 동파육, 매운갈비누룽지, 유린기', '피자', '한식', '한식뷔페',\n",
       "       '한식코스', '한우 한돈', '한우고기', '한우구이', '한우구이, 삼겹살구이', '한우구이,한우불고기',\n",
       "       '한우등심, 돼지고기 등', '한우떡갈비', '한우불고기, 꽃등심', '한우불고기,한우등심', '한우생갈비',\n",
       "       '한우특수부위, 갈비탕', '한정식', '한정식, 제주은갈치구이', '한정식, 한우육개장', '한정식,꽃게장',\n",
       "       '한정식,매생이국', '한정식,코스요리,굴비정식', '한정식/영양돌솥밥/고등어쌈밥정식/약선육낙전골/육낙',\n",
       "       '함박스테이크', '해물뚝배기', '해물전골', '해물탕', '해산물', '해산물한정식', '해장국',\n",
       "       '해장국,부대찌개,뼈마시전골', '현미채식', '호프/통닭', '홍어정식,삼합,보리애국', '화덕피자, 수제파스타',\n",
       "       '활어', '활어회', '활어회, 매운탕', '활어회, 매운탕, 된장물회', '활어회, 바지락회, 키조개구이',\n",
       "       '활어회. 매운탕', '활어회.매운탕', '황태구이백반', '회', '회무침', '회정식', '회집', '회초밥',\n",
       "       '훈제오리', '흑돼지구이', '흑돼지구이. 갈비탕', '흑돼지구이. 김치찌개', '흑돼지구이. 동치미국수',\n",
       "       '흑돼지구이. 해물찜', '흑염소탕', '흑염소탕, 전골', nan], dtype=object)"
      ]
     },
     "execution_count": 121,
     "metadata": {},
     "output_type": "execute_result"
    }
   ],
   "source": [
    "# Category2는 Category1처럼 완벽하게 정제할 필요는 없다.\n",
    "# 예를 들면 Category2에 '떡갈비, 비빔밥'이 있을 경우, 챗봇에서 '떡갈비'를 검색할 때 '떡갈비, 비빔밥'도 검색결과에 포함되기 때문에,\n",
    "# 굳이 비빔밥을 없앨 필요는 없다는 뜻이다. (하지만 떡갈비가 대표메뉴라면 없애는 것이 낫겠다.)\n",
    "# 웬만하면 통일할 수 있는 것은 통일하는 것이 좋다.\n",
    "# 예를 들면 '갈비살등','갈비','갈비류','갈비정식' -> '갈비'로 통일하는 것이 좋다.\n",
    "# '갈비탕'은 갈비요리중에서도 특정한 요리이니까 그대로 냅둔다.\n",
    "# '냉면','냉면집'은 -> '냉면'으로 통일한다.\n",
    "stores.Category2.sort_values().unique()"
   ]
  },
  {
   "cell_type": "code",
   "execution_count": null,
   "metadata": {},
   "outputs": [],
   "source": [
    "# 파이팅!"
   ]
  }
 ],
 "metadata": {
  "kernelspec": {
   "display_name": "Python 3",
   "language": "python",
   "name": "python3"
  },
  "language_info": {
   "codemirror_mode": {
    "name": "ipython",
    "version": 3
   },
   "file_extension": ".py",
   "mimetype": "text/x-python",
   "name": "python",
   "nbconvert_exporter": "python",
   "pygments_lexer": "ipython3",
   "version": "3.7.3"
  }
 },
 "nbformat": 4,
 "nbformat_minor": 2
}
